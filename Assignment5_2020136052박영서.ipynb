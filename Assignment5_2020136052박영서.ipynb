{
 "cells": [
  {
   "cell_type": "markdown",
   "id": "cc9d395a",
   "metadata": {},
   "source": [
    "> ## Assignment 5\n",
    "> ### 스크립트 프로그래밍\n",
    "> 2020136052 박영서"
   ]
  },
  {
   "cell_type": "markdown",
   "id": "c67ecce0",
   "metadata": {},
   "source": [
    "    1. 클래스와 모듈의 공통점과 차이점에 대해 설명하시오."
   ]
  },
  {
   "cell_type": "markdown",
   "id": "0c052143",
   "metadata": {},
   "source": [
    "> 모듈과 클래스는 용도에 맞도록 구성한 객체 멤버들을 캡슐화시킨 후 사용한다는 부분에서 공통점이 있다.\n",
    "\n",
    "> 차이점으로는, 클래스는 클래스의 범위와 용도를 정하여 그에 맞게 상속을 통한 인스턴스화 인터페이스 구현이 가능하지만, 모듈은 이런 구현이 불가능하다."
   ]
  },
  {
   "cell_type": "markdown",
   "id": "adb59f67",
   "metadata": {},
   "source": [
    "    2. 다형성에 대해 설명하고 다형성을 보여주는 자신만의 파이썬 코드 예제를 제시하시오."
   ]
  },
  {
   "cell_type": "markdown",
   "id": "4855eb88",
   "metadata": {},
   "source": [
    "> 하나의 객체가 여러가지 타입을 가질 수 있는 것이다. 메소드 오버라이드(메소드 재정의)도 이 다형성의 한 예라고 할 수 있다."
   ]
  },
  {
   "cell_type": "code",
   "execution_count": 10,
   "id": "01d6b75d",
   "metadata": {},
   "outputs": [],
   "source": [
    "class Warship : # 군함\n",
    "    \n",
    "    def __init__(self, name) : \n",
    "        self.name = name\n",
    "\n",
    "    def Fire(self) :\n",
    "        print(self.name + \" Fires!\")\n",
    "\n",
    "class Battleship(Warship) : # 전함\n",
    "\n",
    "    def Fire(self) :\n",
    "        print(\"Battleship \" + self.name + \" Fires!\")\n",
    "\n",
    "class Heavy_Cruiser(Warship) : # 중순양함\n",
    "\n",
    "    def Fire(self) :\n",
    "        print(\"Heavy Cruiser \" + self.name + \" Fires!\")\n",
    "\n",
    "class Aircraft_Carrier(Warship) : # 항공모함\n",
    "\n",
    "    def Fire(self) :\n",
    "        print(\"Aircraft \" + self.name + \" shoots out Navalized Aircrafts!\")"
   ]
  },
  {
   "cell_type": "code",
   "execution_count": 9,
   "id": "8c1ca5b9",
   "metadata": {},
   "outputs": [
    {
     "name": "stdout",
     "output_type": "stream",
     "text": [
      "Richelieu Fires!\n",
      "Battleship Prince of Wales Fires!\n",
      "Heavy Cruiser Printz Eugen Fires!\n",
      "Aircraft Akagi shoots out Navalized Aircrafts!\n"
     ]
    }
   ],
   "source": [
    "Richelieu_FFNF = Warship(\"Richelieu\")\n",
    "Prince_of_Wales_HMS = Battleship(\"Prince of Wales\")\n",
    "Printz_Eugen_KMS = Heavy_Cruiser(\"Printz Eugen\")\n",
    "Akagi_IJN = Aircraft_Carrier(\"Akagi\")\n",
    "\n",
    "Richelieu_FFNF.Fire()\n",
    "Prince_of_Wales_HMS.Fire()\n",
    "Printz_Eugen_KMS.Fire()\n",
    "Akagi_IJN.Fire()"
   ]
  },
  {
   "cell_type": "markdown",
   "id": "89bed65e",
   "metadata": {},
   "source": [
    "    3. 다음 각 요구사항 모두를 만족시키는 Counter 클래스를 코딩하시오 (정답을 각 요구사항별로 입력할 필요 없이 3번 문제에 대해 1개의 클래스 정의 코드를 제시하면 된다.)"
   ]
  },
  {
   "cell_type": "markdown",
   "id": "d29cbe68",
   "metadata": {},
   "source": [
    "* 요구사항 1. 생성자에 count 값과 step 값을 인자로 받을 수 있다.\n",
    "    * count: Counter 인스턴스가 지니는 초기 정수 값\n",
    "    * step: Counter 인스턴스의 count가 증가되는 증분 (defalt 값: 1)\n",
    "            >>> c = Counter(10)\n",
    "            >>> d = Counter(10, 2)"
   ]
  },
  {
   "cell_type": "markdown",
   "id": "893d59bf",
   "metadata": {},
   "source": [
    "* 요구사항 2. 다음과 같이 Counter의 인스턴스를 출력을 해주는 __str__() 메소드를 Counter 클래스 내에 구현하시오.\n",
    "            >>> print(c)\n",
    "            [Count (step: 1)] 10\n",
    "            >>> print(d)\n",
    "            [Count (step: 2)] 10"
   ]
  },
  {
   "cell_type": "markdown",
   "id": "65eb718a",
   "metadata": {},
   "source": [
    "* 요구사항 3. 다음과 같이 step에 주어진 증분만큼 count를 증가시키는 incr() 메소드를 Counter 클래스 내에 구현하시오.\n",
    "            >>> c.incr()\n",
    "            >>> d.incr()\n",
    "            >>> print(c)\n",
    "            [Count (step: 1)] 11\n",
    "            >>> print(d)\n",
    "            [Count (step: 2)] 12"
   ]
  },
  {
   "cell_type": "markdown",
   "id": "23d7c61a",
   "metadata": {},
   "source": [
    "* 요구사항 4. Counter 클래스 내에 관련 메소드를 추가하여 인스턴스 객체를 직접 호출(call)할 수 있도록 하시오. 인스턴스 객체를 직접 호출했을 때에 내부적으로 incr() 메소드를 호출하는 방법으로 구현하시오.\n",
    "            >>> c()\n",
    "            >>> d()\n",
    "            >>> print(c)\n",
    "            [Count (step: 1)] 12\n",
    "            >>> print(d)\n",
    "            [Count (step: 2)] 14"
   ]
  },
  {
   "cell_type": "markdown",
   "id": "b5c7e017",
   "metadata": {},
   "source": [
    "* 요구사항 5. 다음과 같은 두 개의 산술 연산 (+, -)이 수행될 수 있도록 Counter 클래스 내에 관련 메소드를 추가하시오.\n",
    "            >>> c = c + 5\n",
    "            >>> d = d - 5\n",
    "            >>> print(c)\n",
    "            [Count (step: 1)] 17\n",
    "            >>> print(d)\n",
    "            [Count (step: 2)] 9"
   ]
  },
  {
   "cell_type": "markdown",
   "id": "90fd7e94",
   "metadata": {},
   "source": [
    "* 요구사항 6. 다음과 같은 관계연산 (>, <, ==)이 수행될 수 있도록 Counter 클래스 내에 관련 메소드를 추가하시오.\n",
    "            >>> print(c > 10)\n",
    "            True\n",
    "            >>> print(d > 10)\n",
    "            False\n",
    "            >>> print(c < 10)\n",
    "            False\n",
    "            >>> print(d < 10)\n",
    "            True\n",
    "            >>> print(c == 17)\n",
    "            True\n",
    "            >>> print(d != 9)\n",
    "            False"
   ]
  },
  {
   "cell_type": "code",
   "execution_count": 22,
   "id": "af6bd244",
   "metadata": {},
   "outputs": [],
   "source": [
    "class Counter :\n",
    "    \n",
    "    def __init__(self, count = 1, step = 1) : # 생성자\n",
    "        self.count = count\n",
    "        self.step = step\n",
    "    \n",
    "    def __str__(self): # 요구사항 2번, 객체를 문자열 반환\n",
    "        return \"[Count (step: %d)] %d\" % (self.step, self.count)\n",
    "\n",
    "    def incr(self) : # 요구사항 3번, 증가 메소드\n",
    "        self.count += self.step \n",
    "\n",
    "    def __call__(self) : # 요구사항 4번, 인스턴스 호출\n",
    "        return self.incr()\n",
    "\n",
    "    def __add__(self, other) : # 요구사항 5번, 덧셈\n",
    "        self.count += other\n",
    "        return self.count\n",
    "\n",
    "    def __sub__(self, other) : # 요구사항 5번, 뺄셈\n",
    "        self.count -= other\n",
    "        return self.count\n",
    "\n",
    "    def __cmp__(self, other) : # 요구사항 6번, 비교\n",
    "\n",
    "        if (self.count < other.count) : # <\n",
    "            return False\n",
    "        elif (self.count > other.count) : # >\n",
    "            return True\n",
    "        else : # ==\n",
    "            return 0"
   ]
  },
  {
   "cell_type": "code",
   "execution_count": 12,
   "id": "ffec95c3",
   "metadata": {},
   "outputs": [],
   "source": [
    "c = Counter(10)\n",
    "d = Counter(10, 2)"
   ]
  },
  {
   "cell_type": "code",
   "execution_count": 14,
   "id": "dab26e06",
   "metadata": {},
   "outputs": [
    {
     "name": "stdout",
     "output_type": "stream",
     "text": [
      "[Count (step: 1)] 10\n",
      "[Count (step: 2)] 10\n"
     ]
    }
   ],
   "source": [
    "print(c)\n",
    "print(d)"
   ]
  },
  {
   "cell_type": "code",
   "execution_count": 15,
   "id": "3cf248f1",
   "metadata": {},
   "outputs": [
    {
     "name": "stdout",
     "output_type": "stream",
     "text": [
      "[Count (step: 1)] 11\n",
      "[Count (step: 2)] 12\n"
     ]
    }
   ],
   "source": [
    "c.incr()\n",
    "d.incr()\n",
    "print(c)\n",
    "print(d)"
   ]
  },
  {
   "cell_type": "code",
   "execution_count": 16,
   "id": "f652c542",
   "metadata": {},
   "outputs": [
    {
     "name": "stdout",
     "output_type": "stream",
     "text": [
      "[Count (step: 1)] 12\n",
      "[Count (step: 2)] 14\n"
     ]
    }
   ],
   "source": [
    "c()\n",
    "d()\n",
    "print(c)\n",
    "print(d)"
   ]
  },
  {
   "cell_type": "code",
   "execution_count": 19,
   "id": "68c743cd",
   "metadata": {},
   "outputs": [
    {
     "name": "stdout",
     "output_type": "stream",
     "text": [
      "17\n",
      "9\n"
     ]
    }
   ],
   "source": [
    "c = c + 5\n",
    "d = d - 5\n",
    "print(c)\n",
    "print(d)"
   ]
  },
  {
   "cell_type": "code",
   "execution_count": 21,
   "id": "3d88248c",
   "metadata": {},
   "outputs": [
    {
     "name": "stdout",
     "output_type": "stream",
     "text": [
      "True\n",
      "False\n",
      "False\n",
      "True\n",
      "True\n",
      "False\n"
     ]
    }
   ],
   "source": [
    "print(c > 10)\n",
    "print(d > 10)\n",
    "print(c < 10)\n",
    "print(d < 10)\n",
    "print(c == 17)\n",
    "print(d != 9)"
   ]
  },
  {
   "cell_type": "markdown",
   "id": "25a79560",
   "metadata": {},
   "source": [
    "> 모든 내장 메소드들이 정상적으로 사용된 것을 확인할 수 있다. __cmp__는 상위 버전에서 사용할 수 없다고 들었는데, 왜 사용이 가능한 것인지는 잘 모르겠다."
   ]
  },
  {
   "cell_type": "markdown",
   "id": "54d14166",
   "metadata": {},
   "source": [
    "    4. 다음은 내장 자료형 list를 서브클래싱하여 만든 MySet 클래스 정의 내용이다. 다음 클래스 정의에서 __init__(), __str()__(), elimicate_duplicate()의 세 개의 메소드 코드 내용을 자신이 다른 사람에게 가르친다고 생각하며 설명해보시오.\n",
    "\n",
    "* MySet은 집합(Set) 자료형을 정의하려는 의도하에 만들어진 클래스이다."
   ]
  },
  {
   "cell_type": "code",
   "execution_count": 23,
   "id": "9fb6ae92",
   "metadata": {},
   "outputs": [
    {
     "name": "stdout",
     "output_type": "stream",
     "text": [
      "MySet: {1 ,2 ,3}\n",
      "MySet: {2 ,3 ,4 ,5 ,6 ,7 ,8 ,9}\n"
     ]
    }
   ],
   "source": [
    "class MySet(list):\n",
    "    def __init__(self, l):\n",
    "        for e in l:\n",
    "            self.append(e)\n",
    "        MySet.eliminate_duplicate(self)\n",
    "    \n",
    "    def __str__(self):\n",
    "        result = \"MySet: {\"\n",
    "        for e in self:\n",
    "            result = result + str(e) + \" ,\"\n",
    "        result = result[0:len(result)-2] + \"}\"\n",
    "        return result\n",
    "\n",
    "    @staticmethod    \n",
    "    def eliminate_duplicate(l):\n",
    "        s = []\n",
    "        for e in l:\n",
    "            if e not in s:\n",
    "                s.append(e)\n",
    "        l[:] = []\n",
    "        for e in s:\n",
    "            l.append(e)\n",
    "\n",
    "    \n",
    "if __name__ == \"__main__\":\n",
    "    s = MySet([1, 2, 2, 3])\n",
    "    print(s)\n",
    "    t = MySet([2, 3, 4, 5, 6, 7, 8, 8, 8, 8, 8, 9])\n",
    "    print(t)"
   ]
  },
  {
   "cell_type": "markdown",
   "id": "6fcf9c02",
   "metadata": {},
   "source": [
    "> 생성자(__init__) : 인자로 리스트를 받고, 받은 리스트에 대해서 eliminate_duplicate() 작업을 수행해 리스트 내의 동일한 요소들을 제거한다.\n",
    "\n",
    "> 객체 문자열 변환(__str__) : 디폴트 출력문. 집합의 내부 요소들을 출력한다. 이 과정에서 ' , ' 기호나 공백같은 필요 없는 요소들을 반복문으로 제거하는 과정들이 수반된다.\n",
    "\n",
    "> 동일 요소 제거(eliminate_duplicate) : 인자로 리스트를 받고, 새로운 리스트(s)를 만들어 해당 리스트에 인자로 받은 리스트들의 요소(단, 중복된 요소들은 제거)를 넣어 리스트의 집합화를 꾀한다. 집합화된 리스트(l)의 요소들은 다시금 인자로 받은 리스트에 담기게 된다."
   ]
  },
  {
   "cell_type": "markdown",
   "id": "ced44e4c",
   "metadata": {},
   "source": [
    "    5. 4번 문제에 정의된 MySet 클래스에 메소드를 추가하여 다음 각 요구사항 모두를 만족시키는 코딩을 제시하시오.\n",
    "    \n",
    "* 정답을 각 요구사항별로 입력할 필요 없이 요구사항 3개 전체에 대해 1개의 MySet 클래스 정의 코드를 제시하고 주석등으로 해당 코드를 설명한다."
   ]
  },
  {
   "cell_type": "markdown",
   "id": "eca20511",
   "metadata": {},
   "source": [
    "* 요구사항 1. | 연산으로 두 집합의 합집합을 반환한다.\n",
    "            >>> u = s | t\n",
    "            >>> print(u)\n",
    "            MySet: {1, 2, 3, 4, 5, 6, 7, 8, 9}"
   ]
  },
  {
   "cell_type": "markdown",
   "id": "35ab00f5",
   "metadata": {},
   "source": [
    "* 요구사항 2. & 연산으로 두 집합의 교집합을 반환한다.\n",
    "            >>> u = s & t\n",
    "            >>> print(u)\n",
    "            MySet: {2, 3}"
   ]
  },
  {
   "cell_type": "markdown",
   "id": "d74379fa",
   "metadata": {},
   "source": [
    "* 요구사항 3. - 연산으로 두 집합의 차집합을 반환한다.\n",
    "            >>> s = MySet([1, 2, 3])\n",
    "            >>> t = MySet([3, 4, 5])\n",
    "            >>> u = s - t\n",
    "            >>> print(u)\n",
    "            MySet: {1, 2}"
   ]
  },
  {
   "cell_type": "code",
   "execution_count": 4,
   "id": "637a511b",
   "metadata": {},
   "outputs": [],
   "source": [
    "class MySet(list) :\n",
    "    \n",
    "    def __init__(self, l):\n",
    "        for e in l:\n",
    "            self.append(e)\n",
    "        MySet.eliminate_duplicate(self)\n",
    "    \n",
    "    def __str__(self):\n",
    "        result = \"MySet: {\"\n",
    "        for e in self:\n",
    "            result = result + str(e) + \" ,\"\n",
    "        result = result[0:len(result)-2] + \"}\"\n",
    "        return result\n",
    "\n",
    "    @staticmethod    \n",
    "    def eliminate_duplicate(l):\n",
    "        s = []\n",
    "        for e in l:\n",
    "            if e not in s:\n",
    "                s.append(e)\n",
    "        l[:] = []\n",
    "        for e in s:\n",
    "            l.append(e)\n",
    "            \n",
    "    #=========================#        \n",
    "            \n",
    "    def __or__(self, l): #  이항 | 연산자 오버로딩(요구사항 1번)\n",
    "        self = set(self)\n",
    "        l = set(l)\n",
    "        \n",
    "        self = self | l\n",
    "        self = list(self)\n",
    "        \n",
    "        OR = MySet(self)\n",
    "        return OR\n",
    "    \n",
    "    def __and__(self, l): # 이항 & 연산자 오버로딩(요구사항 2번)\n",
    "        self = set(self)\n",
    "        l = set(l)\n",
    "        \n",
    "        self = self & l\n",
    "        self = list(self)\n",
    "        \n",
    "        AND = MySet(self)\n",
    "        return AND\n",
    "\n",
    "    def __sub__(self, l): # 이항 - 연산자 오버로딩(요구사항 3번)\n",
    "        self = set(self)\n",
    "        l = set(l)\n",
    "        \n",
    "        self = self - l\n",
    "        self = list(self)\n",
    "        \n",
    "        SUB = MySet(self)\n",
    "        return SUB"
   ]
  },
  {
   "cell_type": "code",
   "execution_count": 5,
   "id": "ac8626e1",
   "metadata": {},
   "outputs": [
    {
     "name": "stdout",
     "output_type": "stream",
     "text": [
      "MySet: {1 ,2 ,3 ,4 ,5 ,6 ,7 ,8 ,9}\n",
      "MySet: {2 ,3}\n",
      "MySet: {1 ,2}\n"
     ]
    }
   ],
   "source": [
    "if __name__ == \"__main__\":\n",
    "    s = MySet([1, 2, 2, 3])\n",
    "    t = MySet([2, 3, 4, 5, 6, 7, 8, 8, 8, 8, 8, 9])\n",
    "    \n",
    "    u = s | t\n",
    "    print(u)\n",
    "    \n",
    "    u = s & t\n",
    "    print(u)\n",
    "    \n",
    "    s = MySet([1, 2, 3])\n",
    "    t = MySet([3, 4, 5])\n",
    "    u = s - t\n",
    "    print(u)"
   ]
  },
  {
   "cell_type": "markdown",
   "id": "8fa2faba",
   "metadata": {},
   "source": [
    "> __or__, __and__, __sub__ 을 이용하여 집합의 연산자들을 구현하였다. 연산자 오버로딩 과정에서 받은 인자의 집합화를 해줘야 할 필요성이 있다."
   ]
  },
  {
   "cell_type": "markdown",
   "id": "c534656f",
   "metadata": {},
   "source": [
    "    6. 5번 문제에서 정의한 MySet 클래스에 대해 다음 예제를 수행하면 오류없이 올바르게 동작하는 것을 확인할 수 있다. 다음 예제 내에 있는 len(), bool() 내장함수와 in 키워드 사용 예제가 별다른 메소드 정의를 하지 않았는 데도 올바르게 수행되는 이유를 설명하시오."
   ]
  },
  {
   "cell_type": "markdown",
   "id": "d463e1fa",
   "metadata": {},
   "source": [
    "> 기본으로 내장되어있는 함수이기 때문에 따로 메소드 정의를 하지 않아도 이용할 수 있다."
   ]
  },
  {
   "cell_type": "markdown",
   "id": "8c9130aa",
   "metadata": {},
   "source": [
    "## [Incremental Project 문제]"
   ]
  },
  {
   "cell_type": "markdown",
   "id": "68d3a356",
   "metadata": {},
   "source": [
    "#### 1. Assignment 3 & Assignment 4의 Incremental Project 코드를 다시 확장/변형하여 다음과 같은 조건을 만족하도록 구현하시오 (CODE REFACTORING!!!)."
   ]
  },
  {
   "cell_type": "code",
   "execution_count": 148,
   "id": "8138df04",
   "metadata": {},
   "outputs": [],
   "source": [
    "import re\n",
    "import string\n",
    "import sys\n",
    "\n",
    "def refactor(link) :\n",
    "    req2 = requests.get(link)\n",
    "    req2.encoding='utf-8'\n",
    "\n",
    "    source = req2.text\n",
    "\n",
    "    # print(source)\n",
    "\n",
    "    stp = string.punctuation\n",
    "\n",
    "    source = source.strip() # 띄어쓰기 걷어내기\n",
    "\n",
    "    blank = ''\n",
    "    source = source.split(\"\\n\") # 줄내림 제거\n",
    "\n",
    "    lista = []\n",
    "    listb = []\n",
    "\n",
    "    checkSum = True\n",
    "\n",
    "    for i in range(0, len(source) - 1) :\n",
    "\n",
    "        if source[i] == '<' :\n",
    "            checkSum = False\n",
    "            continue\n",
    "\n",
    "        if source[i] == '>' and checkSum == False :\n",
    "            checkSum = True\n",
    "            continue\n",
    "\n",
    "        if checkSum == True :\n",
    "            lista.append(source[i])\n",
    "\n",
    "    lista = ch.split()\n",
    "\n",
    "    for i in lista :\n",
    "        i = i.strip(stp)\n",
    "\n",
    "    for i in range(len(l)):\n",
    "        for j in stp:\n",
    "            while( j in l[i]):\n",
    "                for k in range(len(l[i])):\n",
    "                    check = l[i].find(j)\n",
    "                    l[i] = l[i][:check] + l[i][check+1:]\n",
    "                    break\n",
    "\n",
    "    dic = dict()\n",
    "    dic = {}\n",
    "\n",
    "    for i in lista :\n",
    "        dic[i] = 0\n",
    "    for i in dic.keys() :\n",
    "        for j in lista :\n",
    "            if  j == i :\n",
    "                dic[i] += 1\n",
    "\n",
    "    # 한글 불용어 제거\n",
    "\n",
    "    lst = [] # 빈 리스트\n",
    "\n",
    "    f = open('kr.txt','r', encoding='UTF8')\n",
    "    strings_kr = f.read()\n",
    "\n",
    "    strings_kr = strings_kr.split('\\n')\n",
    "\n",
    "    for i in dic.keys():\n",
    "        lst.append(i) # 딕셔너리의 키를 공백 리스트에 집어넣고\n",
    "\n",
    "    for i in lst :\n",
    "        for j in strings_kr : \n",
    "            if i == j : # 불용어 리스트와 같으면 제거\n",
    "                del dic[i]\n",
    "                break\n",
    "\n",
    "    f.close()\n",
    "\n",
    "    # 영어 불용어 제거\n",
    "\n",
    "    lst = [] # 빈 리스트\n",
    "\n",
    "    f = open('en.txt','r', encoding='UTF8')\n",
    "    strings_en = f.read()\n",
    "\n",
    "    strings_en = strings_en.split('\\n')\n",
    "\n",
    "    for i in dic.keys():\n",
    "        lst.append(i) # 딕셔너리의 키를 공백 리스트에 집어넣고\n",
    "\n",
    "    for i in lst :\n",
    "        for j in strings_en : \n",
    "            if i == j : # 불용어 리스트와 같으면 제거\n",
    "                del dic[i]\n",
    "                break\n",
    "    f.close()           \n",
    "\n",
    "    return dic"
   ]
  },
  {
   "cell_type": "code",
   "execution_count": 150,
   "id": "6cc5ad2f",
   "metadata": {
    "scrolled": true
   },
   "outputs": [
    {
     "name": "stdout",
     "output_type": "stream",
     "text": [
      "['http://www.times.com', 'https://www.amazon.com', 'https://github.com']\n"
     ]
    }
   ],
   "source": [
    "class SearchEngine :\n",
    "    \n",
    "    def __init__(self, *args) :\n",
    "        self.vargs = list(args)\n",
    "        \n",
    "    def addUrl(self, newLink) :\n",
    "        self.vargs.append(newLink)\n",
    "        \n",
    "    def removeUrl(self, newLink) :       \n",
    "        self.vargs.remove(newLink)  \n",
    "        \n",
    "    def listUrls(self) :\n",
    "        print(self.vargs, end='\\n')\n",
    "        \n",
    "    def clear(self) :\n",
    "        self.vargs = []\n",
    "        \n",
    "    def getWordsFrequency(self) :\n",
    "        for i in self.vargs :\n",
    "            print(refactor(i))\n",
    "            \n",
    "            \n",
    "w1 = SearchEngine()\n",
    "w1 = SearchEngine('http://www.cnn.com', 'http://www.times.com', 'https://www.amazon.com')\n",
    "w2 = SearchEngine('http://www.cnn.com', 'http://www.times.com')\n",
    "w3 = SearchEngine()\n",
    "\n",
    "w1.addUrl('https://github.com')\n",
    "w3.addUrl('http://stackoverflow.com')    \n",
    "\n",
    "w1.removeUrl('http://www.cnn.com')\n",
    "w1.listUrls()\n",
    "\n",
    "# w1.getWordsFrequency()"
   ]
  },
  {
   "cell_type": "markdown",
   "id": "932bee37",
   "metadata": {},
   "source": [
    "> html 값을 받아오는 req2가 초기화되지 않고 www.naver.com만 불러오는 관계로 진행이 멈추게 되었다. 최대한 갈무리해서 하려고 했으나 쉽지 않았던 것 같다. 이번 과제에서는 연산자 오버로딩을 많이 이용하였는데 재미있었던 것 같다. 제일 시간을 많이 썼던 부분은 클래스가 가변 인자를 받아오는 부분으로, 조금 생각을 했었던 것 같다. 지금까지 강의를 들으면서 많은 것을 배울 수 있었는데, 무엇보다도 지금까지 찔러보기만 했던 파이썬을 구체적으로 수강하여 '파이썬은 다른 언어와 이 점이 다르다!'라는 것을 다른 사람들에게 알려줄 수 있게 된 것이 가장 큰 수확이었던 것 같다. 가장 쉽고 빠르게 '무언가'를 만들 수 있는 것이 파이썬인 것을 느꼈고, 나중에 파이썬 심화를 공부할 필요가 있겠다."
   ]
  }
 ],
 "metadata": {
  "kernelspec": {
   "display_name": "Python 3",
   "language": "python",
   "name": "python3"
  },
  "language_info": {
   "codemirror_mode": {
    "name": "ipython",
    "version": 3
   },
   "file_extension": ".py",
   "mimetype": "text/x-python",
   "name": "python",
   "nbconvert_exporter": "python",
   "pygments_lexer": "ipython3",
   "version": "3.8.8"
  }
 },
 "nbformat": 4,
 "nbformat_minor": 5
}
