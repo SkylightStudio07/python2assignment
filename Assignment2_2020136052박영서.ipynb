{
 "cells": [
  {
   "cell_type": "markdown",
   "id": "fbd7c98f",
   "metadata": {},
   "source": [
    "> ## Assignment 2\n",
    "> ### 스크립트 프로그래밍\n",
    "> 2020136052 박영서"
   ]
  },
  {
   "cell_type": "markdown",
   "id": "cad96838",
   "metadata": {},
   "source": [
    "    1. 다음 6 개의 Expression에 대해 Evaluation 결과 값을 출력하고, 해당 결과가 나온 이유에 대해 설명하시오\n",
    "* 1 and 2 and 3 and 4\n",
    "* 1 or 2 or 3 or 4\n",
    "* 1 and 2 or 3 and 4\n",
    "* (1 and 2) or (3 and 4)\n",
    "* 1 or 2 and 3 or 4\n",
    "* (1 or 2) and (3 or 4)"
   ]
  },
  {
   "cell_type": "code",
   "execution_count": 1,
   "id": "c74cdf27",
   "metadata": {},
   "outputs": [
    {
     "name": "stdout",
     "output_type": "stream",
     "text": [
      "4\n",
      "1\n",
      "2\n",
      "2\n",
      "1\n",
      "3\n"
     ]
    }
   ],
   "source": [
    "print(1 and 2 and 3 and 4)\n",
    "print(1 or 2 or 3 or 4)\n",
    "print(1 and 2 or 3 and 4)\n",
    "print((1 and 2) or (3 and 4))\n",
    "print(1 or 2 and 3 or 4)\n",
    "print((1 or 2) and (3 or 4))"
   ]
  },
  {
   "cell_type": "markdown",
   "id": "a2026b79",
   "metadata": {},
   "source": [
    "> and와 or은 식을 Evaluate할떄 마지막으로 평가한 값을 return해주기 때문이다.\n",
    "or은 앞이 True이기만 하면 되므로(숫자) 앞의 값을 리턴하고, and는 뒤의 값까지 평가해야 하기 때문에 뒤의 값을 리턴하게 된다."
   ]
  },
  {
   "cell_type": "markdown",
   "id": "9023afbf",
   "metadata": {},
   "source": [
    "    2. 경로에 해당하는 문자열 1개를 입력 받아 그 안에 디렉토리 경로명과 파일명을 분리하여 리스트로 반환하는 함수 div_path(s)를 작성하시오.\n",
    "* 인자로 전달하는 문자열은 경로만 들어간다고 가정한다.\n",
    "* 각 디렉토리와 파일을 구분하는 문자는 '/'로 가정한다.\n",
    "* 반환하는 리스트의 첫번째 원소는 디렉토리이고 두번째 원소는 파일명이다.\n",
    "* 다음과 같은 실행 및 출력 결과가 도출되어야 한다.\n",
    "* div_path('/usr/local/bin/python')\n",
    "    * ['/usr/local/bin', 'python']\n",
    "* div_path('/home/chulsoo/test.txt')\n",
    "    * ['/home/chulsoo', 'test.txt']\n",
    "* [참고] 리스트(l) 내에 새로운 정수값 (예를 들어 10)을 넣는 방법은 l.append(10) 이다."
   ]
  },
  {
   "cell_type": "code",
   "execution_count": 2,
   "id": "542147de",
   "metadata": {},
   "outputs": [
    {
     "name": "stdout",
     "output_type": "stream",
     "text": [
      "['/usr/local/bin', 'python']\n",
      "['/home/chulsoo', 'test.txt']\n"
     ]
    }
   ],
   "source": [
    "def div_path(s) :\n",
    "    for i in range(len(s)-1, 0, -1) :\n",
    "        if (s[i] == \"/\") :\n",
    "            a = s[0:i]\n",
    "            b = s[i+1:]\n",
    "            break\n",
    "    c = [a, b]\n",
    "    print (c)\n",
    "\n",
    "div_path('/usr/local/bin/python')\n",
    "div_path('/home/chulsoo/test.txt')"
   ]
  },
  {
   "cell_type": "markdown",
   "id": "5010ddea",
   "metadata": {},
   "source": [
    "> 받은 경로를 뒤에서부터 반복문으로 읽어, 뒤의 / 문자를 처음으로 읽은 인덱스를 기점으로 하여 디렉토리와 파일명을 슬라이싱으로 나눈다."
   ]
  },
  {
   "cell_type": "markdown",
   "id": "6e0cdfb8",
   "metadata": {},
   "source": [
    "    3. 두 개의 리스트를 인자로 받아서 그 두 개의 리스트에 대한 '합집합'을 반환하는 함수 list_union(lista, listb)를 작성하시오.\n",
    "* 집합 자료형 set은 사용하지 않는다.\n",
    "* 인자로 전달하는 리스트 2 개에는 정수값만 들어간다고 가정하자.\n",
    "* 함수 내에서 새로운 리스트를 만들어 그 리스트 내에 인자로 받은 두 리스트의 모든 원소를 넣어 반환한다.\n",
    "* 반환하는 리스트에는 절대로 중복된 원소가 들어 있으면 안된다 (집합의 조건).\n",
    "* 반환하는 리스트는 정렬이 되어 있어야 한다.\n",
    "* 다음과 같은 실행 및 출력 결과가 도출되어야 한다.\n",
    "    * list_union([1, 2, 3], [1, 2, 4])\n",
    "        * [1, 2, 3, 4]\n",
    "    * list_union([-10, -5, 0, -1], [100, 9, 0, 9])\n",
    "        * [-10, -5, -1, 0, 9, 100]\n",
    "    * list_union([0, 1, 2], [0, 1, 2])\n",
    "        * [0, 1, 2]\n",
    "* [참고] 리스트(l) 내에 새로운 정수값 (예를 들어 10)을 넣는 방법은 l.append(10) 이다.\n",
    "* [참고] 임의의 정수값 (x)이 리스트 (l) 내에 존재하는지 판단하는 방법은 x in l 이다."
   ]
  },
  {
   "cell_type": "code",
   "execution_count": 5,
   "id": "3c5361a5",
   "metadata": {},
   "outputs": [
    {
     "name": "stdout",
     "output_type": "stream",
     "text": [
      "[1, 2, 3, 4]\n",
      "[-10, -5, -1, 0, 9, 100]\n",
      "[0, 1, 2]\n",
      "[1, 2, 3, 4]\n"
     ]
    }
   ],
   "source": [
    "def list_union(lista, listb) :\n",
    "\n",
    "    mod_lista = []   \n",
    "    mod_listb = []\n",
    "    listc = [] \n",
    "    for i in lista :              \n",
    "        if (i not in mod_lista) :    \n",
    "            mod_lista.append(i) \n",
    "    for j in listb :              \n",
    "        if (j not in mod_listb) :    \n",
    "            mod_listb.append(j) \n",
    "    for k in mod_lista :\n",
    "        if (k not in listc) :\n",
    "            listc.append(k)\n",
    "    for l in mod_listb :\n",
    "        if (l not in listc) :\n",
    "            listc.append(l)\n",
    "    listc.sort()\n",
    "    print (listc)\n",
    "\n",
    "list_union([1, 2, 3], [1, 2, 4])\n",
    "list_union([-10, -5, 0, -1], [100, 9, 0, 9])\n",
    "list_union([0, 1, 2], [0, 1, 2])\n",
    "list_union([1, 1, 1, 3], [2, 2, 3, 4])"
   ]
  },
  {
   "cell_type": "markdown",
   "id": "2f5f1b63",
   "metadata": {},
   "source": [
    "> 리스트 내의 중복 요소들을 삭제한 리스트인 mod_list를 만들고, 조건문을 이용해 mod_lista와 mod_listb의 요소들이 겹치지 않은 새로운 리스트인 listc를 만든다."
   ]
  },
  {
   "cell_type": "markdown",
   "id": "f609af1c",
   "metadata": {},
   "source": [
    "    4. 두 개의 리스트를 인자로 받아서 그 두 개의 리스트에 대한 '교집합'을 반환하는 함수 list_intersection(lista, listb)와 '차집합'을 반환하는 함수 list_difference(lista, listb)를 작성하시오.\n",
    "* 모든 가정과 조건은 3번 문제와 동일하다."
   ]
  },
  {
   "cell_type": "code",
   "execution_count": 6,
   "id": "96417a1d",
   "metadata": {},
   "outputs": [
    {
     "name": "stdout",
     "output_type": "stream",
     "text": [
      "[1, 2]\n",
      "[3, 4, 5]\n",
      "[0]\n",
      "[2, 3]\n",
      "[3]\n",
      "[1]\n"
     ]
    }
   ],
   "source": [
    "# 교집합\n",
    "\n",
    "def list_intersection(lista, listb) :\n",
    "\n",
    "    mod_lista = []   \n",
    "    mod_listb = []\n",
    "    listc = []\n",
    "\n",
    "    for i in lista :              \n",
    "        if (i not in mod_lista) :    \n",
    "            mod_lista.append(i) \n",
    "    for j in listb :              \n",
    "        if (j not in mod_listb) :    \n",
    "            mod_listb.append(j) \n",
    "\n",
    "    for i in mod_lista :\n",
    "        if(i in mod_listb) :\n",
    "            listc.append(i)\n",
    "    listc.sort()\n",
    "    print(listc)\n",
    "\n",
    "list_intersection([1, 2, 3], [1, 2, 4])\n",
    "list_intersection([3, 4, 5], [5, 4, 3, 6])\n",
    "list_intersection([-10, -5, 0, -1], [100, 9, 0, 9])\n",
    "list_intersection([1, 1, 1, 2, 2, 3], [2, 2, 3, 4])\n",
    "\n",
    "# 차집합\n",
    "\n",
    "def list_difference(lista, listb) :\n",
    "\n",
    "    mod_lista = []   \n",
    "    mod_listb = []\n",
    "    listc = []\n",
    "\n",
    "    for i in lista :              \n",
    "        if (i not in mod_lista) :    \n",
    "            mod_lista.append(i) \n",
    "    for j in listb :              \n",
    "        if (j not in mod_listb) :    \n",
    "            mod_listb.append(j) \n",
    "\n",
    "    for k in mod_lista :\n",
    "        if(k not in mod_listb) :\n",
    "            listc.append(k)\n",
    "    listc.sort()\n",
    "    print(listc)\n",
    "\n",
    "list_difference([1, 2, 3], [1, 2, 4])\n",
    "list_difference([1, 1, 1, 2, 2, 3], [2, 2, 3, 4])"
   ]
  },
  {
   "cell_type": "markdown",
   "id": "e180eeb7",
   "metadata": {},
   "source": [
    "> 앞선 3번 문제와 결이 거의 같으며, 조건문의 인자들을 응용하는 방법에서 차이가 있다."
   ]
  },
  {
   "cell_type": "markdown",
   "id": "23103693",
   "metadata": {},
   "source": [
    "    5. 두 개의 양의 정수를 인자로 받아서 해당 범위안에 있는 소수(prime number)의 리스트를 출력하는 함수 print_primenumber(a, b)를 작성하시오.\n",
    "* 이미 구현된 모듈이나 라이브러리는 사용하지 않는다.\n",
    "* 함수의 반환(return)은 없으며 함수 내의 끝에서 .format()을 사용하여 다음과 같이 출력한다.\n",
    "    * print_primenumber(2, 10)\n",
    "        * 2 이상 10 이하 정수 중 소수 리스트: [2, 3, 5, 7]"
   ]
  },
  {
   "cell_type": "code",
   "execution_count": 7,
   "id": "40a47b95",
   "metadata": {},
   "outputs": [
    {
     "name": "stdout",
     "output_type": "stream",
     "text": [
      "2 이상 10 이하 정수 중 소수 리스트: [2, 3, 5, 7]\n",
      "2 이상 100 이하 정수 중 소수 리스트: [2, 3, 5, 7, 11, 13, 17, 19, 23, 29, 31, 37, 41, 43, 47, 53, 59, 61, 67, 71, 73, 79, 83, 89, 97]\n"
     ]
    }
   ],
   "source": [
    "def print_primenumber(a, b) :\n",
    "\n",
    "    listc=[]\n",
    "\n",
    "    for A in range(a, b+1) :\n",
    "        Boolean = True\n",
    "        for B in range (2, A) :\n",
    "            if(A % B == 0) :\n",
    "                Boolean = False\n",
    "                break\n",
    "        if (Boolean is True) :\n",
    "            listc.append(A)\n",
    "\n",
    "    print('{0} 이상 {1} 이하 정수 중 소수 리스트: {2}'.format(a, b, listc))\n",
    "\n",
    "print_primenumber(2, 10)\n",
    "print_primenumber(2, 100)"
   ]
  },
  {
   "cell_type": "markdown",
   "id": "ea1bed35",
   "metadata": {},
   "source": [
    "> 저번 과제와 비슷하게 불리언 자료형을 이용하였으며, format()을 이용하여 몇 이상 몇 이하 정수까지 출력할 수 있도록 하였다."
   ]
  },
  {
   "cell_type": "markdown",
   "id": "72a3803d",
   "metadata": {},
   "source": [
    "# [Incremental Project 문제]\n",
    "웹 URL로 지정된 웹페이지를 문자열로 가져와 \n",
    "1) 모든 HTML 태그를 제외한 순수 텍스트 문자열만을 걸러내고,\n",
    "2) 그 순수 텍스트 문자열 안에 존재하는 단어가 총 몇개인지 출력하는 프로그램을 작성하시오.¶"
   ]
  },
  {
   "cell_type": "code",
   "execution_count": 1,
   "id": "4bccbcec",
   "metadata": {},
   "outputs": [
    {
     "name": "stderr",
     "output_type": "stream",
     "text": [
      "C:\\Users\\dimit\\anaconda3\\lib\\site-packages\\urllib3\\connectionpool.py:1013: InsecureRequestWarning: Unverified HTTPS request is being made to host 'cse.koreatech.ac.kr'. Adding certificate verification is strongly advised. See: https://urllib3.readthedocs.io/en/latest/advanced-usage.html#ssl-warnings\n",
      "  warnings.warn(\n"
     ]
    },
    {
     "name": "stdout",
     "output_type": "stream",
     "text": [
      "해당 웹페이지의 단어 개수는 224개 입니다.\n"
     ]
    }
   ],
   "source": [
    "import re\n",
    "import requests\n",
    "req = requests.get('https://cse.koreatech.ac.kr/', verify=False)\n",
    "source = req.text\n",
    "\n",
    "\n",
    "a = source.split(\"\\n\") # 줄내림 제거\n",
    "listb = []\n",
    "final = []\n",
    "\n",
    "for i in range(0, len(a)-1) :\n",
    "    listb.append(a[i].strip()) # 요소 앞뒤의 공백문자 제거\n",
    "\n",
    "\n",
    "for i in range(1, len(listb)-1) :\n",
    "    if (listb[i].startswith(('<!', '//-->', '</'))) :\n",
    "        continue\n",
    "    if (listb[i].startswith(('<')) is not True) :\n",
    "        continue\n",
    "    if (listb[i].startswith(('<html', '<script', '<head', '<meta', '<title', '</', '<form'))) :\n",
    "        continue\n",
    "    if (listb[i].startswith(('<input'))) :\n",
    "        continue\n",
    "    if (listb[i].startswith(('<body', '<span', '<li', '<div', '<ul', '<aside', '<a href='))) :\n",
    "        continue\n",
    "    if (listb[i].startswith(('<!'))) :\n",
    "        continue\n",
    "    final.append(listb[i]) \n",
    "    \n",
    "    # 일차적으로 html 태그를 줄임\n",
    "    \n",
    "final2=[]\n",
    "\n",
    "for i in range(0, len(final)-1) :\n",
    "    \n",
    "    final[i] = re.sub('</?[\\w*].>', '',final[i])\n",
    "    final[i] = re.sub('<.*=\".*\">', '',final[i])     \n",
    "    final[i] = re.sub('</?.*/?>', '',final[i])    \n",
    "    final[i] = re.sub('<p id=\".*\">', '',final[i])     \n",
    "\n",
    "    # 남은 html 태그들을 정규식을 이용해 제거\n",
    "    \n",
    "final2 = []    \n",
    "    \n",
    "for i in range(0, len(final)-1) :\n",
    "    if final[i] == '' :\n",
    "        continue\n",
    "    final2.append(final[i])\n",
    "\n",
    "    # 리스트 내의 공백 요소들을 제거\n",
    "    \n",
    "listA = []\n",
    "output = []   \n",
    "\n",
    "for i in range(0, len(final2)-1) :\n",
    "    listA.append(final2[i].split())\n",
    "\n",
    "    # listA에 공백 문자로 나누어진 요소를 넣음\n",
    "    \n",
    "for A in listA :\n",
    "    output += A\n",
    "    \n",
    "    # 중첩된 리스트를 풀고 일차원 리스트로 전환\n",
    "    \n",
    "# print(output)\n",
    "print(\"해당 웹페이지의 단어 개수는 \", len(output), \"개 입니다.\", sep=\"\")"
   ]
  },
  {
   "cell_type": "markdown",
   "id": "df054b40",
   "metadata": {},
   "source": [
    "> 조건문과 정규식을 동원하여 html 태그 요소들을 서서히 깎아나갔다. 그 후에 리스트 내의 공백으로만 이루어진 요소들을 제공하고 공백 문자로 요소들을 나눈 뒤 중첩된 리스트를 풀고 일차원화된 리스트로 전환하였다."
   ]
  },
  {
   "cell_type": "markdown",
   "id": "4b878c4a",
   "metadata": {},
   "source": [
    "# 소감\n",
    "> 5번까지는 어렵지 않게 풀었지만, 마지막 문제는 꽤 많은 고민을 필요로 하였다. 어떤 방법을 사용하더라도 html 태그가 깔끔하게 사라지지 않았고, 무엇보다 사이트마다 상당히 다른 형식을 사용하고 있었기 때문이다. 내가 정규식을 그다지 잘 응용하지 못하는 것도 있을 것이다.\n",
    "### 궁금한 점\n",
    "requests.get()을 사용할 때 https 프로토콜을 사용하는 사이트들에서 SSL 모듈 관련 오류가 계속해서 발생하였습니다. 일단 verify=False로 미봉책은 해놓았는데, 혹시 해결 방법이 있는지 궁금합니다. "
   ]
  }
 ],
 "metadata": {
  "kernelspec": {
   "display_name": "Python 3",
   "language": "python",
   "name": "python3"
  },
  "language_info": {
   "codemirror_mode": {
    "name": "ipython",
    "version": 3
   },
   "file_extension": ".py",
   "mimetype": "text/x-python",
   "name": "python",
   "nbconvert_exporter": "python",
   "pygments_lexer": "ipython3",
   "version": "3.8.8"
  }
 },
 "nbformat": 4,
 "nbformat_minor": 5
}
