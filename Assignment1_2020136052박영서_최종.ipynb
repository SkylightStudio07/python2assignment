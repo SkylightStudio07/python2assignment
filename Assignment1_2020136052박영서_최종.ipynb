{
 "cells": [
  {
   "cell_type": "markdown",
   "id": "6baeb9bd",
   "metadata": {},
   "source": [
    "> ## Assignment 1\n",
    "> ### 스크립트 프로그래밍\n",
    "> 2020136052 박영서"
   ]
  },
  {
   "cell_type": "markdown",
   "id": "6583de19",
   "metadata": {},
   "source": [
    "    문제 1 : a=\"Hello Python\" 문자열을 Slicing과 연결 연산자 (+)를 사용하여 \"Python Hello\"로 변경하시오.\n",
    "* [주의] a 변수 자체에 \"Python Hello\" 문자열이 저장되어야 함\n",
    "---------------------------------------"
   ]
  },
  {
   "cell_type": "code",
   "execution_count": 1,
   "id": "9c228bec",
   "metadata": {},
   "outputs": [
    {
     "name": "stdout",
     "output_type": "stream",
     "text": [
      "Python Hello \n"
     ]
    }
   ],
   "source": [
    "a = \"Hello Python\"\n",
    "a = a[6:] + a[5] + a[0:6]\n",
    "print(a)"
   ]
  },
  {
   "cell_type": "markdown",
   "id": "3053763d",
   "metadata": {},
   "source": [
    "> #### 리스트와 Slicing의 기본 요소를 이용하였다. a[6:]은 'Python', a[5]는 띄어쓰기,     a[0:6]은 Hello이다.(end는 포함되지 않으므로)"
   ]
  },
  {
   "cell_type": "markdown",
   "id": "f0d268e7",
   "metadata": {},
   "source": [
    "    문제 2 : b=\"Hello Python World\" 문자열을 Slicing과 연결 연산자 (+)를 사용하여 \"World Python Hello\"로 변경하시오.\n",
    "* [주의] b 변수 자체에 \"World Python Hello\" 문자열이 저장되어야 함\n",
    "---------------------------------------"
   ]
  },
  {
   "cell_type": "code",
   "execution_count": 3,
   "id": "853e9996",
   "metadata": {},
   "outputs": [
    {
     "name": "stdout",
     "output_type": "stream",
     "text": [
      "World Python Hello \n"
     ]
    }
   ],
   "source": [
    "b = \"Hello Python World\"\n",
    "b = b[13:] + b[5] + b[6:12] + b[12] + b[0:6]\n",
    "print(b)"
   ]
  },
  {
   "cell_type": "markdown",
   "id": "17c2ccd9",
   "metadata": {},
   "source": [
    "> 상기의 문제와 같이 인덱스와 Slicing의 기본 요소를 이용하였다.   \n",
    "인덱스에 따라 b[13:]은 'World', b[5], b[12]는 띄어쓰기, b[6:12]는 'Python', b[0:6]은 'Hello'이다."
   ]
  },
  {
   "cell_type": "markdown",
   "id": "fc33f2be",
   "metadata": {},
   "source": [
    "    문제 3 : c=\"Hello\"를 \"olleH\"로 변경하시오\n",
    "* [주의] c 변수 자체에 \"olleH\" 문자열이 저장되어야 함\n",
    "---------------------------------------"
   ]
  },
  {
   "cell_type": "code",
   "execution_count": 5,
   "id": "aac2f946",
   "metadata": {},
   "outputs": [
    {
     "name": "stdout",
     "output_type": "stream",
     "text": [
      "olleH\n"
     ]
    }
   ],
   "source": [
    "c=\"Hello\"\n",
    "c = c[-1::-1]\n",
    "print(c)"
   ]
  },
  {
   "cell_type": "markdown",
   "id": "38bf449e",
   "metadata": {},
   "source": [
    "> 인덱스와 Slicing의 기본 특징들을 이용하였다.   \n",
    "슬라이싱에서 인덱스 값들은 음수를 가질 수 있으므로 start를 -1로 하여 본래 문자열의 끝이였던 o에서 시작하도록 하고, end를 비우고 step을 -1로 하여 문자열이 거꾸로 출력될 수 있도록 하였다."
   ]
  },
  {
   "cell_type": "markdown",
   "id": "e0688e22",
   "metadata": {},
   "source": [
    ">    문제 4 : s=\"python\"에 대해 다음 문제를 풀어보시오\n",
    "* A. s[0], s[0][0], s[0][0][0]은 각각 어떤 값이 나오는지 확인하고 그 이유를 나름대로 설명해 보시오.\n",
    "* B. s[-100], s[100]은 값이 나오는지 에러가 나오는지 확인하고 그 결과에 대한 이유를 나름대로 설명해 보시오.\n",
    "* C. s[-100, 100]은 값이 나오는지 에러가 나오는지 확인하고 그 결과에 대한 이유를 나름대로 설명해 보시오.\n",
    "* D. s[1:-1]의 결과를 확인하고 그 결과에 대한 이유를 정확하게 설명하시오.\n",
    "* E. s[3:-3]의 결과를 확인하고 그 결과에 대한 이유를 정확하게 설명하시오.\n",
    "---------------------------------------"
   ]
  },
  {
   "cell_type": "code",
   "execution_count": 8,
   "id": "89024345",
   "metadata": {},
   "outputs": [
    {
     "name": "stdout",
     "output_type": "stream",
     "text": [
      "p\n",
      "p\n",
      "p\n"
     ]
    }
   ],
   "source": [
    "s = \"python\"\n",
    "\n",
    "# A.\n",
    "print(s[0])\n",
    "print(s[0][0])\n",
    "print(s[0][0][0])"
   ]
  },
  {
   "cell_type": "markdown",
   "id": "b73f6e1d",
   "metadata": {},
   "source": [
    "> 코드를 줄 순서대로 C언어처럼 각각 일차원, 2차원, 3차원으로 바라본다면 (0), (0,0), (0,0,0), 그러니까 원점의 값은 전부 p로 같은 것이다. "
   ]
  },
  {
   "cell_type": "code",
   "execution_count": 10,
   "id": "c35d1411",
   "metadata": {},
   "outputs": [
    {
     "ename": "IndexError",
     "evalue": "string index out of range",
     "output_type": "error",
     "traceback": [
      "\u001b[1;31m---------------------------------------------------------------------------\u001b[0m",
      "\u001b[1;31mIndexError\u001b[0m                                Traceback (most recent call last)",
      "\u001b[1;32m<ipython-input-10-577b51eeb69e>\u001b[0m in \u001b[0;36m<module>\u001b[1;34m\u001b[0m\n\u001b[0;32m      1\u001b[0m \u001b[1;31m# B.\u001b[0m\u001b[1;33m\u001b[0m\u001b[1;33m\u001b[0m\u001b[1;33m\u001b[0m\u001b[0m\n\u001b[1;32m----> 2\u001b[1;33m \u001b[0mprint\u001b[0m\u001b[1;33m(\u001b[0m\u001b[0ms\u001b[0m\u001b[1;33m[\u001b[0m\u001b[1;33m-\u001b[0m\u001b[1;36m100\u001b[0m\u001b[1;33m]\u001b[0m\u001b[1;33m)\u001b[0m\u001b[1;33m\u001b[0m\u001b[1;33m\u001b[0m\u001b[0m\n\u001b[0m\u001b[0;32m      3\u001b[0m \u001b[0mprint\u001b[0m\u001b[1;33m(\u001b[0m\u001b[0ms\u001b[0m\u001b[1;33m[\u001b[0m\u001b[1;36m100\u001b[0m\u001b[1;33m]\u001b[0m\u001b[1;33m)\u001b[0m\u001b[1;33m\u001b[0m\u001b[1;33m\u001b[0m\u001b[0m\n",
      "\u001b[1;31mIndexError\u001b[0m: string index out of range"
     ]
    }
   ],
   "source": [
    "# B.\n",
    "print(s[-100])\n",
    "print(s[100])"
   ]
  },
  {
   "cell_type": "markdown",
   "id": "93571200",
   "metadata": {},
   "source": [
    "> 에러가 발생한다.    \n",
    "s의 인덱스는 0에서 5까지밖에 되지 않는데 무리한 인덱스 값을 주어 리스트의 인덱스가 범위를 벗어나 string index out of range 오류가 발생하였다. "
   ]
  },
  {
   "cell_type": "code",
   "execution_count": 12,
   "id": "d4d4f28a",
   "metadata": {},
   "outputs": [
    {
     "ename": "TypeError",
     "evalue": "string indices must be integers",
     "output_type": "error",
     "traceback": [
      "\u001b[1;31m---------------------------------------------------------------------------\u001b[0m",
      "\u001b[1;31mTypeError\u001b[0m                                 Traceback (most recent call last)",
      "\u001b[1;32m<ipython-input-12-b0e2bf056a2e>\u001b[0m in \u001b[0;36m<module>\u001b[1;34m\u001b[0m\n\u001b[0;32m      1\u001b[0m \u001b[1;31m# C.\u001b[0m\u001b[1;33m\u001b[0m\u001b[1;33m\u001b[0m\u001b[1;33m\u001b[0m\u001b[0m\n\u001b[1;32m----> 2\u001b[1;33m \u001b[0mprint\u001b[0m\u001b[1;33m(\u001b[0m\u001b[0ms\u001b[0m\u001b[1;33m[\u001b[0m\u001b[1;33m-\u001b[0m\u001b[1;36m100\u001b[0m\u001b[1;33m,\u001b[0m \u001b[1;36m100\u001b[0m\u001b[1;33m]\u001b[0m\u001b[1;33m)\u001b[0m\u001b[1;33m\u001b[0m\u001b[1;33m\u001b[0m\u001b[0m\n\u001b[0m",
      "\u001b[1;31mTypeError\u001b[0m: string indices must be integers"
     ]
    }
   ],
   "source": [
    "# C.\n",
    "print(s[-100, 100])"
   ]
  },
  {
   "cell_type": "markdown",
   "id": "02a04889",
   "metadata": {},
   "source": [
    "> 에러가 발생한다.\n",
    "문자열의 인덱스는 오직 정수만을 받을 수 있기 때문이다."
   ]
  },
  {
   "cell_type": "code",
   "execution_count": 14,
   "id": "9ee2e9b8",
   "metadata": {},
   "outputs": [
    {
     "name": "stdout",
     "output_type": "stream",
     "text": [
      "ytho\n"
     ]
    }
   ],
   "source": [
    "# D.\n",
    "print(s[1:-1])"
   ]
  },
  {
   "cell_type": "markdown",
   "id": "278775a7",
   "metadata": {},
   "source": [
    "> 인덱스 값 1은 y이고, 인덱스값 -1은 마지막 항과 같기 때문에 곧 n을 의미하므로 바로 그 전 항인 o까지 출력하게 된다."
   ]
  },
  {
   "cell_type": "code",
   "execution_count": 15,
   "id": "81310cd2",
   "metadata": {},
   "outputs": [
    {
     "name": "stdout",
     "output_type": "stream",
     "text": [
      "\n"
     ]
    }
   ],
   "source": [
    "# E.\n",
    "print(s[3:-3])"
   ]
  },
  {
   "cell_type": "markdown",
   "id": "1fee8c78",
   "metadata": {},
   "source": [
    "> 위와 같은 결이며, start인 인덱스 값 3은 'h'이고 end인 인덱스 값 -3 또한 'h'이므로, 정상적인 값이 출력되지 않게 된다."
   ]
  },
  {
   "cell_type": "markdown",
   "id": "52f941d1",
   "metadata": {},
   "source": [
    "    문제 5 : for문을 활용하여 1부터 100사이의 홀수를 출력하시오.\n",
    "---------------------------------------"
   ]
  },
  {
   "cell_type": "code",
   "execution_count": 16,
   "id": "f12bab06",
   "metadata": {},
   "outputs": [
    {
     "name": "stdout",
     "output_type": "stream",
     "text": [
      "1 3 5 7 9 11 13 15 17 19 21 23 25 27 29 31 33 35 37 39 41 43 45 47 49 51 53 55 57 59 61 63 65 67 69 71 73 75 77 79 81 83 85 87 89 91 93 95 97 99 "
     ]
    }
   ],
   "source": [
    "for i in range (1, 100, 2) :\n",
    "    print(i, end=' ')"
   ]
  },
  {
   "cell_type": "markdown",
   "id": "12e1ea59",
   "metadata": {},
   "source": [
    "> range() 함수와 for 반복문을 이용하여 첫 항을 1, 마지막 항을 99, 그리고 스텝을 2로 하여 1부터 100 사이의 홀수를 만들고 출력한다."
   ]
  },
  {
   "cell_type": "markdown",
   "id": "894e882a",
   "metadata": {},
   "source": [
    "    문제 6 : while문을 활용하여 1부터 100사이의 짝수의 합을 계산하여 출력하시오.\n",
    "---------------------------------------"
   ]
  },
  {
   "cell_type": "code",
   "execution_count": 19,
   "id": "90977874",
   "metadata": {},
   "outputs": [
    {
     "name": "stdout",
     "output_type": "stream",
     "text": [
      "2550\n"
     ]
    }
   ],
   "source": [
    "num = 2\n",
    "result = 0\n",
    "while (num < 101) :\n",
    "    result += num\n",
    "    num += 2\n",
    "print(result)"
   ]
  },
  {
   "cell_type": "markdown",
   "id": "c5a87a24",
   "metadata": {},
   "source": [
    "> 괄호 안이 참이면 계속 루프하는 while을 이용하여, 매 루프마다 2씩 증가하는 1부터 100 사이의 짝수를 변수 result에 매 루프마다 더한다. "
   ]
  },
  {
   "cell_type": "markdown",
   "id": "f0117226",
   "metadata": {},
   "source": [
    "    문제 7 : 사용자로 부터 임의의 정수를 입력받고, 해당 숫자를 역순으로 출력하는 프로그램을 작성하시오.    \n",
    "        * [실행 예]   \n",
    "                정수를 입력하세요: 3125\n",
    "                숫자 역순은 5213 입니다.\n",
    "---------------------------------------"
   ]
  },
  {
   "cell_type": "code",
   "execution_count": 21,
   "id": "6ae502d0",
   "metadata": {},
   "outputs": [
    {
     "name": "stdout",
     "output_type": "stream",
     "text": [
      "정수를 입력하세요: 2314\n",
      "정수 역순은 4132입니다.\n"
     ]
    }
   ],
   "source": [
    "ip = input(\"정수를 입력하세요: \")\n",
    "print(\"정수 역순은 \" + ip[-1::-1] + \"입니다.\")"
   ]
  },
  {
   "cell_type": "markdown",
   "id": "1c86a03c",
   "metadata": {},
   "source": [
    "> 인덱스와 slicing의 기본적인 특징을 이용하여, start의 인덱스 값을 -1(마지막 항)으로 하고 스텝을 -1로 하여 정수를 역순으로 출력하게 하였다."
   ]
  },
  {
   "cell_type": "markdown",
   "id": "1cbcab68",
   "metadata": {},
   "source": [
    "    문제 7 : 사용자로 부터 정수를 입력받아서 1부터 그 사이에 존재하는 소수 (Prime number)를 출력하는 파이썬 프로그램을 작성하시오.    \n",
    "---------------------------------------"
   ]
  },
  {
   "cell_type": "code",
   "execution_count": 22,
   "id": "9872037c",
   "metadata": {},
   "outputs": [
    {
     "name": "stdout",
     "output_type": "stream",
     "text": [
      "정수를 입력하십시오: 99\n",
      "2 3 5 7 11 13 17 19 23 29 31 37 41 43 47 53 59 61 67 71 73 79 83 89 97 "
     ]
    }
   ],
   "source": [
    "pn = int(input(\"정수를 입력하십시오: \"))\n",
    "\n",
    "for A in range(2, pn + 1) :\n",
    "    boolean = True\n",
    "    for B in range (2,A) :\n",
    "        if (A % B == 0) :\n",
    "            boolean = False\n",
    "            break;\n",
    "    if (boolean is True) :\n",
    "        print(A, end=' ')\n"
   ]
  },
  {
   "cell_type": "markdown",
   "id": "8a8939b5",
   "metadata": {},
   "source": [
    "> 불리언 자료형을 이용하였으며, 기본적으로 boolean은 True 값을 가지고 있고,   \n",
    "for A in range(2, pn + 1) : 반복문 내의 또 다른 반복문 for B in range (2,A) : 에서   \n",
    "만약 A를 B로 나눈 나머지가 0이라면, 그러니까 소수가 아니라면 Boolean은 False로 재정의되고 두 번째 반복문은 break되지만, 만약 Boolean이 True인 상태로 무사히 두 번째 반복문을 통과했다면 그 숫자는 소수로서 print()함수를 통해 출력되게 된다."
   ]
  },
  {
   "cell_type": "markdown",
   "id": "c0c4ce36",
   "metadata": {},
   "source": [
    "문제 8 : Kevin과 Stuart는 게임을 한다. 규칙은 아래와 같다.   \n",
    " * 두 플레이어에게 같은 string S가 주어진다.   \n",
    " * 두 플레이어는 string S의 문자를 사용하여 substring을 만들어야 한다(중복 가능).   \n",
    " * Stuart는 자음으로 시작하는 단어를 만들어야 한다.   \n",
    " * Kevin은 모음으로 시작하는 단어를 만들어야 한다.   \n",
    " * 게임은 두 플레이어가 만들 수 있는 모든 단어를 만들었을 때 끝난다.   \n",
    " * 점수 계산 : substring 1개당 +1 점을 획득한다. (아래 그림 참고/그림생략)  \n",
    " * 사용자로 부터 대문자로 이루어진 string S를 입력받고, 승자와 그의 점수를 출력하는 프로그램을 작성하시오.   \n",
    "    \n",
    "    [실행 예]\n",
    "        string S를 입력하세요: BANANA\n",
    "        승자: Stuart 점수: 12\n",
    "---------------------------------------"
   ]
  },
  {
   "cell_type": "code",
   "execution_count": 23,
   "id": "8a11b89b",
   "metadata": {},
   "outputs": [
    {
     "name": "stdout",
     "output_type": "stream",
     "text": [
      "String S를 입력하세요: BANANA\n",
      "승자: Stuart 점수:  12\n"
     ]
    }
   ],
   "source": [
    "import re\n",
    "\n",
    "S = input(\"String S를 입력하세요: \")\n",
    "\n",
    "string_S = S.upper()\n",
    "\n",
    "score1 = 0\n",
    "score2 = 0\n",
    "\n",
    "for i in range(len(string_S)):\n",
    "\tsubstr = re.findall(r\"(?=([^AEIOU][A-Z]{{{0}}}))\".format(i),string_S)\n",
    "\tscore1 += len(substr)\n",
    "\n",
    "for i in range(len(string_S)):\n",
    "\tsubstr = re.findall(r\"(?=([AEIOU][A-Z]{{{0}}}))\".format(i),string_S)\n",
    "\tscore2 += len(substr)\n",
    "\n",
    "if (score1 > score2) :\n",
    "    print(\"승자: Stuart 점수: \", score1)\n",
    "elif (score1 < score2) :\n",
    "    print(\"승자: Kevin 점수: \", score2)"
   ]
  },
  {
   "cell_type": "markdown",
   "id": "737e3f0d",
   "metadata": {},
   "source": [
    "> 처음에는 IF 조건문으로 고민하다가 정규식으로 선회하였으며, S를 입력받고 만약 대문자가 아닌 경우에는 .upper()을 통해 대문자로 보정해주고, 첫번째 반복문은 정규식을 통해 자음으로 시작하는 substring으로 점수를 구하기, 그러니까 Stuart의 것이고, 두번째는 반대로 모음, 그러니까 Kevin의 것이다.   \n",
    "첫번째 정규식은 [A-Z], 모든 알파벳 중에서 모음인 [AEIOU]를 제한 자음으로 시작하는 것이고, 두번째 정규식은 반대로 모음인 [AEIOU]로 시작하는 것이다. 그리고 공통적으로 substring은 중복 가능하므로 그 뒤에 올 문자가 i번 반복할 수 있게 설정한다.   \n",
    "그리고 점수에 따라 승자와 점수를 띄운다."
   ]
  },
  {
   "cell_type": "markdown",
   "id": "0c74ba51",
   "metadata": {},
   "source": [
    "문제 9 : 알파벳 소문자만으로 이루어진 string, S, 가 주어지고 아래 2가지 연산을 수행할 수 있다.    \n",
    " * 추가 : string S의 끝에 알파벳 소문자 하나를 추가한다.\n",
    " * 삭제 : string S의 마지막 문자 하나를 삭제한다. empty string에서 삭제 연산을 수행한 결과는 empty string이다.\n",
    "\n",
    "두 개의 string, s와 t, 그리고 정수 k가 주어질 때, 정확히 k번의 연산을 통해 s를 t로 바꿀 수 있는지 판단하는 함수를 작성하시오."
   ]
  },
  {
   "cell_type": "code",
   "execution_count": 24,
   "id": "13901374",
   "metadata": {},
   "outputs": [
    {
     "name": "stdout",
     "output_type": "stream",
     "text": [
      "Yes\n",
      "No\n"
     ]
    }
   ],
   "source": [
    "def appendDelete(s, t, k) :\n",
    "    dif = len(s) - len(t)\n",
    "    same = 0\n",
    "    for i in range(len(s)-dif) :\n",
    "        if (s[i] == t[i]) :\n",
    "            same += 1\n",
    "    diff_s = len(s) - same\n",
    "    diff_t = len(t) - same\n",
    "\n",
    "    diff = diff_s + diff_t\n",
    "\n",
    "    if ((diff - k) % 2 == 0) :\n",
    "        return 'Yes'\n",
    "    elif (k > (len(s) + len(t))) :\n",
    "        return 'Yes'\n",
    "    else : \n",
    "        return 'No'\n",
    "\n",
    "\n",
    "s = \"hackerhappy\"\n",
    "t = \"hackerrank\"\n",
    "k = 15\n",
    "\n",
    "print(appendDelete(s, t, k))\n",
    "\n",
    "a = \"ashely\"\n",
    "b = \"ash\"\n",
    "c = 2\n",
    "\n",
    "print(appendDelete(a, b, c))"
   ]
  },
  {
   "cell_type": "markdown",
   "id": "2ee0e179",
   "metadata": {},
   "source": [
    "> 다른 문자열과 차이가 나는 문자열(위에서는 happy와 rank)의 길이를 반복문을 통해 구한 뒤 이를 더한다(diff). diff에서 k를 빼고 이 결과가 나누어떨어질때 s는 k번의 연산을 통해 t로 바뀔 수 있으므로 이 경우에 대해 if문을 만들고 'Yes'를 리턴하게 하며, k가 문자열 s와 t의 길이를 합한 것보다 값이 클 경우 empty string에서 계속해서 삭제 연산이 가능하기 때문에 이 경우에도 'Yes'를 리턴한다.   \n",
    "이와 다른 경우들은 전부 k번의 연산을 통해 s를 t로 바꿀 수 없는 경우이므로 전부 'No'를 리턴하게 하였다."
   ]
  },
  {
   "cell_type": "markdown",
   "id": "7c845363",
   "metadata": {},
   "source": [
    "---------------------------------------\n",
    "# 소감\n",
    "    \n",
    "   \n",
    "> 3주차까지 리스트, 튜플, 인덱스와 여타 파이썬의 기본적인 요소들에 대해 학습하였다. 이번 과제는 수월하게 풀어낼 수 있었지만, C언어와 자꾸 반복문 함수들에 대해 혼동하여 다시금 강의를 펼쳐보아야 했다. 가장 어려웠던 문제들은 8번과 9번으로, 9번은 시간이 오래 걸려도 시행착오를 통해 풀어냈지만 8번 문제는 코드의 인트로를 작성하는 것 조차 어려워 예전에 제3자 인터넷 강의에서 배웠던 정규식을 동원해야 했다. 코딩하는 머리를 기를 수 있는 좋은 과제였다고 생각하빈다."
   ]
  }
 ],
 "metadata": {
  "kernelspec": {
   "display_name": "Python 3",
   "language": "python",
   "name": "python3"
  },
  "language_info": {
   "codemirror_mode": {
    "name": "ipython",
    "version": 3
   },
   "file_extension": ".py",
   "mimetype": "text/x-python",
   "name": "python",
   "nbconvert_exporter": "python",
   "pygments_lexer": "ipython3",
   "version": "3.8.8"
  }
 },
 "nbformat": 4,
 "nbformat_minor": 5
}
