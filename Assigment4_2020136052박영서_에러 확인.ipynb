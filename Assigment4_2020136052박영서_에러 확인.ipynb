{
 "cells": [
  {
   "cell_type": "markdown",
   "id": "8b150cc6",
   "metadata": {},
   "source": [
    "> ## Assignment 4\n",
    "> ### 스크립트 프로그래밍\n",
    "> 2020136052 박영서"
   ]
  },
  {
   "cell_type": "markdown",
   "id": "32984e20",
   "metadata": {},
   "source": [
    "    1. 다음 문제를 읽고 알맞은 코드를 제시하시오."
   ]
  },
  {
   "cell_type": "markdown",
   "id": "404a5511",
   "metadata": {},
   "source": [
    "    1) 파일 s.txt 내의 다음 내용과 함께 아래 문제의 코드를 제시하시오.\n",
    "> pig ham  \n",
    "cat dog  \n",
    "ham bird  \n",
    "dog pig"
   ]
  },
  {
   "cell_type": "code",
   "execution_count": 8,
   "id": "f4190e97",
   "metadata": {},
   "outputs": [],
   "source": [
    "f = open('s.txt','w')\n",
    "s = ['pig ham', 'cat dog', 'ham bird', 'dog pig']\n",
    "\n",
    "f.write(\"pig ham\\n\")\n",
    "f.write(\"cat dog\\n\")\n",
    "f.write(\"ham bird\\n\")\n",
    "f.write(\"dog pig\")\n",
    "\n",
    "f.close()"
   ]
  },
  {
   "cell_type": "code",
   "execution_count": 6,
   "id": "b796be15",
   "metadata": {},
   "outputs": [
    {
     "data": {
      "image/png": "[encoded data removed]",
      "text/plain": [
       "<IPython.core.display.Image object>"
      ]
     },
     "execution_count": 6,
     "metadata": {},
     "output_type": "execute_result"
    }
   ],
   "source": [
    "# !pip install IPython \n",
    "from IPython.display import Image\n",
    "Image(\"K-001.png\")"
   ]
  },
  {
   "cell_type": "markdown",
   "id": "34ab2fa1",
   "metadata": {},
   "source": [
    "> 파일을 쓰기 모드(w)로 열어 문자열을 입력하였다."
   ]
  },
  {
   "cell_type": "markdown",
   "id": "d25a189f",
   "metadata": {},
   "source": [
    "    2) 파일 s.txt을 읽어서 각 라인에 있는 첫 번째 단어(문자열) 자체들을 기준으로 라인별 정렬후 파일 s1.txt에 그 결과를 기록하는 코드를 작성하시오. 즉, 프로그램 수행 후 s1.txt에 있는 파일 내용은 다음과 같다.\n",
    "> cat dog  \n",
    "    dog pig  \n",
    "    ham bird  \n",
    "    pig ham  "
   ]
  },
  {
   "cell_type": "code",
   "execution_count": 10,
   "id": "6265d652",
   "metadata": {},
   "outputs": [],
   "source": [
    "f = open('s.txt', 'r')\n",
    "f2 = open('s1.txt','w')\n",
    "\n",
    "strings = f.read()\n",
    "\n",
    "strings = strings.split('\\n')\n",
    "\n",
    "for i in sorted(strings) : # 정렬\n",
    "    f2.write(i)\n",
    "    f2.write('\\n')\n",
    "    \n",
    "f.close()\n",
    "f2.close()"
   ]
  },
  {
   "cell_type": "code",
   "execution_count": 11,
   "id": "713b9715",
   "metadata": {},
   "outputs": [
    {
     "data": {
      "image/png": "[encoded data removed]",
      "text/plain": [
       "<IPython.core.display.Image object>"
      ]
     },
     "execution_count": 11,
     "metadata": {},
     "output_type": "execute_result"
    }
   ],
   "source": [
    "Image(\"K-002.png\")"
   ]
  },
  {
   "cell_type": "markdown",
   "id": "32bcac86",
   "metadata": {},
   "source": [
    "> s를 쓰기 모드로 열어 내부의 문자열을 받아온 후 이들을 \\n을 단위로 나누어준 후, s2를 쓰기 모드로 만들어 문자열들을 정렬한 뒤 저장하였다."
   ]
  },
  {
   "cell_type": "markdown",
   "id": "59c2ef74",
   "metadata": {},
   "source": [
    "    3) 파일 s.txt을 읽어서 각 라인에 있는 두 번째 단어(문자열) 자체들을 기준으로 라인별 정렬후 파일 s2.txt에 그 결과를 기록하는 코드를 작성하시오. 즉, 프로그램 수행 후 s2.txt에 있는 파일 내용은 다음과 같다.\n",
    "> ham bird  \n",
    "cat dog  \n",
    "pig ham  \n",
    "dog pig  "
   ]
  },
  {
   "cell_type": "code",
   "execution_count": 19,
   "id": "16005f8b",
   "metadata": {},
   "outputs": [],
   "source": [
    "def SortWithSecond(n):\n",
    "    return n[1]\n",
    "\n",
    "f = open('s.txt', 'r')\n",
    "f2 = open('s2.txt','w')\n",
    "\n",
    "strings = f.read()\n",
    "\n",
    "strings = strings.split('\\n')\n",
    "\n",
    "for i in sorted(s, key = SortWithSecond) : # sorted 함수 사용. 기준은 key(두번째 요소)\n",
    "    f2.write(i)\n",
    "    f2.write(\"\\n\")\n",
    "    \n",
    "f.close()\n",
    "f2.close()"
   ]
  },
  {
   "cell_type": "code",
   "execution_count": 7,
   "id": "20103de8",
   "metadata": {},
   "outputs": [
    {
     "ename": "NameError",
     "evalue": "name 'Image' is not defined",
     "output_type": "error",
     "traceback": [
      "\u001b[1;31m---------------------------------------------------------------------------\u001b[0m",
      "\u001b[1;31mNameError\u001b[0m                                 Traceback (most recent call last)",
      "\u001b[1;32m~\\AppData\\Local\\Temp/ipykernel_22252/2725019433.py\u001b[0m in \u001b[0;36m<module>\u001b[1;34m\u001b[0m\n\u001b[1;32m----> 1\u001b[1;33m \u001b[0mImage\u001b[0m\u001b[1;33m(\u001b[0m\u001b[1;34m\"K-003.png\"\u001b[0m\u001b[1;33m)\u001b[0m\u001b[1;33m\u001b[0m\u001b[1;33m\u001b[0m\u001b[0m\n\u001b[0m",
      "\u001b[1;31mNameError\u001b[0m: name 'Image' is not defined"
     ]
    }
   ],
   "source": [
    "Image(\"K-003.png\")"
   ]
  },
  {
   "cell_type": "markdown",
   "id": "314fa252",
   "metadata": {},
   "source": [
    "> 문자열들의 두번째 요소들을 기준으로 정렬된 것을 확인할 수 있다."
   ]
  },
  {
   "cell_type": "markdown",
   "id": "5594eba7",
   "metadata": {},
   "source": [
    "    4) 파일 s.txt을 읽어서 각 라인들에 있는 모든 단어들을 순차적으로 다시 나열하되 각 라인에 세 개의 단어들이 오도록 하여 s3.txt에 기록하는 코드를 작성하시오. 즉, 프로그램 수행 후 s3.txt에 있는 파일 내용은 다음과 같다."
   ]
  },
  {
   "cell_type": "markdown",
   "id": "58b2c242",
   "metadata": {},
   "source": [
    "> pig ham cat  \n",
    "dog ham bird  \n",
    "dog pig"
   ]
  },
  {
   "cell_type": "code",
   "execution_count": 37,
   "id": "b95e2baa",
   "metadata": {},
   "outputs": [],
   "source": [
    "f = open('s.txt', 'r')\n",
    "f2 = open('s3.txt','w')\n",
    "\n",
    "strings = f.read()\n",
    "\n",
    "strings = strings.replace(' ', '\\n') # replace 함수 순서 주의\n",
    "strings = strings.split('\\n')\n",
    "\n",
    "for i in range (0, len(strings)) :\n",
    "    if (i+1) % 3 == 0 and i > 0 :\n",
    "        f2.write(strings[i])\n",
    "        f2.write(\" \")      \n",
    "        f2.write(\"\\n\")\n",
    "    else :\n",
    "        f2.write(strings[i])\n",
    "        f2.write(\" \")        \n",
    "\n",
    "f.close()\n",
    "f2.close()"
   ]
  },
  {
   "cell_type": "code",
   "execution_count": 38,
   "id": "511029c1",
   "metadata": {},
   "outputs": [
    {
     "data": {
      "image/png": "[encoded data removed]",
      "text/plain": [
       "<IPython.core.display.Image object>"
      ]
     },
     "execution_count": 38,
     "metadata": {},
     "output_type": "execute_result"
    }
   ],
   "source": [
    "Image(\"K-004.png\")"
   ]
  },
  {
   "cell_type": "markdown",
   "id": "8f071a68",
   "metadata": {},
   "source": [
    "> 공백을 줄내림문자(\\n)로 대체한뒤, 줄내림 문자를 기준으로 split()하고 3의 배수번째 요소들만 write(\\n)으로 줄내림하게 하는 식으로 구현하였다."
   ]
  },
  {
   "cell_type": "markdown",
   "id": "2982f895",
   "metadata": {},
   "source": [
    "    2. 다음과 같은 조건들을 참고하여 회원 가입 및 로그인 프로그램을 작성하시오."
   ]
  },
  {
   "cell_type": "markdown",
   "id": "a37c8dbb",
   "metadata": {},
   "source": [
    "    1) 프로그램 시작 후 다음과 같은 메시지가 출력되어 1, 2, 3 중 하나의 값을 입력 받도록 한다.\n",
    "> Welcome to Our Service  \n",
    "\n",
    "> Sign Up  \n",
    "> Sign In  \n",
    "> Quit  "
   ]
  },
  {
   "cell_type": "markdown",
   "id": "7d167696",
   "metadata": {},
   "source": [
    "    2) 1을 선택하면 ID, Password, Name, School의 4가지 정보를 입력받아 파일에 저장하는 프로그램을 작성한다.  \n",
    "    * 2-1) 입력된 내용은 access.txt 라는 이름의 텍스트 파일 내에 저장된다.  \n",
    "    * 2-2) access.txt 파일의 각 라인에는 가입된 회원 각각의 정보가 \"[id]: [password], [name], [school]\" 형태로 저장된다.  \n",
    "    * 2-3) 즉, 가입 회원이 10명이면 access.txt 파일 내에 라인 수도 정확히 10개이다.  \n",
    "    * 2-4) 암호화 방식은 sha 모듈을 활용한다. sha 모듈 활용 방법은 본 문제의 마지막에 제시된 sha 활용 예를 참고한다.  \n",
    "        즉, access.txt 파일 내에 password 정보는 암호화 되어 저장되어야 한다.  \n",
    "    * 2-5) 회원 정보를 입력 받을 때 id를 입력 받은 직후 access.txt를 확인하여 이미 존재하는 id가 입력되었다면 다음 메시지를 출력하고 id 정보를 다시 입력받는다.  \n",
    "        Sorry, the entered ID is already used.  "
   ]
  },
  {
   "cell_type": "markdown",
   "id": "6c2cd263",
   "metadata": {},
   "source": [
    "    3) 2를 선택하면 ID, Password의 2가지 정보를 입력받는 프로그램을 작성한다.\n",
    "    * 3-1) 입력된 ID 정보가 access.txt에 존재하지 않으면 다음과 같은 메시지를 출력하고 다시 입력받는다.\n",
    "        Sorry, you are not a registered member.\n",
    "        * 3-2) 입력된 ID가 올바르게 존재하지만 Password 정보가 access.txt 파일에 있는 정보와 불일치하면 다음과 같은 메시지를 출력하고 Password를 다시 입력받는다.\n",
    "        Sorry, the entered password is not correct.\n",
    "        이 때에도 사용자가 입력한 Password 정보와 함께 sha 모듈이 활용되어야 한다.\n",
    "    * 3-3) 입력된 ID와 Password가 모두 올바르면 다음과 같은 메시지를 출력한다.\n",
    "        Hello [name]!\n",
    "        위 [name]에는 access.txt에 기록되어 있는 name 정보를 출력한다."
   ]
  },
  {
   "cell_type": "code",
   "execution_count": 11,
   "id": "60d57393",
   "metadata": {},
   "outputs": [
    {
     "name": "stdout",
     "output_type": "stream",
     "text": [
      "<ripemd160 _hashlib.HASH object @ 0x000001A9D75FD3D0>\n"
     ]
    }
   ],
   "source": [
    "import hashlib\n",
    "hasher = hashlib.sha1()\n",
    "password_plain = 'ripemd160'\n",
    "password_encrypted = hashlib.new(password_plain)\n",
    "password_encrypted.hexdigest()\n",
    "print(password_encrypted)"
   ]
  },
  {
   "cell_type": "code",
   "execution_count": null,
   "id": "8eeef97f",
   "metadata": {},
   "outputs": [],
   "source": [
    "import hashlib\n",
    "# hasher = hashlib.sha1()\n",
    "# password_plain = 'ripemd160'\n",
    "# password_encrypted = hashlib.new(password_plain)\n",
    "# password_encrypted.hexdigest()\n",
    "# print(password_encrypted)\n",
    "\n",
    "import hashlib\n",
    "\n",
    "def hash_password(password) :\n",
    "    result = hashlib.sha256(password.encode()) \n",
    "    return result.hexdigest()\n",
    "\n",
    "def DatabaseIDCheck(authDatabase, USER_new_id) :\n",
    "    for i in authDatabase :\n",
    "        first = i.find(\"[\") # 첫번째 대괄호 인덱스 체크\n",
    "        second = i.find(\"]\") # 두번째 대괄호 인덱스 체크\n",
    "        if first == -1 and second == -1 :\n",
    "            return True\n",
    "        else :\n",
    "            if(USER_new_id == i[first + 1 : second]) :\n",
    "                return False\n",
    "        return True\n",
    "\n",
    "def DatabasePasswordCheck(authDatabase, USER_Password) :\n",
    "    for i in authDatabase :\n",
    "        Encrypted_Password = hash_password(USER_Password) # 암호화된 비밀번호\n",
    "        \n",
    "        first = i.find(\"[\") # 첫번째 대괄호 인덱스 체크\n",
    "        second = i.find(\"]\") # 두번째 대괄호 인덱스 체크\n",
    "        third = i.find(\"[\", first + 1) # 세번째 대괄호 인덱스 체크\n",
    "        fourth = i.find(\"]\", second + 1) # 네번째 대괄호 인덱스 체크\n",
    "        fifth = i.find(\"[\", third + 1) # 다섯번째 대괄호 인덱스 체크\n",
    "        sixth = i.find(\"]\", fourth + 1) # 여섯번째 대괄호 인덱스 체크\n",
    "        \n",
    "        if Encrypted_Password == i[third + 1: fourth]:\n",
    "            return i[fifth + 1 : sixth] # 사용자 이름 리턴\n",
    "        \n",
    "    return False\n",
    "\n",
    "\n",
    "#===========================#\n",
    "\n",
    "\n",
    "print (\"Welcome to Our Service\")\n",
    "\n",
    "print(\"\\n  A. Sign Up\\n  B. Sign In\\n  C. Quit\\n\")\n",
    "userInput = input()\n",
    "\n",
    "if userInput == 'A' : # 가입(등록)\n",
    "    \n",
    "    new_auth = ''\n",
    "    \n",
    "    f = open('access.txt','r')\n",
    "    authDatabase = f.read()\n",
    "    authDatabase = authDatabase.split('\\n')\n",
    "    \n",
    "    while(True):\n",
    "        print('사용하실 ID를 입력하여 주십시오..')\n",
    "        USER_new_id = input()\n",
    "        \n",
    "        if (DatabaseIDCheck(authDatabase, USER_new_id) == False): # 겹치는 ID 존재시\n",
    "            print('Sorry, the entered ID is already used.')\n",
    "        else:\n",
    "            break\n",
    "                \n",
    "    print(\"비밀번호를 입력하여 주십시오.\")    \n",
    "    USER_new_password = input()\n",
    "    \n",
    "    print ('이름을 입력하여 주십시오.')\n",
    "    USER_new_name= input()\n",
    "    \n",
    "    print ('재학중인 학교의 이름을 입력하여 주십시오.')\n",
    "    USER_new_school = input()\n",
    "    \n",
    "    password_encrypted = hash_password(USER_new_password) # 사용자 비밀번호 암호화\n",
    "    \n",
    "    new_auth = '[' + USER_new_id + ']:[' + password_encrypted + '],[' + USER_new_name + '],[' + USER_new_school + ']'\n",
    "    \n",
    "    f = open('access.txt','a')\n",
    "    \n",
    "    f.write(new_auth)\n",
    "    f.write('\\n') # 줄내림\n",
    "    \n",
    "    f.close()\n",
    "        \n",
    "if userInput == 'B' :\n",
    "    \n",
    "    f = open('access.txt','r')\n",
    "    \n",
    "    authDatabase = f.read()\n",
    "    authDatabase = authDatabase.split('\\n')\n",
    "    \n",
    "    while(True):\n",
    "        print(\"회원님의 ID를 입력하여 주십시오.\")\n",
    "        USER_ID = input()\n",
    "        \n",
    "        if DatabaseIDCheck(authDatabase, USER_ID) == True :\n",
    "            print('Sorry, you are not a registered member.')\n",
    "        else:\n",
    "            break\n",
    "            \n",
    "    while(True):\n",
    "        print(\"회원님의 비밀번호를 입력하여 주십시오.\")\n",
    "        USER_Password = input()\n",
    "        \n",
    "        if DatabasePasswordCheck(authDatabase, USER_Password) == False :\n",
    "            print(\"Sorry, the entered password is not correct.\")\n",
    "        else:\n",
    "            print( 'Hello ' + '[' + DatabasePasswordCheck(authDatabase, USER_Password) +']!')\n",
    "            break\n",
    "            \n",
    "if userInput == 'C' :\n",
    "    print(\"시스템을 종료합니다.\")\n",
    "    exit(1)"
   ]
  },
  {
   "cell_type": "code",
   "execution_count": 14,
   "id": "97c1ff11",
   "metadata": {},
   "outputs": [
    {
     "data": {
      "image/png": "[encoded data removed]",
      "text/plain": [
       "<IPython.core.display.Image object>"
      ]
     },
     "execution_count": 14,
     "metadata": {},
     "output_type": "execute_result"
    }
   ],
   "source": [
    "Image(\"K-006.png\")"
   ]
  },
  {
   "cell_type": "code",
   "execution_count": 15,
   "id": "e0a7ff2b",
   "metadata": {},
   "outputs": [
    {
     "data": {
      "image/png": "[encoded data removed]",
      "text/plain": [
       "<IPython.core.display.Image object>"
      ]
     },
     "execution_count": 15,
     "metadata": {},
     "output_type": "execute_result"
    }
   ],
   "source": [
    "Image(\"K-007.png\")"
   ]
  },
  {
   "cell_type": "code",
   "execution_count": 16,
   "id": "e69bcec0",
   "metadata": {},
   "outputs": [
    {
     "data": {
      "image/png": "[encoded data removed]",
      "text/plain": [
       "<IPython.core.display.Image object>"
      ]
     },
     "execution_count": 16,
     "metadata": {},
     "output_type": "execute_result"
    }
   ],
   "source": [
    "Image(\"K-008.png\")"
   ]
  },
  {
   "cell_type": "code",
   "execution_count": 17,
   "id": "5016f45f",
   "metadata": {},
   "outputs": [
    {
     "data": {
      "image/png": "[encoded data removed]",
      "text/plain": [
       "<IPython.core.display.Image object>"
      ]
     },
     "execution_count": 17,
     "metadata": {},
     "output_type": "execute_result"
    }
   ],
   "source": [
    "Image(\"K-009.png\")"
   ]
  },
  {
   "cell_type": "markdown",
   "id": "ee39f6c5",
   "metadata": {},
   "source": [
    "> A를 입력했을 때는 가입, B를 입력했을 때에는 로그인, C를 입력했을 때에는 종료를 수행한다.  \n",
    "K-009.png에서 보이듯이 [아이디]:[비밀번호(암호화됨),[이름].[대학] 순으로 저장되게 되며, sha 모듈이 정상적으로 import되지 않는 관계로 비밀번호 암호화는 sha256으로 암호화하였다."
   ]
  },
  {
   "cell_type": "markdown",
   "id": "efd0d21a",
   "metadata": {},
   "source": [
    "    3. range() 함수와 유사한 frange() 함수를 다음 조건을 참고하여 만드시오."
   ]
  },
  {
   "cell_type": "markdown",
   "id": "38e4a1ae",
   "metadata": {},
   "source": [
    "    1) frange()의 인자 구성은 다음과 같이 range와 동일하지만 각 인수들은 음수를 받지 않는다고 가정한다.\n",
    ">> range(stop)\n",
    ">> range(start, stop[, step])"
   ]
  },
  {
   "cell_type": "markdown",
   "id": "7d421afd",
   "metadata": {},
   "source": [
    "    2) frange() 함수의 인자에 대한 기본 시작(start) 값은 0.0이고, 기본 단계(step) 값은 0.1이다."
   ]
  },
  {
   "cell_type": "markdown",
   "id": "0bac4a70",
   "metadata": {},
   "source": [
    "    3) frange 사용 예\n",
    "        3-1) frange(0.5)\n",
    "            [0.0, 0.1, 0.2, 0.3, 0.4]\n",
    "        3-2) frange(1.0, 2.0)\n",
    "            [1.0, 1.1, 1.2, 1.3, 1.4, 1.5, 1.6, 1.7, 1.8, 1.9]\n",
    "        3-3) frange(2.2, 4.0, 0.5)\n",
    "            [2.2, 2.7, 3.2, 3.7]"
   ]
  },
  {
   "cell_type": "code",
   "execution_count": null,
   "id": "a499b7f7",
   "metadata": {},
   "outputs": [],
   "source": [
    "def frange( *val ): # 가변 인자\n",
    "    lst = [] # 공백 리스트\n",
    "    \n",
    "    if len(val) == 1 :\n",
    "        \n",
    "        start = 0.0 # 시작 (디폴트 = 0.0)\n",
    "        step = 0.1 # 스텝 (디폴트 : 0.1)\n",
    "        stop = val[0] # 끝\n",
    "        \n",
    "        while (True):\n",
    "            start_ = \"%.1f\" % start # 문자열 포매팅\n",
    "            lst.append(float(start_)) # float로 형변환\n",
    "            \n",
    "            start += step # 매 루프마다 step씩 증가\n",
    "            \n",
    "            if ( start > stop ):\n",
    "                return lst\n",
    "            \n",
    "    if len(val) == 2 :\n",
    "        \n",
    "        start = val[0] # 시작\n",
    "        stop = val[1] # 끝\n",
    "        step = 0.1 # 스텝\n",
    "        \n",
    "        while (True) :\n",
    "            \n",
    "            start_ = \"%.1f\" % start\n",
    "            lst.append(float(start_))\n",
    "            \n",
    "            start += step\n",
    "            \n",
    "            if ( start > stop ) :\n",
    "                return lst\n",
    "            \n",
    "    if len(val) == 3 :\n",
    "\n",
    "        start = val[0] # ���� ���\n",
    "        stop = val[1] # �� ��夲\n",
    "        step = val[2] # ����\n",
    "\n",
    "        while (True) :\n",
    "\n",
    "            start_ = \"%.1f\" % start\n",
    "\n",
    "            lst.append(float(start_)) # ����ȯ\n",
    "\n",
    "            start += step\n",
    "\n",
    "            if ( start > stop ):\n",
    "                return lst\n",
    "    else :\n",
    "\n",
    "        print(\"error\")\n",
    "        exit(1)\n",
    "\n",
    "# �μ� 1���϶�\n",
    "print(frange(0.5))\n",
    "print(frange(1.0, 2.0))\n",
    "print(frange(2.2, 4.0, 0.5))"
   ]
  },
  {
   "cell_type": "code",
   "execution_count": 2,
   "id": "cc220b88",
   "metadata": {},
   "outputs": [
    {
     "data": {
      "image/png": "[encoded data removed]",
      "text/plain": [
       "<IPython.core.display.Image object>"
      ]
     },
     "execution_count": 2,
     "metadata": {},
     "output_type": "execute_result"
    }
   ],
   "source": [
    "Image(\"K-010.png\")"
   ]
  },
  {
   "cell_type": "markdown",
   "id": "8f1be531",
   "metadata": {},
   "source": [
    "> 가변인자를 받도록 하여, 각각 인자가 1개인 경우와 2개인 경우, 마지막으로 3개인 경우를 정의하였다.  \n",
    "이 문제부터 본격적으로 주피터 노트북에 문제가 발생하여, RUN을 하면 노트북이 블루스크린과 함께 강제종료되었다.  \n",
    "코드에도 손상이 가 일부 주석의 인코딩이 깨지는 문제가 발생하였다."
   ]
  },
  {
   "cell_type": "markdown",
   "id": "463eb9e6",
   "metadata": {},
   "source": [
    "    4. 가변인수를 받는 함수 sum()을 다음과 같은 조건을 참고하여 구현하시오"
   ]
  },
  {
   "cell_type": "markdown",
   "id": "74792e25",
   "metadata": {},
   "source": [
    "* sum() 사용 예\n",
    "> sum()  \n",
    "0\n",
    "\n",
    "> sum(1, 2)  \n",
    "3\n",
    "\n",
    "> sum(1, 2, 3, 4, 5)  \n",
    "15\n",
    "\n",
    "> sum(1, 5, 7, 2, -10)  \n",
    "5"
   ]
  },
  {
   "cell_type": "code",
   "execution_count": 3,
   "id": "39352e79",
   "metadata": {},
   "outputs": [
    {
     "name": "stdout",
     "output_type": "stream",
     "text": [
      "0\n",
      "3\n",
      "15\n",
      "5\n"
     ]
    }
   ],
   "source": [
    "def sum(*val) :\n",
    "\n",
    "    result = 0\n",
    "\n",
    "    for i in val :\n",
    "        result += i \n",
    "\n",
    "    print(result)\n",
    "\n",
    "#=======#\n",
    "\n",
    "sum()\n",
    "sum(1, 2)\n",
    "sum(1, 2, 3, 4, 5)\n",
    "sum(1, 5, 7, 2, -10)"
   ]
  },
  {
   "cell_type": "code",
   "execution_count": 9,
   "id": "c4ea8a1a",
   "metadata": {},
   "outputs": [
    {
     "data": {
      "image/png": "[encoded data removed]",
      "text/plain": [
       "<IPython.core.display.Image object>"
      ]
     },
     "execution_count": 9,
     "metadata": {},
     "output_type": "execute_result"
    }
   ],
   "source": [
    "Image(\"K-013.png\")"
   ]
  },
  {
   "cell_type": "markdown",
   "id": "13eaa581",
   "metadata": {},
   "source": [
    "> 처음에는 재귀를 이용하려 했으나 함수 이름을 sum으로 하니 정상적으로 작동하지 않았다. 가변 인수 자체를 연속적인 객체로 받아와 이를 통해 sum을 구현하였다."
   ]
  },
  {
   "cell_type": "markdown",
   "id": "85cd700d",
   "metadata": {},
   "source": [
    "    5. 여러 단어로 이루어진 문자열을 입력받아 각 단어의 첫글자로 이루어진 단어를 대문자로 출력하는 myinitial() 함수를 다음 조건을 참고하여 작성하시오."
   ]
  },
  {
   "cell_type": "markdown",
   "id": "c2b3ba2f",
   "metadata": {},
   "source": [
    "* 1) 다음에 제시되는 함수들을 모두 이용해야 한다.\n",
    "    * split\n",
    "    * map\n",
    "    * join"
   ]
  },
  {
   "cell_type": "markdown",
   "id": "e45aa4ee",
   "metadata": {},
   "source": [
    "* 2) myinitial() 함수 사용 예\n",
    "    * myinitial(\"as soon as possible\")\n",
    "        * ASAP"
   ]
  },
  {
   "cell_type": "code",
   "execution_count": 16,
   "id": "e0ad3abb",
   "metadata": {},
   "outputs": [
    {
     "name": "stdout",
     "output_type": "stream",
     "text": [
      "ASAP\n"
     ]
    }
   ],
   "source": [
    "def FirstString(lst) :\n",
    "    lst = lst.upper()\n",
    "    return lst[0] # 잘라내진 문자열의 첫번째 문자 가져옴\n",
    "\n",
    "def myinitial(result):\n",
    "    \n",
    "    result = result.strip(' ') # 혹시 모를 양 공백 제거\n",
    "    result = result.split(' ') # 띄어쓰기로 나눔\n",
    "    \n",
    "    result = list(map(FirstString, result))\n",
    "    result_f = \"\".join(result)\n",
    "    print(result_f)\n",
    "\n",
    "#=================#\n",
    "\n",
    "myinitial(\"as soon as possible\")"
   ]
  },
  {
   "cell_type": "markdown",
   "id": "3964ce53",
   "metadata": {},
   "source": [
    "> 혹시 모를 문자열의 양끝의 공백을 제거하는 strip과, 띄어쓰기를 기준으로 쪼개진 문자열들을 대문자화하고 첫 문자를 가져오는 FirstString() 함수를 추가적으로 구현하였다."
   ]
  },
  {
   "cell_type": "markdown",
   "id": "f249b57c",
   "metadata": {},
   "source": [
    "    6. 음이 아닌 정수 n를 입력받으면 n! (factorial)을 계산하는 myfact() 함수를 재귀적 함수로 구현하시오."
   ]
  },
  {
   "cell_type": "markdown",
   "id": "0619fca8",
   "metadata": {},
   "source": [
    "    * [옵션] 참을 수 있는 정도 만큼의 수행시간을 직접 기다려보면서 n을 늘려보도록 합시다."
   ]
  },
  {
   "cell_type": "code",
   "execution_count": null,
   "id": "e60bc6f0",
   "metadata": {},
   "outputs": [],
   "source": [
    "def myfact(n):\n",
    "    if n == 1:   \n",
    "        return 1 \n",
    "    print(n, end = ' ')\n",
    "    return n * myfact(n - 1)    \n",
    "\n",
    "#===============#\n",
    "\n",
    "myfact(4000)"
   ]
  },
  {
   "cell_type": "markdown",
   "id": "84f74380",
   "metadata": {},
   "source": [
    "    > 노트북 상의 주피터 노트북이 조금만 수틀리면 블루스크린을 출력해 정상적인 파악이 어렵다. 1000 이상부터 이상현상이 계속되었으며, 일단 특정 구간을 넘어서면 0으로만 출력되는 것을 확인할 수 있었다.  \n",
    "      \n",
    "      n부터 역순으로 1씩 감소하면서 재귀호출을 하도록 하여 1에 도달했을 때 재귀호출을 끝내는 방식으로 구현하였다."
   ]
  },
  {
   "cell_type": "markdown",
   "id": "754d82da",
   "metadata": {},
   "source": [
    "    7. (서술형) import string 과 from string import * 의 차이점을 설명하시오."
   ]
  },
  {
   "cell_type": "markdown",
   "id": "5573db7d",
   "metadata": {},
   "source": [
    "> import 모듈은 해당 모듈 전체를 가져오는 것이다.  \n",
    "이 경우에는 모듈 내의 메소드를 사용하려면 '모듈명.메소드' 같은 방식으로 구현해야 한다.  \n",
    "from 모듈 import 메소드 ~ 는 해당 모듈 내의 특정 메소드나 변수를 가져오는 것인데.  여기서 * 가 정규식의 와일드카드 문자와 같은 역할을 하여 모듈 내의 모든 메소드와 변수들을 가져오게 된다. 앞서 import 모듈과 달리 앞에 모듈 명을 붙일 필요가 없다."
   ]
  },
  {
   "cell_type": "markdown",
   "id": "b3467381",
   "metadata": {},
   "source": [
    "    [Incremental Project 문제]"
   ]
  },
  {
   "cell_type": "markdown",
   "id": "269e281d",
   "metadata": {},
   "source": [
    "이전 Assignment 3의 마지막 문제는 웹 URL로 지정된 웹페이지를 문자열로 가져와 모든 HTML 태그 및 CSS와 Javascript를 제외한 순수 텍스트를 얻어내고 그 안에 존재하는 단어를 추출하여 각 단어들에 대해 출현빈도를 사전형태({'world': 2, 'hello': 1, 'python': 1})로 저장하여 출력하는 것이었다. 이번에는 Assignment 3를 확장하여 다음과 같은 조건을 만족하도록 구현하시오."
   ]
  },
  {
   "cell_type": "code",
   "execution_count": 2,
   "id": "2c1586a1",
   "metadata": {},
   "outputs": [
    {
     "name": "stderr",
     "output_type": "stream",
     "text": [
      "C:\\Users\\dimit\\anaconda3\\lib\\site-packages\\urllib3\\connectionpool.py:1013: InsecureRequestWarning: Unverified HTTPS request is being made to host 'www.daum.net'. Adding certificate verification is strongly advised. See: https://urllib3.readthedocs.io/en/1.26.x/advanced-usage.html#ssl-warnings\n",
      "  warnings.warn(\n"
     ]
    },
    {
     "name": "stdout",
     "output_type": "stream",
     "text": [
      "{'@charset': 1, '\"utf-8\";': 1, 'body,div,dl,dt,dd,ul,ol,li,h1,h2,h3,h4,h5,h6,pre,code,form,fieldset,legend,textarea,p,blockquote,th,td,input,select,button{margin:0;padding:0}': 1, 'fieldset,img{border:0': 1, 'none}': 4, 'dl,ul,ol,menu,li{list-style:none}': 1, 'blockquote,': 1, 'q{quotes:': 1, 'blockquote:before,': 1, 'blockquote:after,q:before,': 1, \"q:after{content:'';content:none}\": 1, 'input,select,textarea,button{border-radius:0;vertical-align:middle}': 1, 'input::-ms-clear{display:none}': 1, 'button{border:0': 1, 'none;background-color:transparent;cursor:pointer}': 1, 'body{background:#fff;direction:ltr;-webkit-text-size-adjust:none}': 1, \"body,th,td,input,select,textarea,button{font-size:13px;line-height:1.5;font-family:AppleSDGothicNeo-Regular,'Malgun\": 1, \"Gothic','맑은\": 2, \"고딕',dotum,'돋움',sans-serif;color:#222;letter-spacing:-1px}\": 1, '.os_mac': 160, 'body,.os_mac': 1, 'th,.os_mac': 1, 'td,.os_mac': 1, 'input,.os_mac': 1, 'select,.os_mac': 1, 'textarea,.os_mac': 1, 'button{letter-spacing:0}': 1, 'a{color:#222;text-decoration:none}': 1, 'a:hover{color:#118eff;text-decoration:underline}': 1, 'a:active{background-color:transparent}': 1, 'address,caption,cite,code,dfn,em,var{font-style:normal;font-weight:normal}': 1, '.ir_pm{display:block;overflow:hidden;font-size:1px;line-height:0;text-indent:-9999px}': 1, '.ir_wa{display:block;overflow:hidden;position:relative;width:100%;height:100%;z-index:-1}': 1, '.screen_out{overflow:hidden;position:absolute;width:0;height:0;line-height:0;text-indent:-9999px}': 1, '.show{display:block}': 1, '.hide{display:none}': 1, '.d_index{position:relative;width:100%}': 1, '.d_index': 7, '.shortcut_g{position:absolute;top:-34px;left:0;height:33px;padding:0': 1, '20px': 2, '0': 130, '26px;border-bottom:1px': 1, 'solid': 55, '#3f4243;font-size:11px;line-height:14px;background-color:#26292a;color:#fff;letter-spacing:-1px;text-align:center}': 1, '.shortcut_g:active,': 2, '.shortcut_g:focus{overflow:hidden;top:0;text-decoration:none;z-index:101}': 1, '.shortcut_g:hover{color:#fff}': 1, '.shortcut_g': 2, '.inner_shortcut{display:inline-block;padding-right:10px;margin-top:8px;background-position:100%': 1, '-220px;vertical-align:top}': 1, '.inner_shortcut{margin-top:11px;background-position:100%': 1, '-223px}': 1, '.ico_pctop{overflow:hidden;background:url(//t1.daumcdn.net/daumtop_deco/images/top/2017/ico_pctop_190618_v2.png)': 1, 'no-repeat': 21, '0}': 74, '.ico_pctop2{overflow:hidden;background:url(//t1.daumcdn.net/daumtop_deco/images/top/2019/img_pctop_200207.png)': 1, '.ico_vert{overflow:hidden;background:url(//t1.daumcdn.net/daumtop_deco/images/top/2017/ico_pctop_vert_170724.png)': 1, '.ico_vert2{overflow:hidden;background:url(//t1.daumcdn.net/daumtop_deco/images/top/2019/img_pctop_vert_200107.png)': 1, '.txt_pctop{overflow:hidden;background:url(//t1.daumcdn.net/daumtop_deco/images/top/2021/txt_pctop_210121.png)': 1, '0;letter-spacing:-1px;white-space:nowrap}': 1, '.ico_top_layer{overflow:hidden;background:url(//t1.daumcdn.net/daumtop_deco/images/top/2019/ico_top_layer.png)': 1, '.bg_pctop{background:url(//t1.daumcdn.net/daumtop_deco/images/top/2017/bg_pctop_190612.png)': 1, '.num_pctop{overflow:hidden;background:url(//t1.daumcdn.net/daumtop_deco/images/top/2017/num_pctop_170405.png)': 1, '.img_thumb{display:block;vertical-align:top}': 1, '.frame_g{position:absolute;top:0;left:0;border:1px': 1, '#000;opacity:0.08;filter:alpha(opacity=8)}': 1, '.thumb_g{display:block;position:relative}': 1, '#daumWrap{position:relative;min-width:1080px}': 1, '#daumWrap{transform:translate3d(0px,': 1, '0px,': 1, '0px)}': 1, '.head_daum{position:relative;z-index:100}': 1, '.cont_main{position:relative;width:990px;margin:15px': 1, 'auto': 4, '.cont_topic{overflow:hidden;position:relative;z-index:0;width:100%;border-top:1px': 1, '#ececec;background-color:#fbfbfc;background-position:50%': 1, '100%;background-repeat:no-repeat}': 1, '.feature_tmp{display:inline-block;vertical-align:top}': 1, '.wrap_main{padding-bottom:40px;clear:both;*zoom:1}': 1, \".wrap_main:after{display:block;visibility:hidden;height:0;font-size:0;clear:both;content:''}\": 1, '.cmain_tmp{float:left;width:655px;margin-right:35px}': 1, '.wing_tmp{float:left;width:300px}': 1, '.foot_daum{border-top:1px': 1, '#888}': 5, '.foot_daum': 26, '.inner_foot{overflow:hidden;position:relative;width:990px;margin:0': 1, 'auto;padding:37px': 1, '78px}': 1, '.link_logo{float:left}': 1, '.info_notice{overflow:hidden;padding:0': 1, '250px': 3, '30px}': 1, '.tit_notice{float:left;font-size:13px}': 1, '.link_notice{display:block;padding-right:9px;background-position:100%': 1, '-169px}': 1, '.link_notice:hover{color:#222}': 1, '.list_notice{overflow:hidden;width:542px;height:19px;margin-bottom:26px;padding-left:9px}': 1, '.list_notice': 2, '.link_info{display:block;overflow:hidden;text-overflow:ellipsis;white-space:nowrap}': 1, '.link_info:hover{color:#222}': 1, '.search_foot{position:absolute;top:32px;right:0}': 1, '.box_search{position:relative;z-index:1;width:209px;height:28px;border:1px': 1, '#c8c8c8}': 1, '.search_on{border-color:#0089ff}': 1, '.tf_keyword{float:left;width:164px;margin:5px': 1, '9px;border:1px': 1, 'transparent;line-height:19px;outline:0}': 1, '.btn_search{float:right;width:32px;height:28px;line-height:28px;background-position:0': 1, '-230px;background-color:transparent}': 1, '.link_svcall{position:absolute;top:36px;right:0;padding-right:10px;font-weight:bold;color:#888;background-position:100%': 1, '-194px}': 1, '.info_policy{padding:0px': 1, '0;font-size:12px;line-height:20px;color:#888}': 1, '.info_policy': 2, '.link_info{color:#888}': 1, '.txt_dot{padding:0': 1, '2px}': 3, '.txt_copyright{display:block;padding-top:6px;font-size:11px;color:#888}': 1, '.txt_copyright': 1, '.link_kakao{color:#888}': 1, '.info_notice{padding:3px': 1, '31px}': 1, '.link_notice{padding-right:12px;background-position-y:-172px}': 1, '.list_notice{margin-bottom:24px}': 1, '.tf_keyword{margin-top:4px}': 1, '.link_svcall{top:39px;background-position-y:-196px}': 1, '.txt_copyright{padding-top:5px}': 1, '.d_head{border-bottom:1px': 1, '#ececec}': 8, '.d_head': 1, '.inner_head{position:relative;z-index:1;width:1080px;height:150px;margin:0': 1, 'auto}': 4, '.tit_daum{overflow:hidden;float:left;width:180px;height:150px;text-align:center}': 1, '.link_daum{overflow:hidden;display:block;margin:28px': 1, '.link_launch{position:absolute;top:6px;left:45px;padding-right:8px;font-size:11px;color:#888;background-position:100%': 1, '-18px}': 1, '.link_launch{top:9px;background-position:100%': 1, '-21px}': 1, '.wrap_search{float:left;position:relative;margin-top:50px}': 1, '.wrap_search': 1, '.d_sch{background-color:#fff}': 1, '.head_daum': 17, '.box_search{position:relative;height:44px;margin:1px': 1, '1px': 2, '0;border:1px': 2, '#0089ff;border-radius:1px}': 1, '.box_search': 2, '.inner_search{position:relative;z-index:10;height:44px;padding:0': 1, '80px': 1, '14px}': 2, '.box_search::before,': 1, '.inner_search::before,': 1, \".box_search::after{position:absolute;left:0;right:100%;height:1px;content:'';background-color:#0089ff}\": 1, '.box_search::before{top:-1px}': 1, '.box_search::after{bottom:-1px}': 1, '.box_search:hover::before,': 1, '.box_search:hover::after{right:0;transition-property:right;transition-duration:0.8s;background:linear-gradient(to': 1, 'right,': 1, '#86aaff,': 1, '#70bc4c,': 1, '#ffbe00,': 1, '#f46e85)}': 1, '.box_search:hover': 1, '.inner_search::before{top:-1px;bottom:-1px;left:auto;right:-1px;width:1px;height:46px;background-color:#f46e85;transition-property:height;transition-delay:0.8s}': 1, '.tf_keyword{float:left;width:422px;margin-top:7px;border:1px': 1, 'transparent;font-size:18px;line-height:24px;background-color:transparent;outline:0;ime-mode:active;-webkit-appearance:none}': 1, '.btn_search{position:absolute;top:0;right:0;width:49px;height:42px;margin:1px;line-height:44px;background-position:-40px': 1, '-231px;background-color:transparent}': 1, '.slide_favorsch{overflow:hidden;width:480px;height:28px}': 1, '.list_favorsch{overflow:hidden;padding-top:7px}': 1, '.list_favorsch': 3, 'li{float:left;padding-right:10px}': 1, '.link_favorsch{display:block;font-size:12px;color:#555}': 1, '.page_pctop{z-index:1;right:1px;bottom:3px}': 1, '.head_bnr{position:absolute;top:33px;right:45px}': 1, '.head_bnr': 1, '.link_headbnr{display:block}': 1, '.box_search{margin-top:0}': 1, '.tf_keyword{margin-top:11px}': 1, '.list_favorsch{padding-top:10px}': 1, 'li{padding-right:14px}': 1, '.img_keyboard{background-image:url(//t1.daumcdn.net/daumtop_deco/images/top/2017/img_keyboard_171229.png)}': 1, '.btn_key{position:absolute;top:0;right:58px;width:29px;height:42px;margin:1px;line-height:44px;background-position:0': 1, '.btn_key.btn_on{background-position:0': 1, '-50px}': 2, '.keyboard_layer{position:absolute;top:45px;left:382px;z-index:10000}': 1, '.keyboard_layer': 78, '.group_keyboard{display:none;padding:49px': 1, '16px': 5, '20px;width:435px;height:166px;border:1px': 1, '#888;background-color:#fff}': 3, '.group_keyboard.on{display:block}': 1, '.group_keyboard': 47, '.tit_keyboard{position:absolute;top:20px;left:20px;width:24px;height:13px;background-position:0': 1, '-120px}': 5, '.eng_basic': 7, '.tit_keyboard,.keyboard_layer': 1, '.eng_shift': 7, '.tit_keyboard{background-position:0': 1, '-140px}': 2, '.btn_close{overflow:hidden;position:absolute;top:19px;right:20px;width:13px;height:13px;background-position:0': 1, '-100px}': 13, '.keyboard_line{overflow:hidden;margin-top:4px}': 1, '.keyboard_1nd{overflow:hidden;margin:0}': 1, '.keyboard_2nd{padding-left:15px}': 1, '.keyboard_3nd{padding-left:30px}': 1, '.btn_keyboard{overflow:hidden;float:left;width:26px;height:30px;margin-right:4px;text-align:center;text-indent:-9999px}': 1, '.kor_basic': 6, '.btn_keyboard{background-image:url(//t1.daumcdn.net/daumtop_deco/images/top/2017/img_kor_171226.png)}': 1, '.btn_keyboard:hover,.keyboard_layer': 8, '.btn_keyboard:active{background-image:url(//t1.daumcdn.net/daumtop_deco/images/top/2017/img_kor_hover_171226.png)}': 1, '.kor_shift': 6, '.btn_keyboard{background-image:url(//t1.daumcdn.net/daumtop_deco/images/top/2017/img_kor_shift_171229.png)}': 1, '.btn_keyboard:active{background-image:url(//t1.daumcdn.net/daumtop_deco/images/top/2017/img_kor_shift_hover_171229.png)}': 1, '.btn_keyboard{background-image:url(//t1.daumcdn.net/daumtop_deco/images/top/2017/img_eng_171226.png)}': 1, '.btn_keyboard:active{background-image:url(//t1.daumcdn.net/daumtop_deco/images/top/2017/img_eng_hover_180122.png)}': 1, '.btn_keyboard{background-image:url(//t1.daumcdn.net/daumtop_deco/images/top/2017/img_eng_shift_171226.png)}': 1, '.btn_keyboard:active{background-image:url(//t1.daumcdn.net/daumtop_deco/images/top/2017/img_eng_shift_hover_171226.png)}': 1, '.keyboard_1{background-position:-30px': 1, '.keyboard_2{background-position:-60px': 1, '.keyboard_3{background-position:-90px': 1, '.keyboard_4{background-position:-120px': 1, '.keyboard_5{background-position:-150px': 1, '.keyboard_6{background-position:-180px': 1, '.keyboard_7{background-position:-210px': 1, '.keyboard_8{background-position:-240px': 1, '.keyboard_9{background-position:-270px': 1, '.keyboard_10{background-position:-300px': 1, '.keyboard_11{background-position:-330px': 1, '.keyboard_12{background-position:-360px': 1, '.keyboard_13{background-position:-15px': 1, '-34px}': 13, '.keyboard_14{background-position:-45px': 1, '.keyboard_15{background-position:-75px': 1, '.keyboard_16{background-position:-105px': 1, '.keyboard_17{background-position:-135px': 1, '.keyboard_18{background-position:-165px': 1, '.keyboard_19{background-position:-195px': 1, '.keyboard_20{background-position:-225px': 1, '.keyboard_21{background-position:-255px': 1, '.keyboard_22{background-position:-285px': 1, '.keyboard_23{background-position:-315px': 1, '.keyboard_24{background-position:-345px': 1, '.keyboard_25{background-position:-375px': 1, '.keyboard_26{background-position:-30px': 1, '-68px}': 11, '.keyboard_27{background-position:-60px': 1, '.keyboard_28{background-position:-90px': 1, '.keyboard_29{background-position:-120px': 1, '.keyboard_30{background-position:-150px': 1, '.keyboard_31{background-position:-180px': 1, '.keyboard_32{background-position:-210px': 1, '.keyboard_33{background-position:-240px': 1, '.keyboard_34{background-position:-270px': 1, '.keyboard_35{background-position:-300px': 1, '.keyboard_36{background-position:-330px': 1, '.keyboard_37{background-position:-75px': 1, '-102px}': 12, '.keyboard_38{background-position:-105px': 1, '.keyboard_39{background-position:-135px': 1, '.keyboard_40{background-position:-165px': 1, '.keyboard_41{background-position:-195px': 1, '.keyboard_42{background-position:-225px': 1, '.keyboard_43{background-position:-255px': 1, '.keyboard_44{background-position:-285px': 1, '.keyboard_45{background-position:-315px': 1, '.keyboard_46{background-position:-345px': 1, '.keyboard_spe.bksp{width:41px;background-position:-390px': 1, '.keyboard_spe.shift{width:71px;background-position:0': 1, '.keyboard_spe.shift2{width:56px;background-position:-375px': 1, '.keyboard_spe.lang{width:86px;background-position:0': 1, '-136px}': 3, '.keyboard_spe.space{width:251px;background-position:-90px': 1, '.keyboard_spe.enter{width:86px;background-position:-345px': 1, '.daumSuggestWrap{position:relative;margin-right:90px;clear:both}': 1, '.suggestBox{position:absolute;top:45px;left:0;z-index:9999;width:520px;padding:0;background:none}': 1, '.baseBox{border-top:1px': 1, \"#dcdcdc;font-size:12px;line-height:17px;font-family:'굴림',gulim,sans-serif;background-color:#fff}\": 1, \".baseBox{font-family:'Apple\": 1, 'SD': 6, 'Gothic': 6, \"Neo',sans-serif}\": 6, '.suggestBox': 96, '.list{padding:7px': 1, '13px;border-left:1px': 1, '#dcdcdc;border-right:1px': 2, '#dcdcdc;color:#333;background-color:#fff}': 1, '.suggestBox.reverseType': 2, '.list{padding:3px': 1, '7px;color:#333}': 1, '.baseBox': 4, 'li{overflow:hidden;height:26px;padding:0': 1, '16px;line-height:26px;text-align:left;cursor:pointer}': 1, 'li': 10, '.item{display:block;height:100%}': 1, '.item:hover{text-decoration:none}': 1, '.list': 1, '.on{background-color:#f6f6f6}': 1, 'strong{font-weight:normal;color:#0089ff}': 1, '.line{overflow:hidden;height:1px;margin:7px': 1, '0px': 1, '6px;padding:0;font-size:1px;line-height:1px;background-color:#e5e5e5}': 1, '.guide{padding:15px': 1, '10px;color:#555}': 1, '.footer{position:relative;height:20px;padding:8px': 1, '12px': 5, '4px': 4, '7px;border:1px': 1, '#dcdcdc;border-top:1px': 1, '#ececec;font-size:11px;background-color:#fbfbfb;letter-spacing:-1px;clear:both}': 1, '.footer{border-top-color:#dcdcdc;border-bottom-color:#ededed}': 1, '.footer': 7, '.fl{float:left}': 1, '.fr{float:right}': 1, '.btn_close{padding-left:12px;background-position:0': 1, '-939px}': 1, '.bar{display:none;padding:0': 1, '2px;color:#ddd}': 1, '.fl': 1, '.bar{padding:0': 1, '2px': 7, '1px}': 2, '.offGuide{display:none;position:absolute;right:0;bottom:19px;width:211px;height:27px;background:url(//search1.daumcdn.net/search/statics/common/pi/suggest_service.gif)': 1, 'no-repeat;text-indent:-999em}': 1, '.offSuggest{display:none}': 1, '.list{padding:9px': 1, '11px}': 2, 'li{padding:0': 2, '17px}': 2, 'a{color:#777}': 1, '.answer{border-left:1px': 1, '#dcdcdc}': 1, '.answer': 1, 'span{cursor:pointer}': 1, \"a{font-size:14px;color:#333;font-family:'돋움',dotum,sans-serif;text-decoration:none}\": 1, \"a{font-family:'Apple\": 1, '.line{display:block;overflow:hidden;clear:both}': 1, '.b_line{border-bottom:1px': 1, '#ededed}': 1, '.suggest_exact{display:block;overflow:hidden;height:40px;padding:12px': 1, '11px': 1, '18px}': 1, '.suggest_exact:hover{text-decoration:none}': 1, '.e_on{background-color:#f8f8f8;text-decoration:none}': 1, '.suggest_exact': 56, '.txt_exact{float:left;height:44px;margin-top:0;background-position:0': 1, '.txt_unit{font-size:14px;font-family:arial,sans-serif}': 1, \".tit{margin-left:-1px;font-weight:normal;font-size:12px;line-height:18px;font-family:'굴림',gulim,sans-serif;color:#333}\": 1, '.cont{display:block}': 1, \".txt_cont{margin-right:4px;font-weight:bold;font-size:14px;line-height:16px;font-family:'돋움',dotum,sans-serif;color:#333}\": 1, '.txt_num1{font-size:18px;line-height:20px;font-family:tahoma,sans-serif;color:#333}': 1, \".txt_num2{margin-left:3px;font-size:12px;line-height:14px;font-family:'굴림',gulim,sans-serif;color:#333}\": 1, '.txt_num3{font-size:20px;line-height:23px;font-family:arial,sans-serif;color:#333}': 1, \".txt_num4{margin-left:-3px;font-size:12px;line-height:14px;font-family:'굴림',gulim,sans-serif;color:#333}\": 1, '.txt_exact': 5, '.ico_suggest2{background:url(//search1.daumcdn.net/search/statics/common/pi/ico/ico_suggest_20110721.gif)': 1, '.ico_celsius{background:none}': 1, '.ico_arrow_up{padding-left:11px;background-position:0': 1, '-58px}': 1, '.ico_arrow_down{padding-left:11px;background-position:0': 1, '-98px}': 1, '.ico_arrow_equal{padding-left:11px;background-position:0': 1, '-75px}': 1, '.txt_blue{color:#007aff}': 1, '.txt_blue2{color:#007aff}': 1, '.txt_red{color:#e52d38}': 1, '.txt_red2{color:#e52d38}': 1, '.txt_time{float:right;margin:25px': 1, \"0;font-size:11px;font-family:'돋움',dotum,sans-serif;color:#a1a1a1}\": 1, '.ico_celsius{width:12px;height:13px;font-family:arial,sans-serif;background-position:right': 1, '5px}': 2, '.bar{font-size:14px;color:#dedede}': 1, '.wrap_today{overflow:hidden;height:21px;padding:4px': 1, '10px': 2, '9px;line-height:21px}': 1, '.wrap_today': 2, '.cont{font-size:14px;color:#333;text-decoration:none}': 1, '.cont_import{font-weight:normal;color:#ea570a}': 1, \".tit{font-family:'Apple\": 1, \".txt_num2{font-family:'Apple\": 1, \".txt_num4{font-family:'Apple\": 1, \".txt_time{font-family:'Apple\": 1, '.ico_lotto{float:left;width:28px;height:28px;margin:6px': 1, '5px': 5, '0;border-radius:20px;text-align:center}': 1, '.ico_lotto': 1, '.txt_num{display:inline-block;margin-top:7px;font-size:14px;line-height:1;font-family:arial,sans-serif;color:#fff;vertical-align:top}': 1, '.num1{background-color:#f6a800}': 1, '.num10{background-color:#4155cb}': 1, '.num20{background-color:#f64d61}': 1, '.num30{background-color:#585d6e}': 1, '.num40{background-color:#f6a800}': 1, '.plus{width:8px;height:8px;margin:16px': 1, '8px': 6, '4px;background:url(//search1.daumcdn.net/search/statics/common/pi/ico/ico_suggest_20110721.gif)': 1, '-40px;text-indent:-9999px;opacity:0.5}': 1, '.ico_suggest{padding-left:59px;color:#555;background:url(//search1.daumcdn.net/search/statics/common/pi/r2/weather/ico_weather_m_210421.png)': 1, 'no-repeat;background-size:43px': 1, '1740px}': 1, '.ico_suggest': 1, '.cont': 1, '.screen_out{position:static;font-size:14px;font-family:arial,sans-serif;text-indent:0}': 1, '.weather_comp': 1, '.txt_exact{overflow:hidden;float:left;height:44px;margin-top:0}': 1, '.ico_w00{background-position:0': 1, '-1620px}': 1, '.ico_w01{background-position:0': 2, '.night': 24, '-60px}': 15, '.ico_w02{background-position:0': 2, '-180px}': 2, '.ico_w03{background-position:0': 2, '-240px}': 3, '-300px}': 2, '.ico_w04{background-position:0': 1, '-360px}': 2, '.ico_w05{background-position:0': 2, '-420px}': 1, '-480px}': 1, '.ico_w06{background-position:0': 2, '-540px}': 1, '-600px}': 1, '.ico_w07{background-position:0': 1, '-660px}': 1, '.ico_w08{background-position:0': 1, '-720px}': 1, '.ico_w09{background-position:0': 1, '-780px}': 1, '.ico_w10{background-position:0': 2, '-840px}': 1, '-900px}': 1, '.ico_w11{background-position:0': 1, '-960px}': 1, '.ico_w12{background-position:0': 1, '-1020px}': 1, '.ico_w13{background-position:0': 2, '-1080px}': 1, '-1140px}': 1, '.ico_w14{background-position:0': 1, '-1200px}': 1, '.ico_w15{background-position:0': 1, '-1260px}': 1, '.ico_w16{background-position:0': 2, '-1320px}': 1, '-1380px}': 1, '.ico_w17{background-position:0': 1, '-1440px}': 1, '.ico_w18{background-position:0': 1, '-1500px}': 1, '.ico_w19{background-position:0': 1, '-1560px}': 1, '.ico_w20{background-position:0': 1, '-1680px}': 1, '#daumSuggestWrap{display:none}': 1, '.d_service{border-bottom:1px': 1, '.d_service': 1, '.inner_service{position:relative;width:990px;height:45px;margin:0': 1, '.menu_service{float:left;position:relative;width:668px}': 1, '.menu_service': 1, '.link_more{overflow:hidden;float:left;width:58px;height:25px;padding:10px': 1, '9px;line-height:20px;background-position:0': 1, '8px;background-color:transparent;text-align:center}': 1, '.menu_on': 2, '.link_more{background-position:-60px': 1, '8px}': 3, '.list_mainsvc{float:left}': 1, '.list_mainsvc': 15, 'li{float:left;height:45px}': 1, '.txt_pctop{display:block;height:25px;padding:10px': 1, '0;margin-right:5px;font-weight:bold;font-size:13px;line-height:25px;background-color:transparent;text-align:center}': 1, '.link_cafe{width:30px;background-position:0': 1, '-30px}': 24, '.link_mail{width:36px;background-position:-30px': 1, '.link_news{width:37px;background-position:-66px': 1, '.link_map{width:36px;background-position:-103px': 1, '.link_stock{width:37px;background-position:-139px': 1, '.link_shopping{width:36px;background-position:-176px': 1, '.link_kakaotv{width:64px;background-position:-212px': 1, '.link_webtoon{width:37px;background-position:-276px': 1, '.link_blog{width:48px;background-position:-313px': 1, '.link_brunch{width:47px;background-position:-361px': 1, '.link_dic{width:36px;background-position:-408px': 1, '.link_game{width:37px;background-position:-444px': 1, '.link_together{width:59px;margin-right:7px;background-position:-481px': 1, '.service_layer{display:none;position:absolute;top:45px;left:0;width:653px;border:1px': 1, '.service_layer{display:block}': 1, '.service_layer': 21, '.layer_body{overflow:hidden;background:url(//t1.daumcdn.net/daumtop_deco/images/top/2017/bg_line.gif)': 1, 'repeat-y': 1, '.coll_svc{float:left;width:109px}': 1, '.sort_service{overflow:hidden;padding:0': 1, '15px': 5, '15px}': 1, '.sort_service': 8, 'dt{margin:11px': 1, '4px;font-weight:bold;font-size:12px}': 1, 'dd{clear:both;font-size:12px;line-height:22px}': 1, '.tit_split{float:left;padding-right:9px;background-position:100%': 1, '.link_svc{color:#555}': 1, '.link_svc:hover{color:#118eff}': 1, '.ico_new{display:inline-block;width:11px;height:11px;margin:-2px': 1, '2px;font-size:0;line-height:0;background-position:-160px': 1, '-80px;vertical-align:middle;text-indent:-9999px}': 1, '.sort_type2{height:146px;padding-bottom:0}': 1, '.coll_svc.fst{width:108px}': 1, '.coll_svc.fst': 1, '.sort_service{padding-left:14px}': 1, '.layer_foot{overflow:hidden;height:32px;border-top:1px': 1, '#ececec;background-color:#fbfbfb}': 4, '.layer_foot': 4, '.link_total{float:left;padding-right:8px;margin-left:13px;font-size:11px;line-height:29px;color:#555;background-position:100%': 1, '-12px}': 2, '.btn_close{float:right;padding:0': 1, '13px;margin:2px;font-size:11px;line-height:24px;color:#888}': 1, '.sort_service{padding-bottom:12px}': 1, 'dt{margin:14px': 1, '4px}': 4, '.tit_split{background-position:100%': 1, '3px}': 3, '.sort_type2{padding-bottom:0}': 1, '.link_total{padding-right:10px;margin-left:14px;line-height:32px;background-position:100%': 1, '.btn_close{padding:0': 1, '12px;line-height:28px}': 1, '.today_base{float:right;position:relative;height:45px}': 1, '.today_base': 5, '.comp_base{display:inline-block;vertical-align:top}': 1, '.img_weather{background-image:url(//t1.daumcdn.net/daumtop_deco/images/top/2017/img_weather_170628.png);background-repeat:no-repeat;font-size:0;line-height:0;text-indent:-9999px}': 1, '.txt_temper{float:left;font-size:14px;font-family:tahoma,arial,sans-serif;letter-spacing:0}': 1, '.txt_temper{font-family:helvetica,arial,sans-serif}': 1, '.info_today{float:left;font-size:13px}': 1, '.info_today': 43, '.date_today{float:left;height:24px;padding-top:10px;line-height:20px;letter-spacing:0}': 1, '.txt_part{float:left;margin-right:5px;font-weight:bold;line-height:24px}': 1, '.link_weather{overflow:hidden;float:left;height:25px;margin-left:16px;padding:8px': 1, '12px;line-height:24px;text-align:right}': 1, '.link_weather:hover{color:#222;text-decoration:none}': 2, '.list_weather{float:left;overflow:hidden;height:25px}': 1, '.list_weather': 1, 'li{overflow:hidden;height:25px}': 1, '.date_today{line-height:26px}': 1, '.txt_part{line-height:30px}': 1, '.link_weather{line-height:26px}': 1, '.link_weather': 5, '.ico_more{margin-top:10px}': 1, '.ico_ws{background-image:url(//t1.daumcdn.net/daumtop_deco/images/top/2021/rtn/ico_ws_210513.png);background-repeat:no-repeat;font-size:0;line-height:0;background-size:270px': 1, '120px;text-indent:-9999px}': 1, '.ico_ws{float:left;width:26px;height:26px;margin:1px': 1, '0;vertical-align:top}': 3, '.ico_wm01{background-position:0': 2, '.ico_wm01{background-position:-30px': 1, '0px}': 1, '.ico_wm02{background-position:-60px': 1, '.ico_wm02{background-position:-90px': 1, '.ico_wm03{background-position:-120px': 1, '.ico_wm03{background-position:-150px': 1, '.ico_wm04{background-position:-180px': 1, '.ico_wm05{background-position:-210px': 1, '.ico_wm05{background-position:-240px': 1, '.ico_wm06{background-position:0': 2, '.ico_wm06{background-position:-30px': 1, '.ico_wm07{background-position:-60px': 1, '.ico_wm08{background-position:-90px': 1, '.ico_wm09{background-position:-120px': 1, '.ico_wm10{background-position:-150px': 1, '.ico_wm10{background-position:-180px': 1, '.ico_wm11{background-position:-210px': 1, '.ico_wm12{background-position:-240px': 1, '.ico_wm13{background-position:0': 2, '.ico_wm13{background-position:-30px': 1, '.ico_wm14{background-position:-60px': 1, '.ico_wm15{background-position:-90px': 1, '.ico_wm16{background-position:-120px': 1, '.ico_wm16{background-position:-150px': 1, '.ico_wm17{background-position:-180px': 1, '.ico_wm18{background-position:-210px': 1, '.ico_wm19{background-position:-240px': 1, '.ico_wm20{background-position:0': 2, '-90px}': 2, '.txt_temper{margin-top:1px}': 1, '.ico_degree{float:left;width:17px;height:15px;margin:7px': 1, '0;font-size:12px;line-height:17px;background-position:-210px': 1, '-270px;background-color:transparent;text-align:center;text-indent:0}': 1, '.ico_more{float:left;width:13px;height:9px;margin:9px': 1, '1px;background-position:-138px': 1, '-292px}': 2, '.today_on': 2, '.ico_more{background-position:-138px': 1, '-304px}': 1, '.today_layer{display:none;position:absolute;top:45px;right:0;width:298px;border:1px': 1, '.today_layer': 78, '.ico_wm{background-image:url(//t1.daumcdn.net/daumtop_deco/images/top/2021/rtn/ico_wm_210513.png);background-repeat:no-repeat;font-size:0;line-height:0;background-size:900px': 1, '400px;text-indent:-9999px}': 1, '.layer_body{overflow:hidden}': 1, \".layer_body:after{position:absolute;top:0;right:0;width:42px;height:42px;content:''}\": 1, '.weather_part{position:relative;height:135px}': 1, '.btn_locate{position:absolute;top:17px;left:18px;width:21px;height:21px;font-size:0;line-height:0;background-position:-176px': 1, '-246px;text-indent:-9999px}': 1, '.btn_locate.on{background-position:-176px': 1, '-286px}': 1, '.link_weather{display:block;overflow:hidden;height:135px}': 1, '.txt_place{display:block;height:20px;margin:17px': 1, '22px;font-weight:bold;font-size:13px;line-height:19px}': 1, '.txt_place': 1, '.txt_local{display:inline-block}': 1, '.ico_wm{float:left;width:90px;height:90px;margin-left:22px}': 1, '.ico_wm01{background-position:-100px': 1, '.ico_wm02{background-position:-200px': 1, '.ico_wm02{background-position:-300px': 1, '.ico_wm03{background-position:-400px': 1, '.ico_wm03{background-position:-500px': 1, '.ico_wm04{background-position:-600px': 1, '.ico_wm05{background-position:-700px': 1, '.ico_wm05{background-position:-800px': 1, '.ico_wm06{background-position:-100px': 1, '.ico_wm07{background-position:-200px': 1, '.ico_wm08{background-position:-300px': 1, '.ico_wm09{background-position:-400px': 1, '.ico_wm10{background-position:-500px': 1, '.ico_wm10{background-position:-600px': 1, '.ico_wm11{background-position:-700px': 1, '.ico_wm12{background-position:-800px': 1, '-200px}': 15, '.ico_wm13{background-position:': 1, '-100px': 1, '.ico_wm14{background-position:-200px': 1, '.ico_wm15{background-position:-300px': 1, '.ico_wm16{background-position:-400px': 1, '.ico_wm16{background-position:-500px': 1, '.ico_wm17{background-position:-600px': 1, '.ico_wm18{background-position:-700px': 1, '.ico_wm19{background-position:-800px': 1, '.info_temper{display:block;overflow:hidden;height:32px;margin:19px': 1, '130px;font-family:tahoma,arial,sans-serif}': 1, '.info_temper': 13, '.img_weather{float:left;width:22px;height:32px;margin:0}': 1, '.num0{background-position:-260px': 1, '.num1{background-position:-260px': 1, '-40px}': 6, '.num2{background-position:-260px': 1, '-80px}': 7, '.num3{background-position:-260px': 1, '.num4{background-position:-260px': 1, '-160px}': 2, '.num5{background-position:-260px': 1, '.num6{background-position:-260px': 1, '.num7{background-position:-260px': 1, '-280px}': 3, '.num8{background-position:-260px': 1, '-320px}': 1, '.num9{background-position:-260px': 1, '.ico_minus{width:22px;height:32px;background-position:-260px': 1, '-400px}': 1, '.ico_degree{width:39px;height:32px;background-position:-210px': 1, '.state_desc{display:block;overflow:hidden;margin:7px': 1, '130px;line-height:16px}': 1, '.state_desc': 4, '.ico_degree{float:left;width:14px;height:12px;margin:3px': 1, '0;background-position:-240px': 1, '-208px}': 1, '.txt_desc{float:left;margin-right:2px}': 1, '.layer_foot{overflow:hidden;border-top:1px': 1, '.link_state{float:left;overflow:hidden;width:50%;height:39px;color:#101010;text-decoration:none}': 1, '.info_wm{overflow:hidden;height:22px;padding-top:8px;line-height:21px}': 1, '.info_wm': 5, 'dt{float:left;padding-right:9px}': 1, 'dd{float:left}': 1, '.img_weather{display:inline-block;vertical-align:top}': 1, '.info_dust{padding-left:18px}': 1, '.ico_dust{width:20px;height:20px;margin-top:3px;margin-right:6px;background-position:-140px': 1, '.ico_air{width:21px;height:21px;margin:1px': 1, '7px': 6, '2px;background-position:-140px': 1, '-264px}': 1, '.state_good{color:#0078ff}': 1, '.state_normal{color:#27aa1d}': 1, '.state_bad{color:#fecc3d}': 1, '.state_worst{color:#e30000}': 1, '.btn_close{position:absolute;top:18px;right:18px;width:16px;height:16px;background-position:0': 1, '.txt_place{margin-top:20px;line-height:18px}': 1, '.info_temper{margin-top:15px}': 1, '.state_desc{margin-top:10px}': 1, '.txt_temper{margin-top:-1px}': 1, '.ico_degree{margin-top:1px}': 1, '.info_wm{padding-top:11px}': 1, '.ico_dust{margin-top:0}': 1, '.ico_air{margin-top:-2px}': 1, '.today_layer{display:block}': 1, '.advert_tmp{float:left;position:relative;width:655px;height:120px;margin-right:35px}': 1, '.advert_tmp': 1, '.bg_line{position:absolute;top:0;left:0;z-index:-1;width:653px;height:118px;border:1px': 1, '.advert_station{display:inline-block;position:relative;width:300px;height:150px;margin-top:15px;font-size:0;line-height:0;vertical-align:top}': 1, '.advert_station': 1, '.bg_line{position:absolute;top:0;left:0;z-index:-1;width:298px;height:148px;border:1px': 1, '.box_shopping{display:inline-block;position:relative;width:300px;height:1248px;margin-top:14px;vertical-align:top}': 1, '.box_shopping': 2, '.bg_line1{position:absolute;top:0;left:0;z-index:-1;width:298px;height:775px;border:1px': 1, '.bg_line2{position:absolute;top:790px;left:0;z-index:-1;width:298px;height:456px;border:1px': 1, '.advert_shoppingbox{height:777px}': 1, '.advert_svcbnr{margin-top:13px}': 1, '.advert_svcbnr': 2, '.link_bnr{display:block;position:relative;height:60px}': 1, '.frame_g{width:298px;height:58px}': 1, '.advert_bnr{margin-top:13px;height:150px}': 1, '.advert_bnr': 2, '.link_bnr{display:block;overflow:hidden;position:relative;height:150px}': 1, '.frame_g{width:298px;height:148px}': 1, '.wrap_tiercont{position:relative;z-index:99;width:990px;margin:0': 1, '.bg_login{background:url(//t1.daumcdn.net/daumtop_deco/images/top/2017/bg_login_190612.png)': 1, '-230px': 2, 'no-repeat}': 3, '.login_tmp': 2, '.ico_pctop{background:url(//t1.daumcdn.net/daumtop_deco/images/top/2020/ico_pctop_login_201103.png)': 1, '.login_tmp{float:right;position:relative;z-index:0;width:300px;height:120px;letter-spacing:-0.15em}': 1, '.inner_login{position:relative;height:78px;padding:13px': 1, '30px;font-size:11px}': 1, '.inner_login': 15, '.txt_login{padding-bottom:9px}': 1, '.link_login{display:block;height:35px;padding-left:1px;border:1px': 1, '#e9e9e9;font-size:13px;line-height:33px;background-color:#fff;text-align:center}': 1, '.link_login': 4, '+': 3, '.link_login{margin-top:4px}': 1, '.link_login:hover{text-decoration:none;color:#222}': 1, '.ico_pctop{display:inline-block;width:12px;height:13px;margin:11px': 1, '.ico_daum{background-position:0': 1, '-24px}': 3, '.ico_kakao{background-position:-16px': 1, '.link_join{position:absolute;right:15px;bottom:9px;color:#555}': 1, '.link_kakaoid{padding-left:4px;border:1px': 1, '#F6DD00;background-color:#FEE500}': 1, '.link_qr{position:absolute;bottom:7px;left:12px;padding:3px;font-size:11px;line-height:16px;color:#555;letter-spacing:-0.0472em}': 1, '.link_qr': 1, '.ico_qr{display:inline-block;width:11px;height:11px;margin:-3px': 1, '0;background-position:-84px': 1, '-24px;vertical-align:middle}': 1, '.login_my{z-index:10;background:url(//t1.daumcdn.net/daumtop_deco/images/top/2017/bg_pctop_190612.png)': 1, '.login_my': 21, '.wrap_my{overflow:hidden;width:270px;height:45px;padding:15px': 1, '.info_my{float:left;padding:1px': 1, '.rel_my{float:right}': 1, '.name_user{display:block;overflow:hidden;max-width:150px;white-space:nowrap;font-weight:bold}': 1, '.name_user:hover{color:#222}': 1, '.link_sso{position:absolute;top:41px;left:15px;width:68px;height:22px;font-size:11px;line-height:22px;background-position:0': 1, '0;white-space:nowrap}': 1, '.link_ssohelp{position:absolute;top:44px;left:89px;width:6px;height:22px;padding:0': 1, '6px;font-size:12px;line-height:22px;background-position:-32px': 1, '-24px;white-space:nowrap}': 1, '.layer_sso{position:absolute;top:77px;left:0;z-index:11;width:298px;height:82px;border:1px': 1, '#118eff;background-color:#fff}': 1, '.layer_sso': 4, '.box_help{display:table;width:100%;height:100%}': 1, '.txt_help{display:table-cell;padding:0': 1, '2px;font-size:12px;line-height:16px;color:#555;vertical-align:middle}': 1, '.btn_close{position:absolute;top:0;right:0;width:15px;height:15px;margin:8px;background-position:-52px': 1, '.link_empathy{float:left;margin:5px': 1, '0;font-size:11px;line-height:14px;color:#5b6473}': 1, '.btn_logout{float:left;width:54px;height:22px;border:1px': 1, '#ececec;font-size:11px;line-height:22px;text-align:center;background-color:#fff;color:#555}': 1, '.btn_logout:hover{border-color:#dedede;text-decoration:none;color:#555}': 1, '.list_basis{overflow:hidden;position:absolute;top:43px;right:16px;height:30px;font-size:12px}': 1, '.list_basis': 6, 'li{float:left;padding-left:9px;line-height:15px}': 1, '.link_basis{float:left;color:#555}': 1, '.num_basis{margin-left:3px;font-size:13px;letter-spacing:0;color:#118eff}': 1, '.num_msg{width:30px}': 1, '.link_num{color:#118eff}': 1, '.login_master': 10, '.name_user{position:absolute;top:0;left:54px}': 1, '.link_user{display:block;position:relative;height:48px}': 1, '.link_user:hover{color:#222}': 1, '.link_user': 4, '.thumb_profile{overflow:hidden;float:left;position:relative;width:45px;height:45px;font-size:0}': 1, '.thumb_profile:after{overflow:hidden;position:absolute;left:0;top:0;width:45px;height:45px;background:url(//t1.daumcdn.net/daumtop_deco/images/top/2017/bg_profile_190612.png)': 1, 'no-repeat;background-size:45px': 1, \"45px;content:''}\": 1, '.ico_kakaoid{position:absolute;bottom:0;z-index:1;left:30px;width:20px;height:20px;font-size:0;line-height:0;background-position:-72px': 1, '0;text-indent:-9999px}': 5, '.list_basis{left:60px}': 1, '.txt_make{color:#118eff}': 1, '.my_mileage': 1, '.link_basis{margin-right:8px}': 1, '.wrap_mysvc{position:relative;z-index:10;width:300px}': 1, '.mysvc_list{position:relative;width:300px;height:43px}': 1, '.list_mysvc{display:inline-block;position:relative;width:300px;height:43px;vertical-align:top;letter-spacing:-1px}': 1, '.list_mysvc': 14, 'li{position:relative;float:left;width:100px;height:43px}': 1, '.link_mysvc{display:block;overflow:hidden;height:31px;padding-top:11px;font-size:12px;line-height:18px;text-align:center;color:#555}': 1, '.link_mysvc:hover{text-decoration:none}': 1, '.cafe_g': 6, '.link_mysvc{height:30px;padding-top:12px;line-height:17px}': 1, '.txt_mysvc{display:inline-block;height:26px;color:#555;vertical-align:top}': 1, '.ico_vert{margin-left:5px}': 1, '.txt_mysvc{padding-left:25px;background-position:0': 1, '.stock_g': 1, '.txt_mysvc{padding-left:27px;background-position:0': 1, '-109px}': 1, '.blog_g': 1, '.txt_mysvc{padding-left:29px;background-position:0': 1, '-139px}': 1, '.ico_new{display:none;width:11px;height:11px;margin:5px': 1, '4px;background-position:-72px': 1, '-24px;text-indent:-9999px;vertical-align:top}': 1, '.new_g': 1, '.ico_new{display:inline-block}': 1, '.ico_new{margin-top:4px}': 2, '.mycafe_on{background:url(//t1.daumcdn.net/daumtop_deco/images/top/2017/bg_pctop_190612.png)': 1, '-310px': 3, '.mystock_on{background:url(//t1.daumcdn.net/daumtop_deco/images/top/2017/bg_pctop_190612.png)': 1, '.myblog_on{background:url(//t1.daumcdn.net/daumtop_deco/images/top/2017/bg_pctop_190612.png)': 1, '.layer_mycont{position:absolute;top:120px;left:0;width:300px;height:353px;background-position:0': 1, '-130px}': 9, '.layer_mycont': 2, '.btn_close{position:absolute;top:320px;right:0;width:46px;height:32px;padding:3px': 1, '4px;font-size:11px;line-height:18px;color:#888}': 1, '.txt_help{padding-top:2px;padding-bottom:0}': 1, '.login_tmp{letter-spacing:0}': 1, '.link_login{padding-right:5px;line-height:37px;letter-spacing:-1px}': 1, '.link_kakaoid{padding-left:1px}': 1, '.link_join{bottom:8px}': 1, '.link_qr{bottom:5px}': 1, '.name_user{padding:3px': 1, '.link_privacy{margin-top:0}': 1, '.list_basis{top:45px}': 1, '.list_basis{left:62px}': 1, '.link_mysvc{line-height:21px}': 1, '.link_mysvc{line-height:20px}': 1, '.ico_new{margin-top:3px}': 1, '.btn_close{padding-top:5px}': 1, '.login_my_type2': 2, '.list_basis{left:6px}': 1, '.list_basis{left:8px}': 1, '.panel_bloc{position:relative;padding-top:61px}': 1, '.tit_tabcont{position:absolute;top:15px;font-size:16px}': 1, '.tit_tabcont': 1, '.link_tit{display:block;height:36px;line-height:36px;background-color:transparent;text-align:center}': 1, '.wrap_tabcont{display:none;width:655px}': 1, '.ico_view{overflow:hidden;position:absolute;right:8px;bottom:8px;width:23px;height:23px;background-position:-40px': 1, '0;text-indent:-9999px;cursor:pointer}': 3, '.ico_video{overflow:hidden;position:absolute;right:8px;bottom:8px;width:23px;height:23px;background-position:-70px': 1, '.ico_live{overflow:hidden;position:absolute;right:8px;bottom:8px;width:23px;height:23px;background-position:-130px': 1, '.color_g1{color:#e30000}': 1, '.color_g2{color:#118eff}': 1, '.ico_label{overflow:hidden;position:absolute;top:15px;left:15px;height:22px;padding:0': 1, '8px;font-size:11px;line-height:19px;color:#fff;background-color:#118eff}': 1, '.ico_label2{overflow:hidden;position:absolute;top:0;left:0;height:20px;padding:0': 1, \"7px;font-size:11px;line-height:17px;color:#fff;background-color:rgba(0,0,0,0.6);filter:progid:DXImageTransform.Microsoft.gradient(startColorstr='#99000000',endColorstr='#99000000',GradientType=0)}\": 1, '.ico_label3{overflow:hidden;position:absolute;top:15px;left:15px;height:22px;padding:0': 1, '8px;font-size:11px;line-height:19px;color:#fff;background-color:#e8493d}': 1, '.ico_label,.os_mac': 1, '.ico_label3{line-height:23px}': 1, '.ico_label2{line-height:21px}': 1, '.tag_live{width:30px;height:15px;background-position:-120px': 1, '-70px}': 2, '.tag_new{width:31px;height:15px;background-position:-120px': 1, '.tag_event{width:40px;height:15px;background-position:-120px': 1, '-110px}': 1, '.tag_issue{width:37px;height:15px;background-position:-120px': 1, '.tag_hot{width:28px;height:15px;background-position:-208px': 1, '-260px}': 3, '.tag_live2{width:33px;height:17px;background-position:-120px': 1, '.tag_new2{width:34px;height:17px;background-position:-120px': 1, '.tag_event2{width:45px;height:17px;background-position:-160px': 1, '.tag_issue2{width:41px;height:17px;background-position:-160px': 1, '.ico_ad{position:absolute;right:6px;bottom:6px;width:24px;height:16px;font-size:0;line-height:0;background-position:0': 1, '-40px;text-indent:-9999px}': 1, '.page_pctop{position:absolute;width:auto;height:16px}': 1, '.page_pctop': 13, '.btn_page{float:left;width:16px;height:16px;line-height:16px;background-color:transparent;background-position:-210px': 1, '.btn_next{width:15px;background-position:-226px': 1, '.info_page{float:left;padding:2px': 1, '0;font-size:12px;line-height:16px;color:#555;font-family:tahoma,arial,sans-serif}': 1, '.info_page': 1, '.txt_slash{padding:0': 1, '.info_page{line-height:16px;font-family:helvetica,arial,sans-serif}': 1, '.page_btype{top:20px;right:0;height:26px}': 1, '.page_btype': 4, '.btn_page{width:26px;height:26px;line-height:26px;background-position:-110px': 1, '-170px;text-indent:10px}': 1, '.btn_next{width:25px;background-position:-136px': 1, '-170px}': 4, '.info_page{padding-top:1px;padding-right:8px;font-size:14px;line-height:22px}': 1, '.info_page{line-height:24px}': 1, '.page_tabcont{position:absolute;z-index:1;top:16px;left:30px;cursor:pointer}': 1, '.page_tabcont': 2, '.btn_page{overflow:hidden;float:left;width:7px;height:7px;margin:9px': 1, '0;font-size:10px;line-height:7px;background-position:-100px': 1, '-170px;background-color:transparent}': 1, '.on{position:relative;background-position:-100px': 1, '-177px}': 1, '.list_thumb{overflow:hidden}': 1, '.list_thumb': 11, 'li{float:left;width:154px;height:146px;margin-left:13px}': 1, '.fst{margin-left:0}': 2, '.link_item{display:block}': 1, '.thumb_g{width:154px;height:94px}': 2, '.frame_g{width:152px;height:92px}': 3, '.cont_item{padding:4px': 2, '.tit_item{display:block;overflow:hidden;max-height:36px;padding-right:12px;font-weight:normal;line-height:18px;word-break:keep-all;word-wrap:break-word}': 2, '.cont_item{padding-top:6px}': 3, '.tit_item{padding-right:14px}': 3, '.list_txt{float:left}': 1, '.list_txt': 13, 'li{overflow:hidden;height:20px;padding:4px': 1, '2px;white-space:nowrap;text-overflow:ellipsis}': 1, '.ico_pctop{display:inline-block;margin:3px': 1, '0;text-indent:-9999px;vertical-align:top}': 3, '.split_txt{padding-left:10px;margin-left:10px;color:#888;background:url(//t1.daumcdn.net/daumtop_deco/images/top/2017/ico_pctop_vert_170724.png)': 1, '-46px}': 1, '.split_txt:hover{color:#118eff}': 1, '.part_mid{padding-top:18px;line-height:16px}': 1, '.split_part{display:inline-block;overflow:hidden;vertical-align:top}': 1, '.split_part': 3, '.link_txt{margin-right:3px}': 1, '.split_fst{float:left;overflow:hidden;max-width:222px;text-overflow:ellipsis}': 1, 'li{line-height:20px}': 1, '.split_txt{background-position:0': 1, '-49px}': 1, '.part_mid{line-height:22px}': 1, '.split_part{letter-spacing:-0.03em}': 1, '.link_txt{margin-right:7px}': 1, '.list_stxt{margin-top:7px}': 1, '.list_stxt': 2, 'li{overflow:hidden;padding-bottom:4px;line-height:19px;white-space:nowrap;text-overflow:ellipsis}': 1, '.txt_mark{font-size:12px;color:#888}': 2, '.link_sector{display:block;position:relative;z-index:0;width:321px;height:131px}': 1, '.link_sector': 10, '.frame_g{width:319px;height:129px}': 1, '.cont_item{position:absolute;right:0;left:0;bottom:0;width:100%;height:100px;background:url(//t1.daumcdn.net/daumtop_deco/images/top/2017/bg_plate2.png)': 1, '100%}': 7, '.tit_item{overflow:hidden;position:absolute;left:0;bottom:13px;right:0;padding:0': 1, '15px;font-weight:normal;font-size:14px;line-height:20px;color:#fff}': 1, '.ico_label,': 1, '.ico_label2,': 1, '.ico_label3,': 1, '.ico_pctop{z-index:1}': 1, '.tit_item{bottom:10px}': 2, '.list_ranking': 24, 'li{height:20px;padding-bottom:5px}': 1, '.link_ranking{display:block;overflow:hidden;line-height:18px}': 1, '.txt_ranking{overflow:hidden;float:left;width:288px;white-space:nowrap;text-overflow:ellipsis}': 1, '.link_ranking:hover': 3, '.txt_ranking{text-decoration:underline}': 1, '.num_pctop{float:left;width:16px;height:16px;margin:2px': 1, '.num1{background-position:0': 3, '.num2{background-position:0': 3, '-20px}': 7, '.num3{background-position:0': 3, '.num4{background-position:0': 2, '.num5{background-position:0': 2, '.num6{background-position:0': 2, '.num7{background-position:0': 1, '.num8{background-position:0': 1, '.num9{background-position:0': 1, '.num10{background-position:0': 1, '.num_pctop{margin-top:0}': 3, 'li{line-height:22px}': 1, '.box_story{overflow:hidden;border:1px': 1, '#ececec;background-color:#fbfbfc}': 1, '.box_story': 5, '.tit_subject{overflow:hidden;margin-top:7px;font-size:13px}': 1, '.tit_subject': 2, '.link_tit{float:left;padding-right:9px;background-position:100%': 1, '7px}': 3, '.tit_subject{margin-top:10px}': 1, '.link_tit{background-position:100%': 1, '.list_stxt{margin-top:10px}': 1, '.link_smore{line-height:13px;color:#888;}': 1, '.link_smore': 1, '.ico_arrow{display:block;margin:2px': 1, '0;padding-right:6px;font-size:11px;background-position:100%': 1, '.section_media{position:relative}': 1, '.section_media': 5, '.page_btype{top:15px}': 1, '.panel_bloc{padding:57px': 1, '25px}': 1, '.tit_tabcont{top:11px;left:0}': 1, '.panel_bloc': 46, '.tit_news{left:-5px}': 1, '.tit_entertain{left:55px}': 1, '.tit_sports{left:94px}': 1, '.tit_movie{left:147px}': 1, '.tit_auto{left:186px}': 1, '.tit_realestate{left:240px}': 1, '.tit_news': 2, '.link_tit{width:36px;background-position:0': 2, '.tit_entertain': 2, '.link_tit{width:36px;background-position:-36px': 1, '.tit_sports': 2, '.link_tit{width:50px;background-position:-72px': 1, '.tit_movie': 2, '.link_tit{width:36px;background-position:-122px': 1, '.tit_auto': 2, '.link_tit{width:51px;background-position:-158px': 1, '.tit_realestate': 2, '.link_tit{width:48px;background-position:-209px': 1, '.news_on': 2, '.link_tit{background-position:0': 3, '-166px}': 6, '.entertain_on': 2, '.link_tit{background-position:-36px': 2, '.sports_on': 2, '.link_tit{background-position:-72px': 1, '.movie_on': 2, '.link_tit{background-position:-122px': 1, '.auto_on': 2, '.link_tit{background-position:-158px': 1, '.realestate_on': 2, '.link_tit{background-position:-209px': 1, '.wrap_news,': 1, '.wrap_entertain,': 1, '.wrap_sports,': 1, '.wrap_movie,': 1, '.wrap_auto,': 1, '.wrap_realestate{display:block}': 1, '.info_special{overflow:hidden}': 1, '.info_special': 5, '.ico_pctop{float:left;margin:3px': 1, '.link_special{display:block;overflow:hidden;height:20px;font-weight:bold;font-size:13px;line-height:18px;color:#222;letter-spacing:-1px}': 1, '.link_special:hover{color:#118eff}': 1, '.ico_pctop{margin-right:6px}': 1, '.link_special{line-height:24px;letter-spacing:0}': 1, '.info_special{position:absolute;top:17px;right:99px;max-width:250px}': 1, '.wrap_tabcont{height:480px}': 1, '.group_news{display:inline-block;height:292px;vertical-align:top}': 1, '.news_prime{height:438px}': 1, '.news_prime': 2, '.list_txt{width:316px;padding-left:4px}': 1, '.tit_item{display:-webkit-box;padding-right:0;word-break:normal;-webkit-line-clamp:2;-webkit-box-orient:vertical}': 1, '.box_sector{overflow:hidden;float:left;width:321px;margin-right:13px}': 1, '.box_sector': 2, '.list_thumb{width:334px;margin-left:-13px}': 1, '.link_sector{margin-bottom:15px}': 1, '.news_flow{overflow:hidden;position:relative;height:40px;border:1px': 1, '#ececec;line-height:35px;background-color:#fbfbfb}': 1, '.unit_home{float:left;padding-left:12px}': 1, '.unit_home': 10, '.tit_home{float:left;margin-right:10px}': 1, '.tit_home': 2, '.link_home{padding-right:7px;background-position:100%': 1, '6px}': 1, '.list_home{float:left}': 1, '.list_home': 2, 'li{float:left;padding:0': 2, '.link_home{color:#555}': 1, '.link_home:hover{color:#118eff}': 1, '.unit_live{float:left;padding-left:25px}': 1, '.unit_live': 3, '.ico_pctop{float:left;margin:12px': 1, '6px': 2, '.link_live{margin-right:5px;color:#555}': 1, '.link_live:hover{color:#118eff}': 1, '.list_rgate{position:absolute;top:0;right:10px}': 1, '.list_rgate': 2, '.link_home{color:#888}': 1, '.news_flow': 1, '.link_hash{padding:0': 1, '7px;color:#118eff}': 1, '.news_flow{line-height:40px}': 1, '.link_home{padding-right:9px;background-position:100%': 1, '.box_issue{float:left;position:relative;margin-right:13px}': 1, '.box_issue': 8, '.link_issue{display:block;overflow:hidden;position:relative;width:321px;height:277px}': 1, '.cover_g{position:absolute;left:0;bottom:0;width:100%;height:132px;background:url(//t1.daumcdn.net/daumtop_deco/images/top/2017/bg_plate8.png)': 1, '.frame_g{width:319px;height:275px}': 1, '.ico_label{height:27px;font-size:14px;line-height:25px;background-color:rgba(17,142,255,.9)}': 1, '.cont_item{overflow:hidden;position:absolute;right:0;bottom:14px;left:0}': 1, '.cont_item': 5, '.tit_item{display:block;overflow:hidden;max-height:44px;padding:0': 1, '16px;font-weight:normal;font-size:16px;line-height:22px;color:#fff}': 1, '.ico_label{line-height:29px}': 1, '.cont_item{bottom:10px}': 1, '.special_issue': 7, '.tit_issue{overflow:hidden;position:absolute;top:25px;left:21px;max-height:60px;padding-right:20px;font-size:22px;color:#fff}': 1, '.cont_item{bottom:12px}': 1, '.list_item{padding:0': 1, '16px}': 1, '.list_item': 4, 'li{overflow:hidden;margin-top:3px;font-size:14px}': 1, '.fst{font-size:16px;line-height:26px}': 1, '.link_item{display:block;overflow:hidden;color:#fff;white-space:nowrap;text-overflow:ellipsis}': 1, '.fst{line-height:23px}': 1, '.box_newslive{position:relative;width:319px;height:129px}': 1, '.box_newslive': 3, '.tit_subject{margin-right:14px;margin-left:16px;letter-spacing:-1px}': 1, '.link_smore{position:absolute;top:8px;right:14px}': 1, '.list_newslive{overflow:hidden;margin:11px': 1, '12px}': 3, '.list_newslive': 9, 'li{float:left;margin-right:5px}': 1, '.link_station{display:block;text-align:center}': 1, '.item_station{display:inline-block;position:relative;width:66px;height:66px;margin:2px;background:url(//t1.daumcdn.net/daumtop_deco/images/top/2019/bg_newslive_200107.png)': 1, 'no-repeat;vertical-align:top}': 1, '.link_station:hover': 1, '.item_station{background-position:0': 1, '.ico_live2{position:absolute;bottom:-2px;right:-2px;width:20px;height:20px;background-position:0': 1, '-80px;text-indent:-9999px}': 1, '.img_station{display:block;margin:18px': 1, '.tit_item{display:block;margin-top:1px;font-weight:normal;font-size:12px;line-height:14px;color:#222;letter-spacing:-1px}': 1, '.link_smore{top:10px}': 1, '.list_newslive{margin-top:10px}': 1, '.tit_item{margin-top:2px;letter-spacing:0}': 1, '.ranking_news{float:left;width:320px}': 1, '.ranking_news.fst{margin-right:14px}': 1, '.ranking_news': 7, '.tit_ranking{font-size:13px;line-height:15px;color:#118eff}': 1, '.link_tit{padding-right:9px;color:#118eff;background-position:100%': 1, '-56px;vertical-align:top}': 1, '.list_ranking{margin-top:11px}': 1, 'li{padding-bottom:6px}': 1, '.ntype_img{height:80px;padding-bottom:12px}': 1, '.ntype_img': 8, '.link_ranking{text-decoration:none}': 1, '.thumb_g{overflow:hidden;float:left;width:130px;height:80px;margin-right:10px}': 1, '.frame_g{width:128px;height:78px}': 1, '.num_pctop{position:absolute;top:0;left:0;margin-top:0}': 1, '.cont_item{padding-top:4px}': 1, '.tit_item{display:block;display:-webkit-box;overflow:hidden;max-height:36px;padding-right:2px;font-weight:normal;line-height:18px;word-wrap:break-word;-webkit-line-clamp:2;-webkit-box-orient:vertical}': 1, '.origin_item{display:block;overflow:hidden;margin-top:3px;font-size:12px;line-height:21px;color:#888;white-space:nowrap;text-overflow:ellipsis}': 2, '.tit_item{text-decoration:underline}': 2, '.list_ranking{margin-top:9px}': 1, '.ntype_img{padding-bottom:14px}': 1, '.cast_sports{position:relative;width:321px;margin-bottom:15px}': 1, '.cast_sports': 6, '.head_cast{height:35px;border:1px': 1, '.tit_cast{margin:7px': 1, '11px;font-size:13px}': 1, '.page_pctop{top:9px;right:12px;bottom:auto;height:19px}': 1, '.btn_page{width:19px;height:19px;line-height:16px;background-position:0': 1, '.btn_next{width:18px;background-position:-19px': 1, '.tit_cast{margin:9px': 1, '.sports_scoreboard{overflow:hidden;border:1px': 1, '#ececec;border-top:0': 1, 'none;font-size:12px;background-color:#fff}': 1, '.list_relay': 25, 'li{overflow:hidden}': 1, '.link_relay:hover{color:#222;text-decoration:none}': 1, \".info_game{display:block;font-size:11px;font-family:'Helvetica\": 1, \"Neue',AppleSDGothicNeo-Regular,'Malgun\": 1, \"고딕',dotum,'돋움',sans-serif;letter-spacing:-0.05em}\": 1, '.txt_league{color:#888}': 1, '.num_score{font-weight:600;font-family:Helvetica,sans-serif}': 1, '.info_status{width:28px;height:17px}': 1, '.tag_status1{background-position:-40px': 1, '.tag_status2{background-position:-40px': 1, '.tag_status3{background-position:-40px': 1, '.tag_status4{background-position:-40px': 1, '.tag_status5{background-position:-40px': 1, '.game_play': 6, '.tag_status1{background-position:-70px': 1, '.tag_status2{background-position:-70px': 1, '.tag_status3{background-position:-70px': 1, '.tag_status4{background-position:-70px': 1, '.tag_status5{background-position:-70px': 1, '.txt_status{color:#118eff}': 1, '.txt_status{color:#888}': 1, '.txt_time{color:#555;letter-spacing:-0.05em}': 1, '.txt_pso{color:#555}': 1, '.link_view{display:block;font-size:12px;line-height:17px;letter-spacing:-1px;text-align:center;text-decoration:none}': 1, '.desc_empty{display:block;font-weight:normal;color:#888}': 1, '.txt_empty{display:inline-block;color:#118EFF;text-decoration:underline;vertical-align:top}': 1, '.ico_empty{display:block;width:32px;height:32px;margin:-5px': 1, '12px;background-position:0': 1, '.txt_time{letter-spacing:0}': 1, '.relay_general{height:93px}': 1, '.relay_general': 17, '.box_cell{overflow:hidden;float:left;width:159px;border-right:1px': 1, '#f5f5f5;box-sizing:border-box}': 1, '.box_cell+.box_cell{border-right:0': 1, '.info_empty{display:table;width:100%;height:93px}': 1, '.info_empty': 1, '.link_view{display:table-cell;width:100%;height:100%;vertical-align:middle}': 1, '.link_relay{display:block;overflow:hidden;position:relative;width:134px;height:84px;padding:9px': 1, '13px': 2, '13px}': 7, '.info_team{overflow:hidden;position:absolute;left:11px;top:57px;right:12px;height:25px;line-height:26px}': 1, '.info_game{height:18px}': 1, '.vs_team1{left:11px;top:30px}': 1, '.img_thumb{float:left;margin-right:4px}': 1, '.txt_team{overflow:hidden;float:left;width:70px;white-space:nowrap;text-overflow:ellipsis}': 1, '.num_score{float:right;width:35px;height:25px;line-height:26px;font-size:16px;letter-spacing:0;text-align:right}': 1, '.info_status{position:absolute;top:10px;right:13px}': 1, '.tit_name{display:block;overflow:hidden;max-height:32px;margin-top:8px;font-weight:normal;font-size:12px;line-height:16px;word-break:break-all}': 1, '.data_league{display:block;font-size:11px;color:#888}': 1, '.txt_status{float:left;padding-right:6px}': 1, '.info_team{line-height:27px}': 1, '.tit_name{margin-top:9px}': 1, '.relay_special{display:table;width:319px;height:239px;margin-top:-1px}': 1, '.relay_special': 36, '.link_relay{display:block;overflow:hidden;position:relative;height:47px;border-top:1px': 1, '#f5f5f5}': 1, '.game_empty{display:table-row}': 1, '.game_empty': 2, '.info_empty{display:table-cell;height:100%;border-top:1px': 1, '#f5f5f5;text-align:center;vertical-align:middle}': 1, '.link_view{display:inline-block;padding:30px': 1, '0;text-decoration:none}': 1, '.txt_empty{font-size:11px}': 1, '.team_result{display:block;position:relative;height:47px;padding:0': 1, '42px': 1, '9px;text-align:center}': 1, '.info_game{text-align:center}': 1, '.info_game2{position:absolute;top:9px;left:50%;width:52px;height:28px;margin-left:-42px;line-height:14px}': 1, '.info_game2': 5, '.txt_league{display:block;padding-top:14px;white-space:nowrap;text-indent:-1px}': 1, '.txt_status{position:absolute;top:0;left:0;width:100%;height:14px}': 1, '.txt_status2{margin-top:7px;letter-spacing:-1px;text-indent:-1px}': 1, '.tit_name{display:block;overflow:hidden;padding-top:9px;line-height:15px;font-weight:normal;letter-spacing:-1px;white-space:nowrap;text-overflow:ellipsis}': 1, '.tit_name+.info_game{display:inline-block;overflow:hidden;vertical-align:top}': 1, '.tit_name+.info_game': 3, '.txt_league{float:right;*float:none;padding-right:1px}': 1, '.txt_league:before{display:inline-block;width:2px;height:2px;margin:0': 1, \"3px;border-radius:2px;background-color:#C4C4C4;vertical-align:middle;content:''}\": 1, '.txt_status{float:left;*float:none}': 1, '.info_team{display:table;overflow:hidden;position:relative;width:49px;height:100%;text-align:left}': 1, '.info_status{position:absolute;top:16px;right:12px}': 1, '.img_thumb{position:absolute;top:11px}': 1, '.txt_team{display:table-cell;*display:inline-block;overflow:hidden;width:46px;padding:0': 1, '1px;vertical-align:middle}': 1, '.txt_team': 2, '.data_name{display:block;overflow:hidden;width:44px;margin-top:-1px;*margin-top:14px;padding-right:1px;line-height:16px;letter-spacing:-1px;white-space:nowrap;text-overflow:ellipsis}': 1, '.num_score{position:absolute;top:16px;width:28px;font-size:16px;line-height:18px;letter-spacing:0}': 1, '.num_none{top:14px}': 1, '.vs_team1{float:left;padding-right:57px}': 1, '.vs_team1': 4, '.img_thumb{right:31px}': 1, '.txt_team{text-align:right}': 1, '.num_score{right:0;padding-right:2px;text-align:right}': 1, '.data_name{float:right}': 1, '.vs_team2{float:right;padding-left:57px}': 1, '.vs_team2': 3, '.img_thumb{left:31px}': 1, '.num_score{left:0;padding-left:2px}': 1, '.data_name{padding-left:1px}': 1, '.info_game2{top:10px}': 1, '.data_name{margin-top:3px}': 1, '.txt_league,.os_mac': 1, '.txt_status2{text-indent:0}': 1, '.opt_dropdown{position:absolute;top:0;right:0;z-index:10;width:auto;white-space:nowrap}': 1, '.opt_dropdown': 8, '.btn_select{display:block;position:relative;height:36px;padding:1px': 1, '0;margin-right:13px;color:#101010;letter-spacing:-1px;text-align:right}': 1, '.btn_select': 1, '.ico_arr{overflow:hidden;position:absolute;top:16px;right:0;width:12px;height:6px;font-size:0;line-height:0;background-position:0': 1, '-70px;text-indent:-9999px}': 1, '.dropdown_layer{display:none;position:absolute;top:0;right:0;border:1px': 1, '#CECECE;background-color:#fff}': 1, '.list_opt': 1, 'li{min-width:87px}': 1, '.link_option{display:block;height:14px;padding:5px': 1, '6px;font-size:12px;line-height:14px}': 1, '.on,.opt_dropdown': 1, '.link_option:hover{background-color:#F6F6F6;color:#2D96F5}': 1, '.opt_open': 1, '.dropdown_layer{display:block}': 1, '.btn_select{padding-top:2px;padding-right:17px}': 1, '.link_option{padding-top:7px;padding-bottom:5px}': 1, '.box_special{overflow:hidden;position:relative;z-index:0;width:641px;height:93px;padding:36px': 1, '12px;border:1px': 1, '.box_special': 14, '.tit_special{position:absolute;top:7px;left:12px;font-size:13px}': 1, '.link_special{margin-right:3px}': 1, '.link_special2{color:#888}': 1, '.pack_slide{overflow:hidden}': 1, '.page_pctop{top:8px;right:12px;height:19px}': 1, '.btn_page{width:19px;height:19px;line-height:19px;background-position:-40px': 1, '.btn_next{width:18px;background-position:-59px': 1, '.info_page{color:#888}': 1, '.num_index{font-weight:normal}': 1, '.link_banner{float:left;position:relative;width:308px;height:80px;margin-left:5px}': 1, '.link_banner': 1, '.frame_g{width:306px;height:78px}': 1, '.banner_wide{width:419px;height:80px;margin-left:11px}': 1, '.banner_wide': 1, '.frame_g{width:417px;height:78px}': 1, '.list_special{float:left}': 1, '.list_special': 8, 'li{float:left}': 2, '.link_thumb{float:left;position:relative}': 1, '.link_thumb': 22, '.frame_g{width:54px;height:78px}': 1, '.num_g{position:absolute;top:0;left:0;width:16px;height:16px;font-size:11px;line-height:16px;color:#fff;font-family:tahoma,arial,sans-serif;text-align:center}': 1, '.cont_info{overflow:hidden;word-break:keep-all}': 1, '.tit_info{display:block;overflow:hidden;max-height:33px;font-weight:normal;font-size:13px;line-height:17px;word-break:break-all}': 1, '.txt_info{display:block;overflow:hidden;font-size:12px;line-height:16px;color:#888;white-space:nowrap;text-overflow:ellipsis}': 1, '.list_movie1': 9, 'li{width:146px;padding-right:12px}': 2, '.num_g{background-position:-20px': 2, '.num_point{background-position:0': 2, '.cont_info{position:relative;padding:36px': 1, '9px}': 2, '.tit_info{position:absolute;top:0;left:9px}': 1, '.txt_info{float:left;width:100%;letter-spacing:0}': 1, '.grade_star{display:block;overflow:hidden;position:relative;width:62px;height:12px;background-position:-40px': 1, '.inner_star{position:absolute;top:0;left:0;width:auto;height:12px;font-size:0;line-height:0;background-position:-40px': 1, '-50px;text-indent:-9999px}': 1, '.list_movie2': 6, '.cont_info{padding:0': 1, '.tit_info{margin:-2px': 1, '.txt_info{max-height:31px;white-space:normal}': 1, '.list_movie3': 10, 'li{margin-left:10px}': 1, 'li.fst{margin-left:0}': 2, '.link_thumb{width:203px;height:80px}': 1, '.frame_g{width:201px;height:78px}': 1, '.ico_play{position:absolute;right:10px;bottom:10px;width:22px;height:22px;font-size:0;line-height:0;background-position:-100px': 1, '.cont_info{position:absolute;top:38px;left:0;width:152px;padding:0': 1, '40px': 1, '10px;color:#fff}': 1, '.txt_info{color:#fff}': 1, '.tit_info{display:inline}': 1, '.txt_runtime{display:block;overflow:hidden;font-size:11px;line-height:13px;font-family:tahoma,arial,sans-serif;white-space:nowrap;text-overflow:ellipsis;letter-spacing:0}': 1, '.list_auto': 8, 'li{width:199px;padding-left:10px;border-left:1px': 1, 'li.fst{padding-left:0;border-left:0': 1, '.link_thumb{width:120px;height:80px}': 1, '.cont_info{padding:13px': 1, '.tit_info{margin-bottom:2px}': 1, '.list_realestate': 8, 'li{width:203px;margin-left:8px}': 1, '.link_thumb{width:110px;height:80px}': 1, '.frame_g{width:108px;height:78px}': 1, '.cont_info{padding-left:8px}': 1, '.tit_info{margin-top:-2px;margin-bottom:4px}': 1, '.txt_info{margin-top:2px;line-height:14px}': 1, '.tit_special{top:10px}': 1, '.num_g{font-family:helvetica,arial,sans-serif}': 1, '.grade_star{margin-bottom:3px}': 1, '.cont_info{padding-top:1px}': 1, '.tit_info{margin-top:0}': 1, '.txt_runtime{margin-bottom:2px;font-family:helvetica,arial,sans-serif}': 1, '.cont_info{padding-top:16px}': 1, '.tit_info{margin-top:1px;line-height:16px}': 1, '.list_series': 11, 'li{width:201px;padding-right:10px}': 1, '.thumb_g{float:left;width:80px;height:80px;margin-right:10px}': 1, '.thumb_g': 2, '.frame_g{width:78px;height:78px}': 1, '.cont_info{width:109px}': 1, '.tit_info{margin:3px': 1, '3px;white-space:nowrap;text-overflow:ellipsis}': 1, '.txt_info{max-height:32px;color:#555;white-space:normal;word-break:break-all}': 1, '.txt_cp{padding-top:4px;color:#888;white-space:nowrap}': 1, '.link_thumb:hover{text-decoration:none}': 1, '.link_thumb:hover': 2, '.tit_info{color:#118eff;text-decoration:underline}': 1, '.txt_info{text-decoration:none}': 1, '.tit_info{margin-top:5px}': 1, '.section_multi{position:relative;border-top:1px': 1, '.section_multi': 1, '.wrap_tabcont{height:157px}': 1, '.tit_kakaotv': 2, '.link_tit{width:62px;background-position:-430px': 1, '.link_tit:hover{background-position:-430px': 1, '.kakaotv_on': 1, '.wrap_kakaotv,': 1, '.melon_on': 1, '.wrap_melon{display:block}': 1, '.tab_multi{position:absolute;top:16px;left:69px;height:36px}': 1, '.tab_multi': 6, 'li{display:inline;float:left}': 1, 'li{margin-left:12px}': 1, '.link_tit{display:block;overflow:hidden;height:36px;padding-right:2px;font-weight:bold;line-height:33px;color:#888;letter-spacing:-2px;text-decoration:none}': 1, '.on': 10, '.link_tit{color:#118eff;text-decoration:underline}': 1, 'li{margin-left:14px}': 1, '.tab_multi{top:15px;left:68px}': 1, '.link_tit{padding-right:0;line-height:38px;letter-spacing:-0.038em}': 1, '.box_imgspe{float:left;margin-right:13px}': 1, '.box_imgspe': 1, '.ico_label,.box_imgspe': 1, '.ico_label3{font-size:12px}': 1, '.wrap_kakaotv': 1, '.ico_video{background-position:0': 1, '.section_blog{position:relative;border-top:1px': 1, '.section_blog': 2, '.wrap_tabcont{overflow:hidden;height:179px}': 1, '.tit_cafe{left:-5px}': 1, '.tit_brunch{left:31px}': 1, '.tit_tistory{left:79px}': 1, '.tit_kakaostory{left:144px}': 1, '.tit_cafe': 2, '-220px}': 5, '.tit_brunch': 2, '.link_tit{width:49px;background-position:-36px': 1, '.tit_tistory': 2, '.link_tit{width:65px;background-position:-85px': 1, '.tit_ilboonnews': 2, '.link_tit{width:73px;background-position:-150px': 1, '.tit_kakaostory': 2, '.link_tit{width:90px;background-position:-223px': 1, '.cafe_on': 2, '-256px}': 5, '.brunch_on': 2, '.tistory_on': 2, '.link_tit{background-position:-85px': 1, '.ilboonnews_on': 1, '.link_tit{background-position:-150px': 1, '.kakaostory_on': 2, '.link_tit{background-position:-223px': 1, '.wrap_cafe,': 1, '.wrap_brunch,': 1, '.wrap_tistory,': 1, '.wrap_kakaostory{display:block}': 1, '.box_story{float:right;width:297px;height:152px;padding:0': 1, '.list_story{overflow:hidden;float:left}': 1, '.list_story': 17, 'li{float:left;height:160px;margin-left:13px}': 1, '.link_item{display:block;position:relative;width:154px;cursor:pointer}': 1, '.link_item:hover{color:#222;text-decoration:none}': 2, '.cont_item{height:56px;padding:4px': 1, '.origin_item{display:block;overflow:hidden;position:relative;margin-top:4px;font-size:12px;line-height:18px;color:#888;white-space:nowrap;text-overflow:ellipsis}': 1, '.origin_item': 4, '.txt_teller{display:block;overflow:hidden;white-space:nowrap;text-overflow:ellipsis}': 1, '.ico_storyteller{overflow:hidden;position:absolute;right:0;top:4px;width:13px;height:15px;font-size:1px;line-height:0;background-position:-170px': 1, '-100px;text-indent:-9999px}': 1, '.link_item:hover': 6, '.tit_item{color:#118eff;text-decoration:underline}': 2, '.origin_item{color:#888;text-decoration:none}': 1, '.item_teller{display:inline-block;max-width:115px;padding-right:18px}': 1, '.cont_item{height:54px;padding-top:6px}': 1, '.ico_storyteller{top:0}': 1, '.type_desc': 7, '.link_item{height:154px;border:1px': 1, '#ececec;background-color:#fbfbfc;box-sizing:border-box}': 1, '.cont_item{height:117px;padding:7px': 1, '.desc_item{display:block;overflow:hidden;max-height:48px;padding-top:8px;font-size:11px;line-height:16px;color:#888;word-break:keep-all;word-wrap:break-word}': 1, '.origin_item{position:absolute;left:13px;bottom:9px;right:13px}': 1, '.item_teller{right:auto;max-width:106px}': 1, '.cont_item{height:96px;padding-top:10px}': 1, '.origin_item{bottom:6px}': 2, '.type_img': 10, '.thumb_g{z-index:-1;height:154px}': 1, '.frame_g{width:152px;height:152px}': 2, '.cont_item{position:absolute;top:0;left:0;bottom:0;width:154px;height:154px;background:url(//t1.daumcdn.net/daumtop_deco/images/top/2017/bg_plate6.png)': 1, '.tit_item{position:absolute;left:13px;right:13px;bottom:37px;height:auto;max-height:36px;padding-right:10px;color:#fff}': 1, '.origin_item{position:absolute;left:13px;right:13px;bottom:14px;color:#c9c9c9}': 1, '.origin_item{color:#c9c9c9;text-decoration:none}': 1, '.tit_item{color:#fff;text-decoration:underline}': 1, '.cont_item{height:auto;padding:0}': 1, '.tit_item{bottom:30px}': 2, '.graph_item{overflow:hidden;position:absolute;top:74px;left:0;width:154px}': 1, '.graph_item': 7, '.info_graph{position:absolute;right:10px;top:0;z-index:10;color:#fff}': 1, '.info_graph': 1, '.num_graph{font-weight:bold}': 1, '.bar_graph{display:block;height:20px;background:url(//t1.daumcdn.net/daumtop_deco/images/top/2017/bg_graph.png)': 1, 'repeat': 1, '.bar_support{position:absolute;left:0;top:0;height:20px}': 1, '.bar_support': 4, '.bg_left{position:absolute;left:0;top:0;right:16px;height:20px;background:url(//t1.daumcdn.net/daumtop_deco/images/top/2017/bar_graph.png)': 1, 'repeat-x': 1, '.bg_right{position:absolute;right:-14px;top:0;width:30px;height:20px;background:url(//t1.daumcdn.net/daumtop_deco/images/top/2017/bar_graph_right.png)': 1, '.full_graph': 3, '.bar_support{width:100%;background:url(//t1.daumcdn.net/daumtop_deco/images/top/2017/bar_graph_full2.png)': 1, '.bg_left,': 1, '.bg_right{width:0;background:none}': 1, '.info_graph{top:2px}': 1, '.section_channel{position:relative;border-top:1px': 1, '.section_channel': 6, '.panel_bloc{padding-top:60px}': 1, '.wrap_tabcont{overflow:hidden;height:507px}': 1, '.tit_homecooking{left:-5px}': 1, '.tit_money{left:59px}': 1, '.tit_pet{left:96px}': 1, '.tit_women{left:133px}': 1, '.tit_men{left:182px}': 1, '.tit_travel{left:212px}': 1, '.tit_business{left:274px}': 1, '.tit_music{left:325px}': 1, '.tit_webtoon{left:362px}': 1, '.tit_game{left:398px}': 1, '.tit_together,.panel_bloc': 1, '.tit_together2{left:434px}': 1, '.tit_homecooking': 2, '.link_tit{width:59px;background-position:0': 1, '-310px}': 12, '.tit_money': 2, '.link_tit{width:37px;background-position:-59px': 1, '.tit_pet': 2, '.link_tit{width:37px;background-position:-96px': 1, '.tit_women': 2, '.link_tit{width:49px;background-position:-133px': 1, '.tit_men': 2, '.link_tit{width:30px;background-position:-182px': 1, '.tit_travel': 2, '.link_tit{width:62px;background-position:-212px': 1, '.tit_business': 2, '.link_tit{width:51px;background-position:-274px': 1, '.tit_music': 2, '.link_tit{width:37px;background-position:-325px': 1, '.tit_webtoon': 2, '.link_tit{width:36px;background-position:-362px': 1, '.tit_game': 2, '.link_tit{width:36px;background-position:-398px': 1, '.tit_together': 2, '.link_tit{width:63px;background-position:-434px': 1, '.tit_together2': 2, '.link_tit{width:72px;background-position:-497px': 1, '.homecooking_on': 2, '-346px}': 12, '.money_on': 1, '.link_tit{background-position:-59px': 1, '.pet_on': 1, '.link_tit{background-position:-96px': 1, '.women_on': 1, '.link_tit{background-position:-133px': 1, '.men_on': 2, '.link_tit{background-position:-182px': 1, '.travel_on': 2, '.link_tit{background-position:-212px': 1, '.business_on': 2, '.link_tit{background-position:-274px': 1, '.music_on': 2, '.link_tit{background-position:-325px': 1, '.webtoon_on': 2, '.link_tit{background-position:-362px': 1, '.game_on': 2, '.link_tit{background-position:-398px': 1, '.together_on': 3, '.link_tit{background-position:-434px': 1, '.link_tit{background-position:-497px': 1, '.wrap_homecooking,.money_on': 1, '.wrap_money,.pet_on': 1, '.wrap_pet,.women_on': 1, '.wrap_women,': 1, '.wrap_men,': 1, '.wrap_travel,': 1, '.wrap_business,': 1, '.wrap_music,': 1, '.wrap_webtoon,': 1, '.wrap_game,': 1, '.wrap_together{display:block}': 1, '.box_channel{float:left;position:relative;width:154px;height:159px;margin:0': 1, '.box_channel.fst{margin-left:0}': 1, '.box_channel': 17, '.link_item{display:block;position:relative;width:154px}': 1, '.thumb_g{overflow:hidden;width:154px;height:94px}': 1, '.tit_item{display:block;overflow:hidden;max-height:36px;padding-right:12px;font-weight:normal;line-height:18px;word-wrap:break-word}': 1, '.channel_item{display:block;height:18px;padding:4px': 1, '0;font-size:12px;line-height:18px}': 1, '.channel_item': 2, '.link_channel{display:inline-block;overflow:hidden;max-width:124px;height:20px;line-height:18px;color:#888;vertical-align:top;white-space:nowrap;text-overflow:ellipsis}': 1, '.thumb_channel{display:inline-block;position:relative;margin:1px': 1, '.thumb_channel': 2, '.img_thumb{border-radius:18px}': 1, '.bg_frame{position:absolute;top:0;left:0;width:18px;height:18px;background-position:-410px': 1, '-150px}': 1, '.thumb_channel{margin-top:0}': 1, '.link_channel{line-height:20px}': 2, '.type_chdesc{background-color:#fbfbfc}': 1, '.type_chdesc': 6, '.link_item{width:152px;height:157px;border:1px': 1, '.cont_item{padding:13px': 1, '.desc_item{display:block;overflow:hidden;max-height:48px;padding-top:8px;font-size:11px;line-height:16px;color:#888}': 1, '.channel_item{padding:0': 1, '13px;border:1px': 1, '#ececec;border-top-width:0}': 1, '.origin_item{margin-top:17px}': 1, '.cont_item{padding-top:16px}': 1, '.box_imgspe{margin-right:0}': 1, '.link_sector{height:159px}': 1, '.frame_g{width:319px;height:157px}': 2, '.cont_item{height:159px;background-image:url(//t1.daumcdn.net/daumtop_deco/images/top/2017/bg_plate5.png)}': 1, '.box_chwide{float:left;position:relative;width:321px;height:159px;margin:0': 1, '.box_chwide': 10, '.link_item{display:block;overflow:hidden;position:relative;width:321px;height:159px}': 1, '.link_item': 8, '.thumb_g{z-index:-1;width:321px;height:159px}': 1, '.cont_item{position:absolute;top:0;left:0;width:321px;height:159px;color:#fff;background:url(//t1.daumcdn.net/daumtop_deco/images/top/2017/bg_plate5.png)': 1, '.tit_item{overflow:hidden;position:absolute;left:17px;bottom:13px;max-width:284px;height:20px;font-weight:normal;font-size:14px;line-height:20px;white-space:nowrap;text-overflow:ellipsis}': 1, '.tit_item:hover{color:#fff}': 1, '.origin_item{overflow:hidden;position:absolute;left:17px;bottom:33px;max-width:284px;height:20px;font-size:12px;line-height:18px;color:#fff;white-space:nowrap;text-overflow:ellipsis}': 1, '.origin_item{bottom:30px}': 1, '.box_chextra{overflow:hidden;float:left;position:relative;width:154px;height:159px;margin:0': 1, '.box_chextra': 17, '.tit_chextra{position:absolute;top:14px;left:15px;right:50px;z-index:1;font-size:11px;color:#118eff}': 1, '.link_item{display:block;width:154px;height:159px}': 1, '.thumb_g{z-index:-1;width:154px;height:159px}': 1, '.frame_g{width:152px;height:157px}': 1, '.cont_item{position:absolute;top:0;left:0;width:154px;height:159px;background:url(//t1.daumcdn.net/daumtop_deco/images/top/2017/bg_plate6.png)': 1, '.emph_extra{position:absolute;top:14px;left:15px;right:15px;font-size:11px;color:#118eff}': 1, '.tit_item{position:absolute;left:14px;right:14px;bottom:34px;font-weight:normal;line-height:18px;color:#fff}': 1, '.origin_item{display:inline-block;overflow:hidden;position:absolute;left:13px;right:auto;bottom:8px;max-width:124px;font-size:12px;line-height:24px;color:#c9c9c9;white-space:nowrap;text-overflow:ellipsis}': 1, '.tit_chextra{top:17px}': 1, '.emph_extra{top:17px}': 1, '.origin_item{bottom:5px}': 1, '.tit_banner{overflow:hidden;position:absolute;left:14px;right:14px;bottom:15px;font-weight:normal;font-size:11px;color:#fff;text-decoration:underline;text-align:center;white-space:nowrap;text-overflow:ellipsis}': 1, '.page_pctop{top:15px;right:15px;bottom:auto}': 1, '.btn_page{width:16px;height:16px;line-height:16px;background-position:-60px': 1, '.btn_next{width:15px;background-position:-76px': 1, '.list_chbest': 9, 'li{position:relative;width:154px;height:159px}': 1, '.thumb_g{z-index:0}': 1, '.link_chbest{position:absolute;top:0;left:0;width:154px;height:120px}': 1, '.tit_chbest{overflow:hidden;position:absolute;left:14px;right:14px;bottom:0;max-height:36px;font-weight:normal;font-size:13px;line-height:18px;color:#fff;word-break:keep-all;word-wrap:break-word}': 1, '.tit_chbest:hover{text-decoration:underline}': 1, '.link_channel{overflow:hidden;position:absolute;left:0;bottom:0;max-width:124px;height:25px;padding:2px': 1, '14px': 2, '10px;font-size:11px;line-height:23px;color:#c9c9c9;white-space:nowrap;text-overflow:ellipsis}': 1, '.thumb_channel{float:left;position:relative;margin:5px': 1, '.link_channel{padding:4px': 1, '.thumb_channel{margin-top:3px}': 1, '.box_infobnr{float:left;margin:0': 1, '.box_infobnr': 15, '.link_item{display:block;overflow:hidden;position:relative}': 1, '.link_item:hover{color:#222}': 1, '.thumb_g{z-index:-1;width:154px;height:154px;background-color:#fff}': 1, '.cont_item{overflow:hidden;position:absolute;top:8px;left:13px;right:7px}': 1, '.tit_item{display:inline-block;overflow:hidden;max-width:120px;padding-right:8px;font-weight:bold;background-position:100%': 1, '7px;white-space:nowrap;text-overflow:ellipsis;vertical-align:top}': 1, '.txt_info{display:block;overflow:hidden;margin-top:2px;white-space:nowrap;text-overflow:ellipsis}': 1, '.origin_item{display:block;overflow:hidden;margin-top:2px;font-size:12px;line-height:16px;color:#888;white-space:nowrap;text-overflow:ellipsis}': 1, '.cont_item{top:11px}': 1, '.tit_item{background-position:100%': 1, '.wrap_together': 6, '.thumb_g{height:159px}': 2, '.frame_g{height:157px}': 2, '.group_recomm{overflow:hidden;width:670px;clear:both}': 1, '.group_recomm': 7, '.box_story{float:left;width:295px;height:157px;margin-right:13px;padding:0': 1, '.box_best{width:629px;margin:0}': 1, '.box_best': 10, '.list_ranking{margin-top:7px}': 1, 'li{float:left;width:295px;padding:0': 1, '3px': 2, '.link_ranking': 2, '.txt_ranking{width:270px}': 1, '.num_pctop{margin-top:2px}': 2, '.best_img{width:148px;height:108px;margin:2px': 1, '0;padding:0}': 1, '.best_img': 7, '.link_ranking{position:relative;width:148px;height:108px;}': 1, '.thumb_g{width:148px;height:108px;}': 1, '.frame_g{width:146px;height:106px;}': 1, '.cont_item{position:absolute;top:0;left:0;width:148px;height:108px;background:url(//t1.daumcdn.net/daumtop_deco/images/top/2017/bg_plate9.png)': 1, '.num_pctop{position:absolute;top:0;left:0;margin:0}': 1, '.txt_ranking{position:absolute;right:12px;bottom:10px;left:11px;width:auto;color:#fff;white-space:normal}': 1, '.num_pctop,': 1, '.best_img{margin-top:0}': 1, '.txt_ranking{bottom:8px;left:12px}': 1, '.box_recomm': 6, '.list_recomm{overflow:hidden;width:321px;margin-top:11px}': 1, '.list_recomm': 4, 'li{float:left;width:140px;height:30px;margin:0': 1, '.link_recomm{display:inline-block;overflow:hidden;max-width:100%;line-height:30px;white-space:nowrap;text-overflow:ellipsis}': 1, '.thumb_recomm{float:left;width:30px;height:30px;margin-right:6px;vertical-align:top}': 1, '.thumb_recomm': 1, '.img_thumb{border-radius:30px}': 1, '.list_recomm{margin-top:9px}': 1, '.box_best{width:295px;margin:0}': 1, '.box_game{margin-right:0}': 1, '.box_infobnr{height:159px;margin-bottom:0}': 1, '.txt_info{margin:0': 1, '.box_wtrank{position:relative}': 1, '.box_wtrank': 1, '.tit_subject{position:absolute;top:0;left:11px;z-index:1}': 1, '.list_wtrank{margin-top:13px}': 1, '.list_wtrank': 16, 'li{margin-bottom:3px}': 1, '.fst{overflow:hidden;position:relative;height:62px;margin-bottom:9px;padding-top:20px;border-bottom:1px': 1, '.img_thumb{position:absolute;top:0;right:0;width:auto;height:83px;pointer-events:none}': 1, '.link_ranking{display:inline-block;overflow:hidden;line-height:18px;vertical-align:top}': 1, '.cont_item{overflow:hidden;width:140px}': 1, '.txt_ranking{display:block;overflow:hidden;max-width:200px;white-space:nowrap;text-overflow:ellipsis}': 1, '.txt_ranking{color:#118eff;text-decoration:underline}': 1, '.txt_ranking{max-height:36px;white-space:normal;word-break:keep-all;word-wrap:break-word}': 1, '.num_pctop{float:left;width:16px;height:16px;margin:3px': 1, 'li{margin-bottom:4px}': 1, '.fst{height:59px;margin-bottom:9px;padding-top:23px}': 1, '.box_music{padding-left:13px;height:157px}': 1, '.box_music': 5, '.head_item{overflow:hidden;padding:7px': 1, '11px;line-height:18px}': 1, '.head_item': 3, '.tit_subject{margin:0}': 1, '.txt_num{font-family:tahoma,arial,sans-serif;letter-spacing:0}': 1, '.list_music{overflow:hidden;width:627px}': 1, '.list_music': 22, 'li{float:left;position:relative;width:70px;margin-right:41px}': 1, 'li+li{margin-right:42px}': 1, 'li+li+li{margin-right:41px}': 1, 'li+li+li+li{margin-right:42px}': 1, 'li+li+li+li+li{margin-right:41px}': 1, 'li+li+li+li+li+li{margin-right:0}': 1, '.link_item{display:block;width:70px}': 1, '.thumb_g{width:70px;height:70px}': 1, '.frame_g{width:68px;height:68px}': 1, '.cont_item{display:block;padding-top:4px}': 1, '.tit_item{display:block;overflow:hidden;margin:0;font-weight:normal;line-height:16px;white-space:nowrap;text-overflow:ellipsis}': 1, '.tit_item:hover{color:#118eff;text-decoration:underline}': 1, '.origin_item{display:block;overflow:hidden;padding-top:1px;font-size:12px;line-height:18px;color:#888;white-space:nowrap;text-overflow:ellipsis}': 1, '.link_singer{color:#888}': 1, '.num_pctop{overflow:hidden;position:absolute;top:0;left:0;width:16px;height:16px;font-size:0;line-height:0;text-indent:-9999px}': 1, '.head_item{padding:10px': 1, '.txt_num{font-family:helvetica,arial,sans-serif}': 1, '.wrap_topic{width:990px;margin:0': 1, 'auto;padding:29px': 1, '45px}': 2, '.wrap_topic': 5, '.tit_photo{display:inline-block;overflow:hidden;height:36px;font-size:16px;line-height:33px;vertical-align:top;pointer-events:none}': 1, '.tit_photo': 1, 'a{pointer-events:auto}': 1, '.link_photoclip{display:inline-block;padding-right:11px;background-position:100%': 1, '-242px;white-space:nowrap;vertical-align:top}': 1, '.link_phototheme{display:inline-block;margin-right:6px;color:#118eff;vertical-align:top}': 1, '.view_photo{overflow:hidden;position:relative;width:990px;height:400px;margin-top:20px}': 1, '.view_photo': 27, '.list_photo{overflow:hidden;position:absolute;top:0}': 1, '.list_photo': 1, '.box_photo{display:block;overflow:hidden;width:682px;height:400px;background-color:#333;text-decoration:none;text-align:center}': 1, '.box_photo': 1, '.img_thumb{display:inline}': 1, '.detail_photo{display:none;position:absolute;top:0;left:50%;width:682px;margin-left:-341px;padding-top:330px}': 1, '.detail_photo': 2, '.frame_g{width:680px;height:398px}': 1, '.link_photo{display:block;overflow:hidden;position:relative;height:70px;background:url(//t1.daumcdn.net/daumtop_deco/images/top/2017/bg_plate_slide.png)': 1, '.link_photo:hover{text-decoration:none}': 1, '.link_photo': 5, '.ico_photo{position:absolute;top:18px;right:20px;width:17px;height:15px;background-position:-160px': 1, '-60px;text-indent:-9999px}': 1, '.tit_gallery{overflow:hidden;margin:14px': 1, '57px': 1, '20px;font-weight:normal;font-size:14px;color:#f4f4f4;text-decoration:none;white-space:nowrap;text-overflow:ellipsis}': 1, '.desc_source{display:block;padding:1px': 1, '20px;font-size:11px;color:#fff;opacity:0.6;filter:alpha(opacity=60)}': 1, '.txt_source{margin-right:10px}': 1, '.txt_date{font-family:Helvetica,tahoma,sans-serif}': 1, '.btn_preview{overflow:hidden;position:absolute;top:0;width:152px;height:400px;background:url(//t1.daumcdn.net/daumtop_deco/images/top/2017/bg_plate_slide2.png)': 1, 'no-repeat;text-decoration:none;cursor:pointer}': 1, '.btn_preview': 4, '.frame_g{width:150px;height:398px}': 1, '.ico_pctop{position:absolute;top:170px;width:60px;height:60px;text-indent:-9999px}': 1, '.btn_prev{left:0;border-right:2px': 1, '#fff}': 2, '.btn_prev': 2, '.ico_pctop{left:0;background-position:-190px': 1, '.btn_next{right:0;border-left:2px': 1, '.btn_next': 3, '.ico_pctop{right:0;background-position:-190px': 1, '.btn_gallery{background-color:#333}': 1, '.txt_gallery{display:none;padding:184px': 1, '71px;line-height:16px;color:#fff}': 1, '.btn_gallery': 1, '.txt_gallery{display:block}': 1, '.txt_gallery{padding-right:71px;padding-left:0;text-align:right}': 1, '.view_slide{overflow:hidden;position:relative;height:60px;margin-top:20px}': 1, '.view_slide': 66, '.list_thumbnail{overflow:hidden}': 1, '.list_thumbnail': 4, 'li{float:left;padding-left:2px}': 1, 'li.fst{padding-left:0}': 1, '.link_thumb{display:block;position:relative;width:60px;height:60px}': 1, '.frame_g{width:58px;height:58px;cursor:pointer}': 1, '.frame_g{width:56px;height:56px;border:2px': 1, '#118eff;opacity:1;filter:alpha(opacity=100)}': 1, '.cover_g{position:absolute;top:0;bottom:0;left:0;right:0;background:#fff;opacity:0.6;filter:alpha(opacity=60)}': 1, '.btn_move{position:absolute;top:0;width:20px;height:60px}': 1, '.btn_prev{left:0}': 1, '.btn_next{right:0}': 1, '.btn_move': 1, '.ico_pctop{display:block;width:20px;height:20px;margin-top:20px;text-indent:-9999px;cursor:pointer}': 1, '.ico_pctop{background-position:-190px': 1, '.ico_pctop{background-position:-220px': 1, '.tit_photo{line-height:39px}': 1, '.tit_gallery{margin-top:16px}': 1, '.desc_source{padding-top:2px}': 1, '.txt_gallery{padding-top:186px}': 1, '.vphoto_type2': 9, '.box_photo{width:990px}': 1, '.detail_photo{width:990px;margin-left:-495px}': 1, '.frame_g{width:988px}': 1, '.link_photo{background-repeat:': 1, 'repeat-x}': 1, '.btn_preview{top:140px;height:120px;border:0': 1, 'none;background:none}': 1, '.frame_g{display:none}': 1, '.ico_pctop{top:30px}': 1, '.txt_gallery{padding-top:43px}': 1, '.list_thumbnail2': 3, '.link_thumb{width:246px}': 1, '.frame_g{width:244px}': 1, '.frame_g{width:242px}': 1, '.list_thumbnail3': 9, '.link_thumb{overflow:hidden;width:196px}': 1, '.frame_g{width:194px}': 1, '.frame_g{width:192px}': 1, '.fst': 10, '.link_thumb,': 5, '.lst': 10, '.link_thumb{width:197px}': 1, '.frame_g,': 10, '.frame_g{width:195px}': 1, '.fst.on': 5, '.lst.on': 5, '.frame_g{width:193px}': 1, '.list_thumbnail4': 9, '.link_thumb{overflow:hidden;width:163px}': 1, '.frame_g{width:161px}': 1, '.frame_g{width:159px}': 1, '.link_thumb{width:164px}': 1, '.frame_g{width:162px}': 1, '.frame_g{width:160px}': 1, '.list_thumbnail5': 9, '.link_thumb{overflow:hidden;width:140px}': 1, '.frame_g{width:138px}': 1, '.frame_g{width:136px}': 1, '.link_thumb{width:139px}': 1, '.frame_g{width:137px}': 1, '.frame_g{width:135px}': 1, '.list_thumbnail6': 3, '.link_thumb{overflow:hidden;width:122px}': 1, '.frame_g{width:120px}': 1, '.frame_g{width:118px}': 1, '.list_thumbnail7': 9, '.link_thumb{overflow:hidden;width:108px}': 1, '.frame_g{width:106px}': 1, '.frame_g{width:104px}': 1, '.link_thumb{width:109px}': 1, '.frame_g{width:107px}': 1, '.frame_g{width:105px}': 1, '.list_thumbnail8': 9, '.link_thumb{overflow:hidden;width:97px}': 1, '.frame_g{width:95px}': 1, '.frame_g{width:93px}': 1, '.link_thumb{width:98px}': 1, '.frame_g{width:96px}': 1, '.frame_g{width:94px}': 1, '.txt_gallery{padding-top:46px}': 1, '.topic_spe{position:absolute;top:0;left:50%;width:990px;margin-left:-495px}': 1, '.topic_spe': 3, '.link_spe{overflow:hidden;position:absolute;top:0;width:464px;height:610px;font-size:1px;line-height:0;text-align:left;text-indent:-9999px}': 1, '.link_spe_left{left:-465px}': 1, '.link_spe_right{right:-465px}': 1, '.topic_type2{background-position:50%': 1, '.topic_type2': 14, '.headline_photo{overflow:hidden}': 1, '.headline_photo': 1, '.tit_photo{float:left}': 1, '.txt_sub1{overflow:hidden;padding:18px': 1, '2px;font-size:24px;line-height:28px;letter-spacing:-1px;white-space:nowrap;text-overflow:ellipsis;clear:both}': 1, '.link_gate1{float:right;overflow:hidden;height:36px;font-size:16px;line-height:33px;color:#fff}': 1, '.link_gate1': 1, '.ico_arrow{display:inline-block;width:8px;height:12px;margin:0': 1, '-2px': 1, '8px;background-position:-100px': 1, '-265px}': 1, '.txt_sub2{padding:11px': 1, '1px;font-size:22px;line-height:28px;letter-spacing:-1px;clear:both}': 1, '.txt_sub2': 1, '.info_subtxt{display:block;overflow:hidden;white-space:nowrap;text-overflow:ellipsis}': 1, '.link_gate2{display:inline-block;overflow:hidden;width:auto;height:16px;margin:14px': 1, '10px;padding:10px': 1, '16px;background-color:#222;font-size:14px;line-height:16px;color:#fff;vertical-align:top}': 1, '.link_gate2': 2, '.ico_arrow{display:inline-block;width:6px;height:10px;margin:4px': 1, '19px;background-position:-110px': 1, '-265px;vertical-align:top}': 1, '.txt_sub1{padding-top:22px}': 1, '.link_gate1{line-height:39px}': 1, '.txt_sub2{padding-top:16px;padding-bottom:0}': 1, '.link_gate2{margin-top:10px;padding-top:12px;padding-bottom:10px}': 1, '.ico_arrow{margin-top:2px}': 1, '.topicbg_wing{position:absolute;top:0;right:0;left:0;z-index:-1;min-width:990px;min-height:610px;height:100%}': 1, '.topicbg_wing': 3, '.bg_wing{position:absolute;min-width:960px;width:50%;height:100%;background-position:0': 1, '0;background-repeat:no-repeat}': 1, '.fr_wing{top:0;left:50%;background-position:100%': 1, '0;}': 1, '.fl_wing{bottom:0;left:0;background-position:0': 1, '.notice_layer{overflow:hidden;width:100%;border-bottom:1px': 1, '#ecf2f7;background-color:#f4faff}': 1, '.inner_notice_layer{overflow:hidden;position:relative;width:990px;height:110px;margin:0': 1, 'auto;background-image:url(//t1.daumcdn.net/daumtop_deco/images/top/2017/notice_start.png);background-repeat:no-repeat}': 1, '.inner_notice_layer1{background-position:100%': 1, '.inner_notice_layer': 6, '.set_start{float:left;padding-top:29px}': 1, '.txt_news{display:block;font-weight:normal;font-size:20px}': 1, '.link_start{overflow:hidden;float:left;margin-top:3px;padding-right:9px;font-size:12px;color:#888;background-position:100%': 1, '-197px;text-decoration:underline}': 1, '.btn_close{overflow:hidden;position:absolute;top:36px;right:0;width:20px;height:20px;background-position:-170px': 1, '-180px;text-indent:-9999px}': 1, '.set_start{padding-top:33px}': 1, '.link_start{margin-top:0}': 1, '.brower_guide_layer{overflow:hidden;width:100%;border-bottom:1px': 1, '#ededed;background-color:#fffbe6}': 1, '.inner_browser_layer{overflow:hidden;position:relative;padding:13px': 1, '0;width:990px;height:49px;margin:0': 1, 'auto;box-sizing:border-box}': 1, '.inner_browser_layer': 5, '.brower_guide_box{font-size:14px;color:#333}': 1, '.upgrade_link{color:#1a0dab;text-decoration:underline;font-weight:bold}': 1, '.ico_alram{overflow:hidden;display:inline-block;margin:1px': 1, '0;width:20px;height:20px;background-position:0': 1, '0;vertical-align:top;text-indent:-9999px}': 1, '.btn_close{overflow:hidden;position:absolute;top:50%;right:0;margin-top:-5px;width:10px;height:10px;background-position:-30px': 1, '.inner_browser_layer{padding:16px': 1, '.ico_alram{margin-top:0}': 1, '.mobileweb_layer{overflow:hidden;width:100%;padding-bottom:29px;border-top:1px': 1, '#ececec;background-color:#f2f2f2;text-align:center}': 1, '.mobileweb_layer': 7, '.txt_mobile{margin-top:18px;margin-left:13px;font-size:12px;color:#888}': 1, '.txt_mobile': 2, '.ico_info{display:inline-block;width:13px;height:13px;margin:3px': 1, '0;background-position:-170px': 1, '-120px;vertical-align:top}': 1, '.link_mobile{display:block;width:100px;height:30px;margin:12px': 1, '#dadbdd;font-weight:bold;font-size:13px;line-height:28px;color:#222;background-color:#fff}': 1, '.link_mobile:hover{text-decoration:none}': 1, '.txt_mobile{margin-top:22px;margin-left:-9px}': 1, '.ico_info{margin:1px': 1, '.link_mobile{margin-top:9px;line-height:31px}': 1, '@media': 1, 'only': 4, 'screen': 4, 'and': 4, '(-webkit-min-device-pixel-ratio:': 1, '1.5),': 2, '(min-device-pixel-ratio:': 1, '(min-resolution:': 2, '144dpi),': 1, '1.5dppx)': 1, '{': 13, '.ico_pctop{background-image:url(//t1.daumcdn.net/daumtop_deco/images/top/2017/rtn/ico_pctop_190618_v2.png);background-size:250px': 1, '310px}': 1, '.ico_vert{background-image:url(//t1.daumcdn.net/daumtop_deco/images/top/2017/rtn/ico_pctop_vert_170724.png);background-size:100px': 1, '500px}': 1, '.txt_pctop{background-image:url(//t1.daumcdn.net/daumtop_deco/images/top/2021/rtn/txt_pctop_210121.png);background-size:600px': 1, '480px}': 1, '.bg_pctop,': 1, '.login_my{background-image:url(//t1.daumcdn.net/daumtop_deco/images/top/2017/rtn/bg_pctop_190612.png);background-size:610px': 1, '490px}': 1, '.bg_login{background:url(//t1.daumcdn.net/daumtop_deco/images/top/2017/rtn/bg_login_190612.png)0': 1, 'no-repeat;background-size:300px': 1, '420px}': 1, '.num_pctop{background-image:url(//t1.daumcdn.net/daumtop_deco/images/top/2017/rtn/num_pctop_170405.png);background-size:80px': 1, '220px}': 1, '.inner_notice_layer{background-image:url(//t1.daumcdn.net/daumtop_deco/images/top/2017/rtn/notice_start.png);background-size:300px': 1, '110px}': 1, '.img_weather{background-image:url(//t1.daumcdn.net/daumtop_deco/images/top/2017/rtn/img_weather_170628.png);background-size:300px': 1, '460px}': 1, '.img_keyboard{background-image:url(//t1.daumcdn.net/daumtop_deco/images/top/2017/rtn/img_keyboard_171229.png);background-size:30px': 1, '160px}': 1, '.btn_keyboard{background-image:url(//t1.daumcdn.net/daumtop_deco/images/top/2017/rtn/img_kor_171226.png);background-size:431px': 1, '166px}': 8, '.btn_keyboard:active{background-image:url(//t1.daumcdn.net/daumtop_deco/images/top/2017/rtn/img_kor_hover_171226.png);background-size:431px': 1, '.btn_keyboard{background-image:url(//t1.daumcdn.net/daumtop_deco/images/top/2017/rtn/img_kor_shift_171229.png);background-size:431px': 1, '.btn_keyboard:active{background-image:url(//t1.daumcdn.net/daumtop_deco/images/top/2017/rtn/img_kor_shift_hover_171229.png);background-size:431px': 1, '.btn_keyboard{background-image:url(//t1.daumcdn.net/daumtop_deco/images/top/2017/rtn/img_eng_171226.png);background-size:431px': 1, '.btn_keyboard:active{background-image:url(//t1.daumcdn.net/daumtop_deco/images/top/2017/rtn/img_eng_hover_180122.png);background-size:431px': 1, '.btn_keyboard{background-image:url(//t1.daumcdn.net/daumtop_deco/images/top/2017/rtn/img_eng_shift_171226.png);background-size:431px': 1, '.btn_keyboard:active{background-image:url(//t1.daumcdn.net/daumtop_deco/images/top/2017/rtn/img_eng_shift_hover_171226.png);background-size:431px': 1, '.ico_pctop{background-image:url(//t1.daumcdn.net/daumtop_deco/images/top/2020/rtn/ico_pctop_login_201103.png);background-size:100px': 1, '40px}': 2, '.thumb_profile:after{background-image:url(//t1.daumcdn.net/daumtop_deco/images/top/2017/rtn/bg_profile_190612.png);background-size:45px': 1, '.ico_pctop2{background-image:url(//t1.daumcdn.net/daumtop_deco/images/top/2019/rtn/img_pctop_200207.png);background-size:100px': 1, '100px}': 2, '.ico_vert2{background-image:url(//t1.daumcdn.net/daumtop_deco/images/top/2019/rtn/img_pctop_vert_200107.png);background-size:20px': 1, '.ico_top_layer{background-image:url(//t1.daumcdn.net/daumtop_deco/images/top/2019/rtn/ico_top_layer.png);background-size:60px': 1, '.item_station{background-image:url(//t1.daumcdn.net/daumtop_deco/images/top/2019/rtn/bg_newslive_200107.png);background-size:66px': 1, '140px}': 1, '}': 10, '.list_hotissue': 7, '.roll_txt': 3, '-webkit-transition:': 5, 'transform': 20, '0s': 5, 'linear;': 5, '-moz-transition:': 5, '-ms-transition:': 5, '-o-transition:': 5, 'transition:': 5, '-webkit-transform:': 7, 'translateY(0);': 5, '-moz-transform:': 7, '-ms-transform:': 7, '-o-transform:': 7, 'transform:': 7, 'li.current': 3, 'translateY(-20px);': 5, '.3s': 15, 'ease-out;': 10, '.hotissue_mini': 5, 'translateY(0px);': 10, 'initial': 5, '!important;': 5, 'position:absolute;': 1, 'background-color:#fff;': 1, 'translateY(-28px);': 5, 'opacity:1;': 1, 'li.next': 1, 'opacity:0;': 1, 'translateY(28px);': 5, '#cEtc': 3, '.list_thumbnail{width:1858px}': 1, '.list_thumbnail[class^=\"list_thumbnail\"]{width:990px}': 1, '.list_photo{': 1, 'ease;': 5, 'translateX(0);': 5, '//<![CDATA[': 1, 'document.domain': 1, '=': 14, \"'daum.net';\": 1, 'var': 2, 'gvConfGen': 1, \"'g0';\": 1, 'DT': 2, '||': 1, '{};': 1, 'DT.SystemTime': 1, '1638024909392;': 1, 'TiaraTracker.getInstance()': 1, \".setSvcDomain('www.daum.net')\": 1, \".setSection('HOME')\": 1, \".setPage('default')\": 1, \".trackPage('다음_PC탑')\": 1, '.setAutoClick(true)': 1, '.track();': 1, 'DT.endTime': 1, 'new': 2, 'Date().getTime();': 2, 'DT.startTime': 1, '(function': 1, '()': 3, 'if': 1, \"(document.location.toString().indexOf('debug')\": 1, '===': 1, '-1)': 1, 'window.onerror': 1, 'function': 3, '(errorMsg,': 1, 'url,': 1, 'lineNumber)': 1, 'return': 1, 'true;': 3, '};': 3, '})();': 1, 'document.onkeydown': 1, 'DT.userAction': 2, 'document.onclick': 1, '//]]>': 1, '검색': 2, '통합': 1, '<button': 1, 'type=\"button\"': 1, 'class=\"img_keyboard': 1, 'btn_key\"': 1, 'style=\"display:none\"': 1, 'tabindex=\"2\"': 1, 'data-tiara-action-name=\"검색창_키보드\"': 1, 'data-tiara-layer=\"keyboard\"': 1, 'onclick=\"DT.VirtualKeyboard.call();return': 1, 'false;\">': 1, '인기': 1, '검색어': 1, '&lt;이전': 1, '&gt;다음': 1, '주요': 1, '서비스': 2, '전체': 1, '커뮤니케이션': 1, '미디어': 2, '쇼핑/생활': 1, '문화/엔터': 1, '소셜임팩트': 1, '사전/지식': 1, '지도': 1, '더보기': 1, '메뉴': 1, '11.': 1, '27.': 1, '(토)': 1, '맑음': 19, '영상': 17, '2도': 1, '0도': 3, '영하': 2, '-2도': 2, '4도': 3, '1도': 2, '3도': 2, '5도': 3, '6도': 1, '9도': 2, '현재': 1, '지역': 1, '날씨': 1, '미세먼지': 1, '통합대기': 1, 'X': 1, '<ins': 4, 'class=\"kakao_ad_area\"': 4, 'style=\"display:': 3, 'inline-block;\"': 3, 'data-ad-type=\"P\"': 3, 'data-ad-frame-id=\"adCgiMain\"': 1, 'data-ad-frame-name=\"adCgiMain\"': 1, 'data-ad-unit=\"DAN-1k1zi6towzodw\"': 1, 'data-ad-width=\"655\"': 1, 'data-ad-height=\"120\">': 1, '로그인': 1, '정보': 3, '뉴스': 1, 'data-tiara-imp_id=\"\"': 6, 'data-tiara-action-kind=\"ClickContent\"': 6, 'data-tiara-id=\"hamny-20211127224813933\"': 1, 'data-tiara-layer=\"newsbox_news1': 6, 'img\"': 2, 'data-tiara-action-name=\"뉴스1탭_이미지소재\"': 6, 'data-tiara-ordnum=\"1\"': 1, 'data-tiara-custom=\"c_id=hamny-20211127224813933&contentUniqueKey=hamny-20211127224813933\"': 1, 'data-tiara-type=\"11\"': 4, 'data-tiara-name=\"하모니\"': 4, 'data-tiara-provider=\"더팩트\"': 1, 'data-pool-code=\"p_news_img\"': 2, 'data-toros-ord-num=\"1\"': 1, 'data-imp-score=\"0.207264444\"': 1, 'class=\"link_item': 6, '@-1\">': 3, '백허그': 1, '이어': 1, '오늘은': 1, '든든한': 1, '받침대..김혜경의': 1, \"'내조유세'\": 1, '[TF사진관]': 1, 'data-tiara-id=\"hamny-20211127160602967\"': 1, 'data-tiara-ordnum=\"2\"': 1, 'data-tiara-custom=\"c_id=hamny-20211127160602967&contentUniqueKey=hamny-20211127160602967\"': 1, 'data-tiara-provider=\"서울신문\"': 2, 'data-toros-ord-num=\"3\"': 1, 'data-imp-score=\"0.0733204122\"': 1, '@-2\">': 3, '땅에': 1, '살던': 1, '매머드가': 1, '바닷속에?..3000m': 1, '심해서': 1, '발견된': 1, '상아[핵잼': 1, '사이언스]': 1, 'data-tiara-id=\"tv-334358917\"': 1, 'img': 4, 'leverage\"': 2, 'data-tiara-ordnum=\"3\"': 1, 'data-tiara-custom=\"c_id=tv-334358917&contentUniqueKey=tv-334358917\"': 1, 'data-tiara-type=\"22\"': 2, 'data-tiara-name=\"카카오TV\"': 2, 'data-tiara-provider=\"옷소매': 1, '붉은': 2, '끝동\"': 1, 'data-pool-code=\"p_news_leverage\"': 2, 'data-toros-ord-num=\"0\"': 4, 'data-imp-score=\"0.0\"': 4, \"'강훈이\": 1, '이세영을': 1, '따로': 1, \"만나?!'\": 1, '동요하는': 1, '이준호!,': 1, 'MBC': 1, '211127': 1, '방송': 1, 'data-tiara-id=\"tv-334355354\"': 1, 'data-tiara-ordnum=\"4\"': 1, 'data-tiara-custom=\"c_id=tv-334355354&contentUniqueKey=tv-334355354\"': 1, 'data-tiara-provider=\"K리그\"': 1, \"'슈퍼세이브!'\": 1, '뮬리치의': 1, '한': 2, '박자': 1, '빠른': 1, '슈팅을': 1, '막아내는': 1, '윤평국': 1, 'GK': 1, 'data-tiara-id=\"hamny-20211127150001128\"': 1, 'investigative\"': 2, 'data-tiara-ordnum=\"5\"': 1, 'data-tiara-custom=\"c_id=hamny-20211127150001128&contentUniqueKey=hamny-20211127150001128\"': 1, 'data-tiara-provider=\"머니투데이\"': 1, 'data-pool-code=\"p_news_investigative\"': 2, 'POLO': 1, '꽈배기': 1, '니트': 1, \"'직구\": 1, \"열풍'에..美\": 1, '폴로': 1, '\"한국': 1, '고객': 1, 'NO\"': 1, 'data-tiara-id=\"hamny-20211127100107426\"': 1, 'data-tiara-ordnum=\"6\"': 1, 'data-tiara-custom=\"c_id=hamny-20211127100107426&contentUniqueKey=hamny-20211127100107426\"': 1, '사과도': 1, '진상규명도': 1, '늦었던': 1, '형제복지원,': 1, \"'국가배상'도\": 1, '늑장': 1, '부릴까': 1, '[형제복지원': 1, '생존자,': 1, '다시': 1, '그곳을': 1, '말하다]': 1, '일반뉴스': 1, '뉴스홈': 1, 'ISSUE': 1, '연예': 1, '스포츠': 1, '영화': 1, '자동차': 1, '부동산': 1, '&lt;': 4, '이전': 4, '탭': 8, '&gt;': 4, '다음': 4, '멜론뮤직어워드': 3, '2021': 3, '[MMA2021]': 3, '아이유': 1, '-': 3, '레전드': 3, '무대': 3, '댓글': 2, '모음': 2, '그림자': 1, '미녀': 1, '드디어': 1, '밝혀진': 1, '범인의': 1, '정체!': 1, '최보민': 1, '앞에': 1, '무릎': 1, '꿇은...': 1, '임영웅': 1, 'WINNER': 1, '댓글...': 1, '옷소매': 1, '끝동': 1, '[5회': 1, '요약본]': 1, '＂제': 1, '목숨이': 1, '다하는': 1, '그날까지': 1, '저하를...': 1, '불후의': 1, '명곡2': 1, '전설을': 1, '노래...': 1, '팝핀현준의': 1, '영혼을': 1, '흔든': 1, '사람!': 1, '바로': 1, '박애리♡': 1, '단아...': 1, '더솔져스': 2, '[12월': 1, '3일': 1, '예고]': 1, '글로벌': 1, '팀장들과': 1, '함께하는': 1, '치열...': 1, '&lsquo;스웨덴&rsquo;': 1, '요한': 1, '팀장,': 1, '다른': 1, '요원들에게': 1, '요령': 1, '전수한...': 1, '피할': 1, '수': 1, '없는': 1, '개그': 1, '판정의': 1, '시간!': 1, '김대희': 1, '팀': 2, 'vs...': 1, '제대로': 1, '흑화한': 1, '입주': 1, '청소': 1, '부부ㄷㄷ': 1, '돈도': 1, '받고': 1, '귀금속...': 1, '노력은': 1, '배신하지': 1, '않는다!': 1, '신인': 1, '2라운드': 1, '진출!...': 1, '남보다': 1, '못한': 1, '아들..^^': 1, '고자질과': 1, '싸움이': 1, '난무하는...': 1, '블로그': 1, '카페': 4, '브런치': 1, '티스토리': 1, '세종': 1, '&#39;제주도화&#39;': 1, '솔직후기': 1, '[적묘의': 1, '고양이]할묘니의': 1, '어이가출,언박싱,화난': 1, '고양이,삐진': 1, '노묘,파프리카가': 1, '잘못했네': 1, '[병점,': 1, '동탄]': 1, '아스타나': 1, '방문': 1, '후기_동탄': 1, '추천': 1, '느타리버섯': 1, '파프리카': 1, '볶음': 1, '초간단': 1, '반찬만들기': 1, '카카오스토리': 1, '유익한': 1, '70년대': 1, '한국': 1, '모습과': 1, '똑': 1, '닮은': 1, '나라': 1, '냉동실에': 1, '가득한': 1, '&#39;이것&#39;': 1, '위험합니다': 1, '50cm': 1, '철장': 1, '안에서': 1, '일어난': 1, '비극': 1, 'CJENM': 1, '태어나자마자': 1, '뇌출혈이': 1, '발생해서': 1, '그만&hellip;': 1, '겨울철': 1, '전기장판의': 1, '두': 1, '얼굴': 1, '당신은': 1, '몰랐던': 1, '우유': 1, '잔의': 1, '놀라운': 1, '효능': 1, '이런': 1, '생리대를': 1, '계속': 1, '썼다간': 1, '벌어질': 1, '일': 1, 'EBS나눔0700': 1, '24시간,': 1, '엎드려': 1, '사는': 1, '희경': 1, '씨의': 1, '사연': 1, 'data-tiara-action-name=\"광고_로그인박스': 1, '하단_브랜드': 1, '스테이션\"': 1, 'data-tiara-layer=\"promotion': 1, 'right_top': 1, 'ad_300x150\"': 1, 'data-ad-frame-id=\"adCgiBrandingStation\"': 1, 'data-ad-frame-name=\"adCgiBrandingStation\"': 1, 'data-ad-unit=\"DAN-soppcwfqiuzn\"': 1, 'data-ad-width=\"300\"': 2, 'data-ad-height=\"150\">': 2, '쇼핑': 1, 'style=\"display:none;width:100%;\"': 1, 'data-ad-unit': 1, '\"DAN-1iukvl9et8nz6\"': 1, 'data-ad-width': 1, '\"300\"': 1, 'data-ad-height': 1, '\"777\">': 1, 'data-ad-unit=\"DAN-1jenqvzz5ougk\"': 1, 'class=\"cont_topic\"': 1, 'data-more=\"news|5024184,sports|5106478,sports|13132,news|379,entertain|50920\"': 1, 'style=\"visibility:hidden;\">': 1, '공지사항': 1}\n"
     ]
    },
    {
     "ename": "UnicodeDecodeError",
     "evalue": "'cp949' codec can't decode byte 0xe2 in position 114: illegal multibyte sequence",
     "output_type": "error",
     "traceback": [
      "\u001b[1;31m---------------------------------------------------------------------------\u001b[0m",
      "\u001b[1;31mUnicodeDecodeError\u001b[0m                        Traceback (most recent call last)",
      "\u001b[1;32m~\\AppData\\Local\\Temp/ipykernel_1432/4151646379.py\u001b[0m in \u001b[0;36m<module>\u001b[1;34m\u001b[0m\n\u001b[0;32m     80\u001b[0m \u001b[1;33m\u001b[0m\u001b[0m\n\u001b[0;32m     81\u001b[0m \u001b[0mf\u001b[0m \u001b[1;33m=\u001b[0m \u001b[0mopen\u001b[0m\u001b[1;33m(\u001b[0m\u001b[1;34m'kr.txt'\u001b[0m\u001b[1;33m,\u001b[0m\u001b[1;34m'r'\u001b[0m\u001b[1;33m)\u001b[0m\u001b[1;33m\u001b[0m\u001b[1;33m\u001b[0m\u001b[0m\n\u001b[1;32m---> 82\u001b[1;33m \u001b[0mstrings\u001b[0m \u001b[1;33m=\u001b[0m \u001b[0mf\u001b[0m\u001b[1;33m.\u001b[0m\u001b[0mread\u001b[0m\u001b[1;33m(\u001b[0m\u001b[1;33m)\u001b[0m\u001b[1;33m\u001b[0m\u001b[1;33m\u001b[0m\u001b[0m\n\u001b[0m\u001b[0;32m     83\u001b[0m \u001b[1;33m\u001b[0m\u001b[0m\n\u001b[0;32m     84\u001b[0m \u001b[0mstrings\u001b[0m \u001b[1;33m=\u001b[0m \u001b[0mstrings\u001b[0m\u001b[1;33m.\u001b[0m\u001b[0msplit\u001b[0m\u001b[1;33m(\u001b[0m\u001b[1;34m'\\n'\u001b[0m\u001b[1;33m)\u001b[0m\u001b[1;33m\u001b[0m\u001b[1;33m\u001b[0m\u001b[0m\n",
      "\u001b[1;31mUnicodeDecodeError\u001b[0m: 'cp949' codec can't decode byte 0xe2 in position 114: illegal multibyte sequence"
     ]
    }
   ],
   "source": [
    "import re\n",
    "import requests\n",
    "req = requests.get('http://www.daum.net', verify=False)\n",
    "source = req.text\n",
    "\n",
    "\n",
    "a = source.split(\"\\n\") # 줄내림 제거\n",
    "listb = []\n",
    "final = []\n",
    "\n",
    "for i in range(0, len(a)-1) :\n",
    "    listb.append(a[i].strip()) # 요소 앞뒤의 공백문자 제거\n",
    "\n",
    "\n",
    "for i in range(1, len(listb)-1) :\n",
    "    if (listb[i].startswith(('<!', '//-->', '</'))) :\n",
    "        continue\n",
    "    if (listb[i].startswith(('<html', '<script', '<head', '<meta', '<title', '</', '<form'))) :\n",
    "        continue\n",
    "    if (listb[i].startswith(('<input'))) :\n",
    "        continue\n",
    "    if (listb[i].startswith(('<body', '<span', '<li', '<div', '<ul', '<aside', '<a href='))) :\n",
    "        continue\n",
    "    if (listb[i].startswith(('<!'))) :\n",
    "        continue\n",
    "    final.append(listb[i]) \n",
    "    \n",
    "    # 일차적으로 html 태그를 줄임\n",
    "    \n",
    "final2=[]\n",
    "\n",
    "for i in range(0, len(final)-1) :\n",
    "    \n",
    "    final[i] = re.sub('</?[\\w*].>', '',final[i])\n",
    "    final[i] = re.sub('<.*=\".*\">', '',final[i])     \n",
    "    final[i] = re.sub('</?.*/?>', '',final[i])    \n",
    "    final[i] = re.sub('<p id=\".*\">', '',final[i])     \n",
    "\n",
    "    # 남은 html 태그들을 정규식을 이용해 제거\n",
    "    \n",
    "final2 = []    \n",
    "    \n",
    "for i in range(0, len(final)-1) :\n",
    "    if final[i] == '' :\n",
    "        continue\n",
    "    final2.append(final[i])\n",
    "\n",
    "    # 리스트 내의 공백 요소들을 제거\n",
    "    \n",
    "listA = []\n",
    "output = []   \n",
    "\n",
    "for i in range(0, len(final2)-1) :\n",
    "    listA.append(final2[i].split())\n",
    "\n",
    "    # listA에 공백 문자로 나누어진 요소를 넣음\n",
    "    \n",
    "for A in listA :\n",
    "    output += A\n",
    "    \n",
    "    # 중첩된 리스트를 풀고 일차원 리스트로 전환\n",
    " \n",
    "fre = dict()\n",
    "\n",
    "# 빈도 출력\n",
    "\n",
    "for i in output:\n",
    "    fre[i] = 0\n",
    "for i in fre.keys():\n",
    "    for j in output:\n",
    "        if ( j == i):\n",
    "            fre[i]+=1\n",
    "            \n",
    "            \n",
    "print(fre)\n",
    "\n",
    "# 한글 불용어 제거\n",
    "\n",
    "lst = []\n",
    "\n",
    "f = open('kr.txt','r')\n",
    "strings = f.read()\n",
    "\n",
    "strings = strings.split('\\n')\n",
    "\n",
    "for i in fre.keys():\n",
    "    lst.append(i) # 빈 리스트에 추가해서\n",
    "    \n",
    "for i in lst :\n",
    "    for j in strings :\n",
    "        if i == j : # 불용어 리스트와 같으면 제거\n",
    "            del fre[i]\n",
    "            break\n",
    "            \n",
    "f.close()\n",
    "\n",
    "# 영어 불용어 제거\n",
    "\n",
    "lst2 = []\n",
    "\n",
    "f2 = open('en.txt','r')\n",
    "strings2 = f2.read()\n",
    "\n",
    "strings2 = strings2.split('\\n')\n",
    "\n",
    "for i in fre.keys():\n",
    "    lst2.append(i) # 빈 리스트에 추가해서\n",
    "    \n",
    "for i in lst2 :\n",
    "    for j in strings2 :\n",
    "        if i == j : # 불용어 리스트와 같으면 제거\n",
    "            del fre[i]\n",
    "            break\n",
    "            \n",
    "f2.close()\n",
    "\n",
    "#======#\n",
    "\n",
    "# print(output)\n",
    "print(\"해당 웹페이지의 단어 개수는 \", len(output), \"개 입니다.\", sep=\"\")"
   ]
  },
  {
   "cell_type": "markdown",
   "id": "51782462",
   "metadata": {},
   "source": [
    " ## 소감  \n",
    " 주피터 노트북을 이용하면 계속해서 블루스크린이 발생해 특히 많은 어려움을 겪었다. 그렇지만 로그인 시스템 만들기 문제는 재미있었던 것 같다. 이번에는 시간이 꼬여 제대로 수행하지 못했지만 다음에는 어떻게 incrumental 과제를 어떻게든 제대로 수행해야겠다."
   ]
  }
 ],
 "metadata": {
  "kernelspec": {
   "display_name": "Python 3 (ipykernel)",
   "language": "python",
   "name": "python3"
  },
  "language_info": {
   "codemirror_mode": {
    "name": "ipython",
    "version": 3
   },
   "file_extension": ".py",
   "mimetype": "text/x-python",
   "name": "python",
   "nbconvert_exporter": "python",
   "pygments_lexer": "ipython3",
   "version": "3.9.7"
  }
 },
 "nbformat": 4,
 "nbformat_minor": 5
}
